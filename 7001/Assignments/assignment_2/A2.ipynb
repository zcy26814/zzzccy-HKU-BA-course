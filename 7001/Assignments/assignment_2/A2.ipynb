{
 "cells": [
  {
   "cell_type": "markdown",
   "metadata": {},
   "source": [
    "# ZHOU CHENGYANG\n",
    "# 3036167854"
   ]
  },
  {
   "cell_type": "markdown",
   "metadata": {},
   "source": [
    "## Q1 - six-digit consecutive numbers in pi"
   ]
  },
  {
   "cell_type": "code",
   "execution_count": 6,
   "metadata": {},
   "outputs": [],
   "source": [
    "import re"
   ]
  },
  {
   "cell_type": "code",
   "execution_count": 7,
   "metadata": {},
   "outputs": [],
   "source": [
    "consecutive_strings = [\"123456\", \"234567\", \"345678\", \"456789\", \"567890\", \"678901\", \"789012\", \"890123\", \"901234\", \"012345\"]\n",
    "\n",
    "sixdigit1 = []\n",
    "sixdigit = []\n",
    "\n",
    "with open(\"pi_million_digits.txt\", 'r') as handle:\n",
    "    data = re.findall(r\"\\d+\", handle.read())\n",
    "    data = \"\".join(data)\n",
    "\n",
    "    for i in range(len(data)-5):\n",
    "        if data[i:i + 6] in consecutive_strings:\n",
    "            sixdigit1.append(data[i:i + 6])\n",
    "    \n",
    "    for i in range(len(sixdigit1)):\n",
    "        if not sixdigit1[i] in sixdigit:\n",
    "            sixdigit.append(sixdigit1[i]) \n"
   ]
  },
  {
   "cell_type": "code",
   "execution_count": 8,
   "metadata": {},
   "outputs": [
    {
     "name": "stdout",
     "output_type": "stream",
     "text": [
      "7\n"
     ]
    }
   ],
   "source": [
    "print(len(sixdigit))"
   ]
  },
  {
   "cell_type": "code",
   "execution_count": 9,
   "metadata": {},
   "outputs": [
    {
     "name": "stdout",
     "output_type": "stream",
     "text": [
      "['678901', '234567', '456789', '012345', '890123', '567890', '345678']\n"
     ]
    }
   ],
   "source": [
    "print(sixdigit)"
   ]
  },
  {
   "cell_type": "markdown",
   "metadata": {},
   "source": [
    "## Q2 - HK fitness track"
   ]
  },
  {
   "cell_type": "code",
   "execution_count": 1,
   "metadata": {},
   "outputs": [],
   "source": [
    "import json\n",
    "import re\n",
    "import csv"
   ]
  },
  {
   "cell_type": "code",
   "execution_count": 2,
   "metadata": {},
   "outputs": [],
   "source": [
    "tracks = []\n",
    "\n",
    "with open(\"hk_tracks.json\", \"r\", encoding='utf-8') as handle:\n",
    "    datas = json.load(handle)\n",
    "    for data in datas:\n",
    "        name = data[\"Title\"]\n",
    "        region = data[\"Region\"].split(\", \")\n",
    "        # information = re.findall(r\"\\d+\\.?\\d*\", data[\"Information\"]) # '\\d+'\n",
    "        information = re.findall(\"\\d+\", data[\"Information\"])\n",
    "        # coordinates = re.findall(r\"\\d+\\.?\\d*\", data[\"Coordinates\"]) # '[0-9.]+'\n",
    "        coordinates = re.findall(\"[0-9.]+\", data[\"Coordinates\"])\n",
    "        for i in range(len(coordinates)):\n",
    "            coordinates[i] = float(coordinates[i])\n",
    "\n",
    "        tracks.append([name] + region + coordinates + information)\n",
    "\n",
    "with open(\"Q2_tracks.csv\", \"w\", newline=\"\") as handle:\n",
    "    writer = csv.writer(handle)\n",
    "    writer.writerow([\"name\", \"district\", \"area\", \"latitude\", \"longitude\", \"length\", \"mincal\", \"maxcal\"])\n",
    "    writer.writerows(tracks)"
   ]
  },
  {
   "cell_type": "code",
   "execution_count": 3,
   "metadata": {},
   "outputs": [
    {
     "name": "stdout",
     "output_type": "stream",
     "text": [
      "34\n"
     ]
    }
   ],
   "source": [
    "print(len(tracks))"
   ]
  },
  {
   "cell_type": "code",
   "execution_count": 4,
   "metadata": {},
   "outputs": [
    {
     "name": "stdout",
     "output_type": "stream",
     "text": [
      "[['Ap Lei Chau Wind Tower Park', 'Southern', 'Hong Kong Island', 22.24472222, 114.1525, '1200', '50', '60'], ['Sun Yat Sen Memorial Park to Central Pier No.7', 'Central and Western', 'Hong Kong Island', 22.290402, 114.143783, '2430', '95', '115'], ['Hong Kong Park', 'Central and Western', 'Hong Kong Island', 22.27714, 114.163813, '1200', '45', '50'], ['Wan Chai Park', 'Wan Chai', 'Hong Kong Island', 22.275472, 114.176008, '321', '10', '15'], ['Bowen Road', 'Wan Chai', 'Hong Kong Island', 22.272853, 114.166083, '3000', '155', '185']]\n"
     ]
    }
   ],
   "source": [
    "print(tracks[:5])"
   ]
  },
  {
   "cell_type": "code",
   "execution_count": 5,
   "metadata": {},
   "outputs": [
    {
     "name": "stdout",
     "output_type": "stream",
     "text": [
      "[['Tsuen Wan Park', 'Tsuen Wan', 'New Territories', 22.364895, 114.112451, '2100', '85', '100'], ['Tsing Yi Park', 'Kwai Tsing', 'New Territories', 22.356678, 114.106163, '1200', '50', '60'], ['Tsing Yi Promenade', 'Kwai Tsing', 'New Territories', 22.363127, 114.105045, '1250', '50', '60'], ['Cheung Chau Sports Ground', 'Islands', 'New Territories', 22.206486, 114.032803, '250', '10', '15'], ['Tung Chung North Park and Man Tung Road Park', 'Islands', 'New Territories', 22.292443, 113.950924, '1200', '50', '60']]\n"
     ]
    }
   ],
   "source": [
    "print(tracks[-5:])"
   ]
  },
  {
   "cell_type": "markdown",
   "metadata": {},
   "source": [
    "## Q3 - CE policy address"
   ]
  },
  {
   "cell_type": "code",
   "execution_count": 15,
   "metadata": {},
   "outputs": [],
   "source": [
    "import json\n",
    "import re"
   ]
  },
  {
   "cell_type": "code",
   "execution_count": 16,
   "metadata": {},
   "outputs": [],
   "source": [
    "top_words = {}\n",
    "stop_words = ['s']\n",
    "with open(\"stop_words.txt\", \"r\") as handle:\n",
    "    stop_words += handle.read().splitlines()\n",
    "\n",
    "with open(\"policy.txt\", 'r', encoding=\"utf-8\") as handle:\n",
    "    data = handle.read()\n",
    "    \"s\".lower()\n",
    "    words = re.findall(r\"[A-Za-z]+\", data) # '[a-zA-Z]{2,}'\n",
    "    for word in words:\n",
    "        if word.lower() not in stop_words:\n",
    "            word = word.upper()\n",
    "            if word in top_words:\n",
    "                top_words[word] += 1\n",
    "            else:\n",
    "                top_words[word] = 1\n",
    "top_words = sorted(top_words.items(), key=lambda kv:(kv[1], kv[0]), reverse=True)\n",
    "\n",
    "top20words = {}\n",
    "for i in range(20):\n",
    "    top20words[top_words[i][0]] = top_words[i][1]\n",
    "with open(\"Q3_top20words.json\", 'w') as handle:\n",
    "    json.dump(top20words, handle)"
   ]
  },
  {
   "cell_type": "code",
   "execution_count": 17,
   "metadata": {},
   "outputs": [
    {
     "name": "stdout",
     "output_type": "stream",
     "text": [
      "20\n"
     ]
    }
   ],
   "source": [
    "print(len(top20words))"
   ]
  },
  {
   "cell_type": "code",
   "execution_count": 18,
   "metadata": {},
   "outputs": [
    {
     "name": "stdout",
     "output_type": "stream",
     "text": [
      "{'GOVERNMENT': 60, 'KONG': 51, 'HONG': 51, 'HOUSING': 35, 'POLICY': 32, 'DEVELOPMENT': 27, 'PUBLIC': 24, 'YEAR': 23, 'NEW': 23, 'LAND': 22, 'ADDRESS': 22, 'PEOPLE': 21, 'TERM': 17, 'SUPPORT': 14, 'SCHEME': 14, 'CURRENT': 14, 'RESOURCES': 13, 'EXECUTIVE': 13, 'ECONOMIC': 13, 'CHIEF': 13}\n"
     ]
    }
   ],
   "source": [
    "print(top20words) "
   ]
  },
  {
   "cell_type": "markdown",
   "metadata": {},
   "source": [
    "## Q4 - password generator"
   ]
  },
  {
   "cell_type": "code",
   "execution_count": 19,
   "metadata": {},
   "outputs": [],
   "source": [
    "import random\n",
    "import string"
   ]
  },
  {
   "cell_type": "code",
   "execution_count": 20,
   "metadata": {},
   "outputs": [],
   "source": [
    "def password_gen(num):\n",
    "    \n",
    "    if isinstance(num, int) and 8 <= num <= 16:\n",
    "        password = [random.choice(string.ascii_lowercase), random.choice(string.ascii_uppercase), random.choice(string.digits), random.choice(\"_$!?\")]\n",
    "        chars = string.ascii_lowercase + string.ascii_uppercase + string.digits + \"_$!?\"\n",
    "        password += [random.choice(chars) for _ in range(num - 4)]\n",
    "        random.shuffle(password)\n",
    "        password = \"\".join(password)\n",
    "\n",
    "    else:\n",
    "        password = 'WARNING: please enter an integer number between 8 and 16.'\n",
    "\n",
    "    return password"
   ]
  },
  {
   "cell_type": "code",
   "execution_count": 21,
   "metadata": {},
   "outputs": [
    {
     "data": {
      "text/plain": [
       "'WARNING: please enter an integer number between 8 and 16.'"
      ]
     },
     "execution_count": 21,
     "metadata": {},
     "output_type": "execute_result"
    }
   ],
   "source": [
    "password_gen('8')"
   ]
  },
  {
   "cell_type": "code",
   "execution_count": 22,
   "metadata": {},
   "outputs": [
    {
     "data": {
      "text/plain": [
       "'wz8EmT4?'"
      ]
     },
     "execution_count": 22,
     "metadata": {},
     "output_type": "execute_result"
    }
   ],
   "source": [
    "password_gen(8)"
   ]
  },
  {
   "cell_type": "code",
   "execution_count": 23,
   "metadata": {},
   "outputs": [
    {
     "data": {
      "text/plain": [
       "'WARNING: please enter an integer number between 8 and 16.'"
      ]
     },
     "execution_count": 23,
     "metadata": {},
     "output_type": "execute_result"
    }
   ],
   "source": [
    "password_gen(9.6)"
   ]
  },
  {
   "cell_type": "code",
   "execution_count": 24,
   "metadata": {},
   "outputs": [
    {
     "data": {
      "text/plain": [
       "'CY$8npoDq4'"
      ]
     },
     "execution_count": 24,
     "metadata": {},
     "output_type": "execute_result"
    }
   ],
   "source": [
    "password_gen(10)"
   ]
  },
  {
   "cell_type": "code",
   "execution_count": 25,
   "metadata": {},
   "outputs": [
    {
     "data": {
      "text/plain": [
       "'2E3jiMG?Nrxtp'"
      ]
     },
     "execution_count": 25,
     "metadata": {},
     "output_type": "execute_result"
    }
   ],
   "source": [
    "password_gen(13)"
   ]
  },
  {
   "cell_type": "code",
   "execution_count": 26,
   "metadata": {},
   "outputs": [
    {
     "data": {
      "text/plain": [
       "'WARNING: please enter an integer number between 8 and 16.'"
      ]
     },
     "execution_count": 26,
     "metadata": {},
     "output_type": "execute_result"
    }
   ],
   "source": [
    "password_gen(20)"
   ]
  }
 ],
 "metadata": {
  "kernelspec": {
   "display_name": "Python 3",
   "language": "python",
   "name": "python3"
  },
  "language_info": {
   "codemirror_mode": {
    "name": "ipython",
    "version": 3
   },
   "file_extension": ".py",
   "mimetype": "text/x-python",
   "name": "python",
   "nbconvert_exporter": "python",
   "pygments_lexer": "ipython3",
   "version": "3.11.4"
  },
  "orig_nbformat": 4
 },
 "nbformat": 4,
 "nbformat_minor": 2
}
