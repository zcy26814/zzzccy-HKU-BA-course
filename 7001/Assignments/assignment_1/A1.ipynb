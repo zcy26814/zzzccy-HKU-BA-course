{
  "cells": [
    {
      "cell_type": "markdown",
      "metadata": {
        "id": "secxFI-dcntf"
      },
      "source": [
        "# ZHOU CHENGYANG\n",
        "# 3036167854"
      ]
    },
    {
      "cell_type": "markdown",
      "metadata": {
        "id": "M2yS3GnScntg"
      },
      "source": [
        "## Q1 - star matrix"
      ]
    },
    {
      "cell_type": "code",
      "execution_count": 1,
      "metadata": {
        "id": "7xFW0EDEcntg"
      },
      "outputs": [],
      "source": [
        "def star(a, b):\n",
        "\n",
        "    c = (b - 1) / 2\n",
        "    d = b - c\n",
        "\n",
        "    for i in range(a):\n",
        "        if i%2 == 0:\n",
        "            for j in range(int(d)):\n",
        "                print('*','',end='')\n",
        "        else:\n",
        "            for j in range(int(c)):\n",
        "                print('','*',end='')\n",
        "        print()"
      ]
    },
    {
      "cell_type": "code",
      "execution_count": 2,
      "metadata": {
        "colab": {
          "base_uri": "https://localhost:8080/"
        },
        "id": "mtbnU_BKcnth",
        "outputId": "03fa62df-f134-41fa-847d-9f9b1c147e6b"
      },
      "outputs": [
        {
          "name": "stdout",
          "output_type": "stream",
          "text": [
            "* * * * \n",
            " * * *\n",
            "* * * * \n",
            " * * *\n",
            "* * * * \n"
          ]
        }
      ],
      "source": [
        "star(5, 7)"
      ]
    },
    {
      "cell_type": "code",
      "execution_count": 3,
      "metadata": {
        "colab": {
          "base_uri": "https://localhost:8080/"
        },
        "id": "1DWuKpTScnti",
        "outputId": "5f16aa44-a029-4a32-bae0-02e175f7fea3"
      },
      "outputs": [
        {
          "name": "stdout",
          "output_type": "stream",
          "text": [
            "* * * * * * \n",
            " * * * * *\n",
            "* * * * * * \n",
            " * * * * *\n",
            "* * * * * * \n",
            " * * * * *\n",
            "* * * * * * \n"
          ]
        }
      ],
      "source": [
        "star(7, 11)"
      ]
    },
    {
      "cell_type": "markdown",
      "metadata": {
        "id": "mSAlFnZZcnti"
      },
      "source": [
        "## Q2 – number pattern"
      ]
    },
    {
      "cell_type": "code",
      "execution_count": 4,
      "metadata": {
        "id": "eL21ZLb_cnti"
      },
      "outputs": [],
      "source": [
        "def pattern(a, b):\n",
        "\n",
        "    c = a\n",
        "    d = b - a\n",
        "\n",
        "    if (a > b) or (a < 1) or (b < 1) or (a > 9) or (b > 9):\n",
        "        print('***REMINDER: Please make sure the two arguments are between 1 and 9, and that the 2nd argument is greater than the 1st one.***')\n",
        "    else:\n",
        "        for i in range(a):\n",
        "            for j in range(c-1):\n",
        "                print(c, end='')\n",
        "            print(c,end=' ')\n",
        "            for k in range(d):\n",
        "                print(d, end='')\n",
        "            print('')\n",
        "            c -= 1\n",
        "            d += 1"
      ]
    },
    {
      "cell_type": "code",
      "execution_count": 5,
      "metadata": {
        "colab": {
          "base_uri": "https://localhost:8080/"
        },
        "id": "qxW9-Qklcnti",
        "outputId": "440a1a9c-e31d-450c-e345-def741c7d1cd"
      },
      "outputs": [
        {
          "name": "stdout",
          "output_type": "stream",
          "text": [
            "***REMINDER: Please make sure the two arguments are between 1 and 9, and that the 2nd argument is greater than the 1st one.***\n"
          ]
        }
      ],
      "source": [
        "pattern(6, 1)"
      ]
    },
    {
      "cell_type": "code",
      "execution_count": 6,
      "metadata": {
        "colab": {
          "base_uri": "https://localhost:8080/"
        },
        "id": "CCYX6KBZcnti",
        "outputId": "e7b106f7-5d15-4593-dd58-13b0e0e90dad"
      },
      "outputs": [
        {
          "name": "stdout",
          "output_type": "stream",
          "text": [
            "***REMINDER: Please make sure the two arguments are between 1 and 9, and that the 2nd argument is greater than the 1st one.***\n"
          ]
        }
      ],
      "source": [
        "pattern(0, 7)"
      ]
    },
    {
      "cell_type": "code",
      "execution_count": 7,
      "metadata": {
        "colab": {
          "base_uri": "https://localhost:8080/"
        },
        "id": "IYaVNR_Vcnti",
        "outputId": "3852131d-3714-4aae-93bb-7607bb585e93"
      },
      "outputs": [
        {
          "name": "stdout",
          "output_type": "stream",
          "text": [
            "***REMINDER: Please make sure the two arguments are between 1 and 9, and that the 2nd argument is greater than the 1st one.***\n"
          ]
        }
      ],
      "source": [
        "pattern(5, 12)"
      ]
    },
    {
      "cell_type": "code",
      "execution_count": 8,
      "metadata": {
        "colab": {
          "base_uri": "https://localhost:8080/"
        },
        "id": "BNRhxir8cnti",
        "outputId": "690c88da-e574-4ba6-a1b8-65d2e5da7958"
      },
      "outputs": [
        {
          "name": "stdout",
          "output_type": "stream",
          "text": [
            "1 22\n"
          ]
        }
      ],
      "source": [
        "pattern(1, 3)"
      ]
    },
    {
      "cell_type": "code",
      "execution_count": 9,
      "metadata": {
        "colab": {
          "base_uri": "https://localhost:8080/"
        },
        "id": "1CuDWGQtcntj",
        "outputId": "977a64b3-8691-4f0f-cb42-85da6917c60d"
      },
      "outputs": [
        {
          "name": "stdout",
          "output_type": "stream",
          "text": [
            "55555 333\n",
            "4444 4444\n",
            "333 55555\n",
            "22 666666\n",
            "1 7777777\n"
          ]
        }
      ],
      "source": [
        "pattern(5, 8)"
      ]
    },
    {
      "cell_type": "code",
      "execution_count": 10,
      "metadata": {
        "colab": {
          "base_uri": "https://localhost:8080/"
        },
        "id": "3mNvZYoucntj",
        "outputId": "f0a17a5b-3e99-4cf8-c3b8-9fd459c6b206"
      },
      "outputs": [
        {
          "name": "stdout",
          "output_type": "stream",
          "text": [
            "88888888 1\n",
            "7777777 22\n",
            "666666 333\n",
            "55555 4444\n",
            "4444 55555\n",
            "333 666666\n",
            "22 7777777\n",
            "1 88888888\n"
          ]
        }
      ],
      "source": [
        "pattern(8, 9)"
      ]
    },
    {
      "cell_type": "markdown",
      "metadata": {
        "id": "PtXGN5fmcntj"
      },
      "source": [
        "## Q3 - smallest and biggest input"
      ]
    },
    {
      "cell_type": "code",
      "execution_count": 11,
      "metadata": {
        "id": "UgzQAaFJcntj"
      },
      "outputs": [],
      "source": [
        "def minnmax():\n",
        "\n",
        "    a = -100000   # max\n",
        "    b = 100000   # min\n",
        "\n",
        "    while True:\n",
        "        x = input('Enter an integer number or done:',)\n",
        "\n",
        "        if x == 'done': break\n",
        "\n",
        "        try:\n",
        "            y = int(x)\n",
        "            if y > a :\n",
        "                a = y\n",
        "            if y < b :\n",
        "                b = y\n",
        "\n",
        "        except:\n",
        "            print('***REMINDER: please enter an integer number or done***')\n",
        "\n",
        "    if (a == -100000) & (b == 100000):\n",
        "        print('***No number received, bye***')\n",
        "    else:\n",
        "        print('')\n",
        "        print('The smallest number you entered is:',b)\n",
        "        print('The biggest number you entered is:',a)"
      ]
    },
    {
      "cell_type": "code",
      "execution_count": 12,
      "metadata": {
        "colab": {
          "base_uri": "https://localhost:8080/"
        },
        "id": "HP8I_zE5cntj",
        "outputId": "42fccc92-08bb-470b-be72-bd94d5b9fcff"
      },
      "outputs": [
        {
          "name": "stdout",
          "output_type": "stream",
          "text": [
            "Enter an integer number or done:5\n",
            "Enter an integer number or done:-2\n",
            "Enter an integer number or done:hku\n",
            "***REMINDER: please enter an integer number or done***\n",
            "Enter an integer number or done:3.6\n",
            "***REMINDER: please enter an integer number or done***\n",
            "Enter an integer number or done:11\n",
            "Enter an integer number or done:5.8\n",
            "***REMINDER: please enter an integer number or done***\n",
            "Enter an integer number or done:-9\n",
            "Enter an integer number or done:0\n",
            "Enter an integer number or done:8\n",
            "Enter an integer number or done:done\n",
            "\n",
            "The smallest number you entered is: -9\n",
            "The biggest number you entered is: 11\n"
          ]
        }
      ],
      "source": [
        "minnmax()"
      ]
    },
    {
      "cell_type": "code",
      "execution_count": 13,
      "metadata": {
        "colab": {
          "base_uri": "https://localhost:8080/"
        },
        "id": "Qx94-9kPcntj",
        "outputId": "5a0907b8-fce6-4be6-91f7-61428241a700"
      },
      "outputs": [
        {
          "name": "stdout",
          "output_type": "stream",
          "text": [
            "Enter an integer number or done:done\n",
            "***No number received, bye***\n"
          ]
        }
      ],
      "source": [
        "minnmax()"
      ]
    },
    {
      "cell_type": "markdown",
      "metadata": {
        "id": "FLHzleAscntj"
      },
      "source": [
        "## Q4 - ticket discount"
      ]
    },
    {
      "cell_type": "code",
      "execution_count": 64,
      "metadata": {
        "id": "6h-nIAXScntj"
      },
      "outputs": [],
      "source": [
        "def discount(name, price):\n",
        "    name = name.upper()\n",
        "    if name[0] == 'D':\n",
        "        price -= 10\n",
        "    if len(name) > 1 and name[1] == 'I':\n",
        "        if price >= 1000:\n",
        "            price -= 100\n",
        "    if len(name) > 2 and name[2] == 'R':\n",
        "        if 500 <= price < 5000:\n",
        "            price -= 300\n",
        "        elif price >= 5000:\n",
        "            price -= 500\n",
        "    return price"
      ]
    },
    {
      "cell_type": "code",
      "execution_count": 65,
      "metadata": {
        "colab": {
          "base_uri": "https://localhost:8080/"
        },
        "id": "0Xmm7ytScntj",
        "outputId": "299b61fa-74c4-4a99-a3f7-af9f0b813964"
      },
      "outputs": [
        {
          "data": {
            "text/plain": [
              "10000"
            ]
          },
          "execution_count": 65,
          "metadata": {},
          "output_type": "execute_result"
        }
      ],
      "source": [
        "discount('Wong', 10000)"
      ]
    },
    {
      "cell_type": "code",
      "execution_count": 66,
      "metadata": {
        "colab": {
          "base_uri": "https://localhost:8080/"
        },
        "id": "zqM2RJxhcntj",
        "outputId": "c26c63c8-d237-40bc-c8bc-53b24e08f7fc"
      },
      "outputs": [
        {
          "data": {
            "text/plain": [
              "5"
            ]
          },
          "execution_count": 66,
          "metadata": {},
          "output_type": "execute_result"
        }
      ],
      "source": [
        "discount('d', 15)"
      ]
    },
    {
      "cell_type": "code",
      "execution_count": 67,
      "metadata": {
        "colab": {
          "base_uri": "https://localhost:8080/"
        },
        "id": "tPXbV9xjcntk",
        "outputId": "ab83bf97-186b-4eb9-ffa2-76804183635b"
      },
      "outputs": [
        {
          "data": {
            "text/plain": [
              "4460"
            ]
          },
          "execution_count": 67,
          "metadata": {},
          "output_type": "execute_result"
        }
      ],
      "source": [
        "discount('Li', 4560)"
      ]
    },
    {
      "cell_type": "code",
      "execution_count": 68,
      "metadata": {
        "colab": {
          "base_uri": "https://localhost:8080/"
        },
        "id": "M6L5cUMccntk",
        "outputId": "d79207e9-f07e-43ce-9f83-66fbf64e2e27"
      },
      "outputs": [
        {
          "data": {
            "text/plain": [
              "5890"
            ]
          },
          "execution_count": 68,
          "metadata": {},
          "output_type": "execute_result"
        }
      ],
      "source": [
        "discount('Ding', 6000)"
      ]
    },
    {
      "cell_type": "code",
      "execution_count": 69,
      "metadata": {
        "colab": {
          "base_uri": "https://localhost:8080/"
        },
        "id": "9Q8v1vwvcntk",
        "outputId": "35f0356a-cf07-494a-a05f-21d9424c3163"
      },
      "outputs": [
        {
          "data": {
            "text/plain": [
              "5190"
            ]
          },
          "execution_count": 69,
          "metadata": {},
          "output_type": "execute_result"
        }
      ],
      "source": [
        "discount('DIREN', 5800)"
      ]
    },
    {
      "cell_type": "markdown",
      "metadata": {
        "id": "YNuKtjZ9cntk"
      },
      "source": [
        "## Q5 - distinct substring"
      ]
    },
    {
      "cell_type": "code",
      "execution_count": 70,
      "metadata": {
        "id": "1GfWacWNAVTH"
      },
      "outputs": [],
      "source": [
        "def DistSub(text, k):\n",
        "\n",
        "    text = text.upper()\n",
        "\n",
        "    if k > len(text):\n",
        "        print(\"There is no such substring.\")\n",
        "    elif k == len(text):\n",
        "        print(\"There is only one distinct substring in \" + text + \", which is itself.\")\n",
        "    else:\n",
        "        subs = {}\n",
        "        list = []\n",
        "        for i in range(0, len(text) - k + 1):\n",
        "            sub = text[i: i + k]\n",
        "            if sub not in subs:\n",
        "                subs[sub] = 21\n",
        "                list.append(sub)\n",
        "\n",
        "        print(\"There are\", len(subs), \"distinct substrings in \" + text + \". They are:\")\n",
        "        print(\" \".join(list))"
      ]
    },
    {
      "cell_type": "code",
      "execution_count": 71,
      "metadata": {
        "colab": {
          "base_uri": "https://localhost:8080/"
        },
        "id": "_lAuMSytAVTH",
        "outputId": "f9037c51-49c3-4bf8-ca69-7a6f486d014d"
      },
      "outputs": [
        {
          "name": "stdout",
          "output_type": "stream",
          "text": [
            "There is no such substring.\n"
          ]
        }
      ],
      "source": [
        "DistSub('ABCAB', 8)"
      ]
    },
    {
      "cell_type": "code",
      "execution_count": 33,
      "metadata": {
        "colab": {
          "base_uri": "https://localhost:8080/"
        },
        "id": "vjLYefggAVTH",
        "outputId": "d28c616c-8838-4483-b5f5-d528f33466dd"
      },
      "outputs": [
        {
          "name": "stdout",
          "output_type": "stream",
          "text": [
            "There is only one distinct substring in ABCAB, which is itself.\n"
          ]
        }
      ],
      "source": [
        "DistSub('ABCAB', 5)"
      ]
    },
    {
      "cell_type": "code",
      "execution_count": 34,
      "metadata": {
        "colab": {
          "base_uri": "https://localhost:8080/"
        },
        "id": "cMZIV2npAVTH",
        "outputId": "280e0e61-572c-4969-8330-54e119fb691a"
      },
      "outputs": [
        {
          "name": "stdout",
          "output_type": "stream",
          "text": [
            "There are 3 distinct substrings in ABCAB. They are:\n",
            "ABC BCA CAB\n"
          ]
        }
      ],
      "source": [
        "DistSub('ABCAB', 3)"
      ]
    },
    {
      "cell_type": "code",
      "execution_count": 35,
      "metadata": {
        "colab": {
          "base_uri": "https://localhost:8080/"
        },
        "id": "xKiKJZjjAVTH",
        "outputId": "ed674a26-799b-4950-d7a2-2090be38b874"
      },
      "outputs": [
        {
          "name": "stdout",
          "output_type": "stream",
          "text": [
            "There are 3 distinct substrings in ABCAB. They are:\n",
            "AB BC CA\n"
          ]
        }
      ],
      "source": [
        "DistSub('ABCAB', 2)"
      ]
    },
    {
      "cell_type": "code",
      "execution_count": 36,
      "metadata": {
        "colab": {
          "base_uri": "https://localhost:8080/"
        },
        "id": "tDwcjIypAVTH",
        "outputId": "935541bc-0931-4f9a-8285-e39b4b9bdb5a"
      },
      "outputs": [
        {
          "name": "stdout",
          "output_type": "stream",
          "text": [
            "There are 3 distinct substrings in ABCAB. They are:\n",
            "AB BC CA\n"
          ]
        }
      ],
      "source": [
        "DistSub('ABCab', 2)"
      ]
    },
    {
      "cell_type": "markdown",
      "metadata": {
        "id": "gUak03JTAVTH"
      },
      "source": [
        "## Q6 – verify ISBN-10"
      ]
    },
    {
      "cell_type": "code",
      "execution_count": 37,
      "metadata": {
        "id": "xetNu913AVTH"
      },
      "outputs": [],
      "source": [
        "def isbn_check(isbn):\n",
        "\n",
        "    i = 0\n",
        "    t = 0\n",
        "\n",
        "    for num in isbn:\n",
        "        if num.isdigit():\n",
        "            i += 1\n",
        "            t += i * int(num)\n",
        "        if num == 'X':\n",
        "            i += 1\n",
        "            t -= i\n",
        "\n",
        "    if t % 11 == 0:\n",
        "        return True\n",
        "    else:\n",
        "        return False"
      ]
    },
    {
      "cell_type": "code",
      "execution_count": 38,
      "metadata": {
        "colab": {
          "base_uri": "https://localhost:8080/"
        },
        "id": "WKIhUP1tAVTH",
        "outputId": "28a4501b-0871-41b2-af63-97551a4708e1"
      },
      "outputs": [
        {
          "data": {
            "text/plain": [
              "True"
            ]
          },
          "execution_count": 38,
          "metadata": {},
          "output_type": "execute_result"
        }
      ],
      "source": [
        "isbn_check('3-598-21507-X')"
      ]
    },
    {
      "cell_type": "code",
      "execution_count": 39,
      "metadata": {
        "colab": {
          "base_uri": "https://localhost:8080/"
        },
        "id": "2cVRscJQAVTH",
        "outputId": "9c921d76-3994-46e0-9baf-1ef04ce42ed7"
      },
      "outputs": [
        {
          "data": {
            "text/plain": [
              "False"
            ]
          },
          "execution_count": 39,
          "metadata": {},
          "output_type": "execute_result"
        }
      ],
      "source": [
        "isbn_check('3-598-41508-8')"
      ]
    },
    {
      "cell_type": "markdown",
      "metadata": {
        "id": "r9-H4e-NAVTH"
      },
      "source": [
        "## Q7 – rotate a letter"
      ]
    },
    {
      "cell_type": "code",
      "execution_count": 1,
      "metadata": {
        "id": "L9YZp8DWAVTH"
      },
      "outputs": [],
      "source": [
        "def rotate_letter(letter, n):\n",
        "\n",
        "    if not isinstance(letter, str) or len(letter) > 1 or not letter.isalpha() or not isinstance(n, int):\n",
        "        print(\"***REMINDER: Your input is not valid.***\")\n",
        "        return\n",
        "\n",
        "    if ord(letter) > 96:\n",
        "        ord_num = (ord(letter) - 97 + n) % 26\n",
        "        return chr(97 + ord_num)\n",
        "    else:\n",
        "        ord_num = (ord(letter) - 65 + n) % 26\n",
        "        return chr(65 + ord_num)"
      ]
    },
    {
      "cell_type": "code",
      "execution_count": 41,
      "metadata": {
        "colab": {
          "base_uri": "https://localhost:8080/",
          "height": 35
        },
        "id": "OrnPDQMsAVTH",
        "outputId": "c18d26d0-d203-451b-e368-17ea3ad75683"
      },
      "outputs": [
        {
          "data": {
            "application/vnd.google.colaboratory.intrinsic+json": {
              "type": "string"
            },
            "text/plain": [
              "'w'"
            ]
          },
          "execution_count": 41,
          "metadata": {},
          "output_type": "execute_result"
        }
      ],
      "source": [
        "rotate_letter('t', 3)"
      ]
    },
    {
      "cell_type": "code",
      "execution_count": 42,
      "metadata": {
        "colab": {
          "base_uri": "https://localhost:8080/",
          "height": 35
        },
        "id": "JpgobsitAVTI",
        "outputId": "fbe371e6-7801-47f6-9fb1-4e8374262c6b"
      },
      "outputs": [
        {
          "data": {
            "application/vnd.google.colaboratory.intrinsic+json": {
              "type": "string"
            },
            "text/plain": [
              "'D'"
            ]
          },
          "execution_count": 42,
          "metadata": {},
          "output_type": "execute_result"
        }
      ],
      "source": [
        "rotate_letter('Y', 5)"
      ]
    },
    {
      "cell_type": "code",
      "execution_count": 43,
      "metadata": {
        "colab": {
          "base_uri": "https://localhost:8080/"
        },
        "id": "rAotCf7DAVTI",
        "outputId": "5c745ed2-a5fa-4b88-ce29-31823b28941c"
      },
      "outputs": [
        {
          "name": "stdout",
          "output_type": "stream",
          "text": [
            "***REMINDER: Your input is not valid.***\n"
          ]
        }
      ],
      "source": [
        "rotate_letter('k', 20.1)"
      ]
    },
    {
      "cell_type": "code",
      "execution_count": 44,
      "metadata": {
        "colab": {
          "base_uri": "https://localhost:8080/"
        },
        "id": "ldph4gh8AVTI",
        "outputId": "3bf5df2e-63ed-49fd-d177-68a1eb46de6f"
      },
      "outputs": [
        {
          "name": "stdout",
          "output_type": "stream",
          "text": [
            "***REMINDER: Your input is not valid.***\n"
          ]
        }
      ],
      "source": [
        "rotate_letter('abc', 19)"
      ]
    },
    {
      "cell_type": "code",
      "execution_count": 45,
      "metadata": {
        "colab": {
          "base_uri": "https://localhost:8080/",
          "height": 35
        },
        "id": "vX0iMb77AVTI",
        "outputId": "110eee7a-6af3-4634-c61e-a4301e38fee9"
      },
      "outputs": [
        {
          "data": {
            "application/vnd.google.colaboratory.intrinsic+json": {
              "type": "string"
            },
            "text/plain": [
              "'Z'"
            ]
          },
          "execution_count": 45,
          "metadata": {},
          "output_type": "execute_result"
        }
      ],
      "source": [
        "rotate_letter('D', -4)"
      ]
    },
    {
      "cell_type": "code",
      "execution_count": 46,
      "metadata": {
        "colab": {
          "base_uri": "https://localhost:8080/"
        },
        "id": "drl9rn7nAVTI",
        "outputId": "62ed12ab-b0a9-473f-dc55-ceb81c4a6c44"
      },
      "outputs": [
        {
          "name": "stdout",
          "output_type": "stream",
          "text": [
            "***REMINDER: Your input is not valid.***\n"
          ]
        }
      ],
      "source": [
        "rotate_letter('?', 8)"
      ]
    },
    {
      "cell_type": "code",
      "execution_count": 2,
      "metadata": {
        "colab": {
          "base_uri": "https://localhost:8080/"
        },
        "id": "KBDxBDM7AVTJ",
        "outputId": "df060f0f-aeac-4d90-b2b0-d2342356dc0b"
      },
      "outputs": [
        {
          "name": "stdout",
          "output_type": "stream",
          "text": [
            "***REMINDER: Your input is not valid.***\n"
          ]
        }
      ],
      "source": [
        "rotate_letter(7, 109)"
      ]
    },
    {
      "cell_type": "code",
      "execution_count": 3,
      "metadata": {
        "colab": {
          "base_uri": "https://localhost:8080/"
        },
        "id": "Xn676HDDAVTJ",
        "outputId": "43fd4134-e70f-4f9b-fb6f-9124c25cd357"
      },
      "outputs": [
        {
          "name": "stdout",
          "output_type": "stream",
          "text": [
            "***REMINDER: Your input is not valid.***\n"
          ]
        }
      ],
      "source": [
        "rotate_letter(20, 'k')"
      ]
    }
  ],
  "metadata": {
    "colab": {
      "provenance": []
    },
    "kernelspec": {
      "display_name": "Python 3",
      "language": "python",
      "name": "python3"
    },
    "language_info": {
      "codemirror_mode": {
        "name": "ipython",
        "version": 3
      },
      "file_extension": ".py",
      "mimetype": "text/x-python",
      "name": "python",
      "nbconvert_exporter": "python",
      "pygments_lexer": "ipython3",
      "version": "3.11.4"
    },
    "orig_nbformat": 4
  },
  "nbformat": 4,
  "nbformat_minor": 0
}
