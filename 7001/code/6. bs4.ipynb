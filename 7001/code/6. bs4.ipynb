{
 "cells": [
  {
   "cell_type": "markdown",
   "id": "217663d8",
   "metadata": {},
   "source": [
    "# Making a soup object"
   ]
  },
  {
   "cell_type": "code",
   "execution_count": 15,
   "id": "02befb71",
   "metadata": {},
   "outputs": [],
   "source": [
    "html = open('../data_in/html.txt', 'r', encoding='utf-8').read()"
   ]
  },
  {
   "cell_type": "code",
   "execution_count": 16,
   "id": "8f05a5ec",
   "metadata": {
    "collapsed": true
   },
   "outputs": [
    {
     "name": "stdout",
     "output_type": "stream",
     "text": [
      "<html><head><title>The King's story</title></head>\n",
      "<body>\n",
      "<p class=\"title\"><b>The King's story</b></p>\n",
      "\n",
      "<p class=\"story\">Once upon a time there were five siblings; and their names were:\n",
      "<a href=\"http://example.com/elsie\" class=\"sister\" id=\"link1\">Elsie</a>,\n",
      "<span>Meili</span>, \n",
      "<span class=\"brother\">Eric</span>\n",
      "<a href=\"http://example.com/lacie\" class=\"sister\" id=\"link2\">Lacie</a>,\n",
      "<a class=\"sister\" id=\"link3\">Tillie</a>, and\n",
      "<a href=\"http://hku.hk/chao\" class=\"brother\" id=\"link4\">Chao</a>,\n",
      "and they lived at the bottom of a well.</p>\n",
      "<p class=\"story\">...</p></body></html>\n"
     ]
    }
   ],
   "source": [
    "print(html)"
   ]
  },
  {
   "cell_type": "code",
   "execution_count": 17,
   "id": "e8be7d83",
   "metadata": {},
   "outputs": [
    {
     "data": {
      "text/plain": [
       "bs4.BeautifulSoup"
      ]
     },
     "execution_count": 17,
     "metadata": {},
     "output_type": "execute_result"
    }
   ],
   "source": [
    "from bs4 import BeautifulSoup\n",
    "soup = BeautifulSoup(html, 'html.parser')\n",
    "type(soup)  # it is beautifulsoup object"
   ]
  },
  {
   "cell_type": "code",
   "execution_count": 18,
   "id": "4a0ac020",
   "metadata": {},
   "outputs": [
    {
     "data": {
      "text/plain": [
       "bs4.BeautifulSoup"
      ]
     },
     "execution_count": 18,
     "metadata": {},
     "output_type": "execute_result"
    }
   ],
   "source": [
    "type(soup)"
   ]
  },
  {
   "cell_type": "code",
   "execution_count": 19,
   "id": "0effa7ce",
   "metadata": {
    "collapsed": true
   },
   "outputs": [
    {
     "name": "stdout",
     "output_type": "stream",
     "text": [
      "<html>\n",
      " <head>\n",
      "  <title>\n",
      "   The King's story\n",
      "  </title>\n",
      " </head>\n",
      " <body>\n",
      "  <p class=\"title\">\n",
      "   <b>\n",
      "    The King's story\n",
      "   </b>\n",
      "  </p>\n",
      "  <p class=\"story\">\n",
      "   Once upon a time there were five siblings; and their names were:\n",
      "   <a class=\"sister\" href=\"http://example.com/elsie\" id=\"link1\">\n",
      "    Elsie\n",
      "   </a>\n",
      "   ,\n",
      "   <span>\n",
      "    Meili\n",
      "   </span>\n",
      "   ,\n",
      "   <span class=\"brother\">\n",
      "    Eric\n",
      "   </span>\n",
      "   <a class=\"sister\" href=\"http://example.com/lacie\" id=\"link2\">\n",
      "    Lacie\n",
      "   </a>\n",
      "   ,\n",
      "   <a class=\"sister\" id=\"link3\">\n",
      "    Tillie\n",
      "   </a>\n",
      "   , and\n",
      "   <a class=\"brother\" href=\"http://hku.hk/chao\" id=\"link4\">\n",
      "    Chao\n",
      "   </a>\n",
      "   ,\n",
      "and they lived at the bottom of a well.\n",
      "  </p>\n",
      "  <p class=\"story\">\n",
      "   ...\n",
      "  </p>\n",
      " </body>\n",
      "</html>\n"
     ]
    }
   ],
   "source": [
    "# to see the hierachical structure\n",
    "print(soup.prettify())"
   ]
  },
  {
   "cell_type": "markdown",
   "id": "57119559",
   "metadata": {},
   "source": [
    "# Navigating the tree"
   ]
  },
  {
   "cell_type": "code",
   "execution_count": 20,
   "id": "34622fbc",
   "metadata": {},
   "outputs": [
    {
     "data": {
      "text/plain": [
       "<title>The King's story</title>"
      ]
     },
     "execution_count": 20,
     "metadata": {},
     "output_type": "execute_result"
    }
   ],
   "source": [
    "soup.title"
   ]
  },
  {
   "cell_type": "code",
   "execution_count": 21,
   "id": "08bd9f50",
   "metadata": {},
   "outputs": [
    {
     "data": {
      "text/plain": [
       "<a class=\"sister\" href=\"http://example.com/elsie\" id=\"link1\">Elsie</a>"
      ]
     },
     "execution_count": 21,
     "metadata": {},
     "output_type": "execute_result"
    }
   ],
   "source": [
    "a_tag = soup.a\n",
    "a_tag"
   ]
  },
  {
   "cell_type": "code",
   "execution_count": 22,
   "id": "f781e81f",
   "metadata": {},
   "outputs": [
    {
     "data": {
      "text/plain": [
       "bs4.element.Tag"
      ]
     },
     "execution_count": 22,
     "metadata": {},
     "output_type": "execute_result"
    }
   ],
   "source": [
    "type(a_tag) \n",
    "# it is tag class"
   ]
  },
  {
   "cell_type": "code",
   "execution_count": 23,
   "id": "7a764216",
   "metadata": {},
   "outputs": [
    {
     "data": {
      "text/plain": [
       "<generator object PageElement.next_siblings at 0x0000022C15F567B0>"
      ]
     },
     "execution_count": 23,
     "metadata": {},
     "output_type": "execute_result"
    }
   ],
   "source": [
    "a_tag.next_siblings\n",
    "# it's a generator object\n",
    "# we use it in a loop to see details"
   ]
  },
  {
   "cell_type": "code",
   "execution_count": 10,
   "id": "5f7ef7f7",
   "metadata": {},
   "outputs": [
    {
     "name": "stdout",
     "output_type": "stream",
     "text": [
      ",\n",
      "\n",
      "<span>Meili</span>\n",
      ", \n",
      "\n",
      "<span class=\"brother\">Eric</span>\n",
      "\n",
      "\n",
      "<a class=\"sister\" href=\"http://example.com/lacie\" id=\"link2\">Lacie</a>\n",
      ",\n",
      "\n",
      "<a class=\"sister\" id=\"link3\">Tillie</a>\n",
      ", and\n",
      "\n",
      "<a class=\"brother\" href=\"http://hku.hk/chao\" id=\"link4\">Chao</a>\n",
      ",\n",
      "and they lived at the bottom of a well.\n"
     ]
    }
   ],
   "source": [
    "for item in a_tag.next_siblings:\n",
    "    print(item)"
   ]
  },
  {
   "cell_type": "code",
   "execution_count": 24,
   "id": "7e0a91b3",
   "metadata": {},
   "outputs": [
    {
     "data": {
      "text/plain": [
       "<p class=\"story\">Once upon a time there were five siblings; and their names were:\n",
       "<a class=\"sister\" href=\"http://example.com/elsie\" id=\"link1\">Elsie</a>,\n",
       "<span>Meili</span>, \n",
       "<span class=\"brother\">Eric</span>\n",
       "<a class=\"sister\" href=\"http://example.com/lacie\" id=\"link2\">Lacie</a>,\n",
       "<a class=\"sister\" id=\"link3\">Tillie</a>, and\n",
       "<a class=\"brother\" href=\"http://hku.hk/chao\" id=\"link4\">Chao</a>,\n",
       "and they lived at the bottom of a well.</p>"
      ]
     },
     "execution_count": 24,
     "metadata": {},
     "output_type": "execute_result"
    }
   ],
   "source": [
    "a_tag.parent\n",
    "# its parent is the <p> tag"
   ]
  },
  {
   "cell_type": "code",
   "execution_count": 25,
   "id": "ff11578f",
   "metadata": {},
   "outputs": [
    {
     "data": {
      "text/plain": [
       "'p'"
      ]
     },
     "execution_count": 25,
     "metadata": {},
     "output_type": "execute_result"
    }
   ],
   "source": [
    "a_tag.parent.name"
   ]
  },
  {
   "cell_type": "markdown",
   "id": "301bb725",
   "metadata": {},
   "source": [
    "# `find` one tag"
   ]
  },
  {
   "cell_type": "code",
   "execution_count": 26,
   "id": "e403ca2e",
   "metadata": {},
   "outputs": [
    {
     "data": {
      "text/plain": [
       "<title>The King's story</title>"
      ]
     },
     "execution_count": 26,
     "metadata": {},
     "output_type": "execute_result"
    }
   ],
   "source": [
    "soup.find('title')"
   ]
  },
  {
   "cell_type": "code",
   "execution_count": 34,
   "id": "1bc6b79f",
   "metadata": {},
   "outputs": [
    {
     "data": {
      "text/plain": [
       "<title>The King's story</title>"
      ]
     },
     "execution_count": 34,
     "metadata": {},
     "output_type": "execute_result"
    }
   ],
   "source": [
    "soup.title"
   ]
  },
  {
   "cell_type": "code",
   "execution_count": 13,
   "id": "fb2b74e3",
   "metadata": {
    "scrolled": true
   },
   "outputs": [
    {
     "name": "stdout",
     "output_type": "stream",
     "text": [
      "None\n"
     ]
    }
   ],
   "source": [
    "print(soup.find(\"nosuchtag\"))"
   ]
  },
  {
   "cell_type": "code",
   "execution_count": 14,
   "id": "81751e3c",
   "metadata": {},
   "outputs": [
    {
     "data": {
      "text/plain": [
       "<a class=\"sister\" href=\"http://example.com/elsie\" id=\"link1\">Elsie</a>"
      ]
     },
     "execution_count": 14,
     "metadata": {},
     "output_type": "execute_result"
    }
   ],
   "source": [
    "soup.find('a')"
   ]
  },
  {
   "cell_type": "code",
   "execution_count": 15,
   "id": "6b4f4db6",
   "metadata": {},
   "outputs": [
    {
     "data": {
      "text/plain": [
       "<p class=\"title\"><b>The King's story</b></p>"
      ]
     },
     "execution_count": 15,
     "metadata": {},
     "output_type": "execute_result"
    }
   ],
   "source": [
    "soup.find(class_ = 'title')"
   ]
  },
  {
   "cell_type": "code",
   "execution_count": 16,
   "id": "2d31e3b1",
   "metadata": {},
   "outputs": [
    {
     "data": {
      "text/plain": [
       "<p class=\"story\">Once upon a time there were five siblings; and their names were:\n",
       "<a class=\"sister\" href=\"http://example.com/elsie\" id=\"link1\">Elsie</a>,\n",
       "<span>Meili</span>, \n",
       "<span class=\"brother\">Eric</span>\n",
       "<a class=\"sister\" href=\"http://example.com/lacie\" id=\"link2\">Lacie</a>,\n",
       "<a class=\"sister\" id=\"link3\">Tillie</a>, and\n",
       "<a class=\"brother\" href=\"http://hku.hk/chao\" id=\"link4\">Chao</a>,\n",
       "and they lived at the bottom of a well.</p>"
      ]
     },
     "execution_count": 16,
     "metadata": {},
     "output_type": "execute_result"
    }
   ],
   "source": [
    "# or, use attributes\n",
    "# it should be a dictionary\n",
    "soup.find(attrs = {'class':'story'})"
   ]
  },
  {
   "cell_type": "code",
   "execution_count": 17,
   "id": "21a8830f",
   "metadata": {},
   "outputs": [
    {
     "data": {
      "text/plain": [
       "<title>The King's story</title>"
      ]
     },
     "execution_count": 17,
     "metadata": {},
     "output_type": "execute_result"
    }
   ],
   "source": [
    "soup.head.title"
   ]
  },
  {
   "cell_type": "code",
   "execution_count": 18,
   "id": "026bdde9",
   "metadata": {},
   "outputs": [
    {
     "data": {
      "text/plain": [
       "<title>The King's story</title>"
      ]
     },
     "execution_count": 18,
     "metadata": {},
     "output_type": "execute_result"
    }
   ],
   "source": [
    "soup.find(\"head\").find(\"title\")"
   ]
  },
  {
   "cell_type": "code",
   "execution_count": 35,
   "id": "7e76a305",
   "metadata": {},
   "outputs": [],
   "source": [
    "t_tag = soup.title"
   ]
  },
  {
   "cell_type": "code",
   "execution_count": 36,
   "id": "450a3663",
   "metadata": {},
   "outputs": [
    {
     "data": {
      "text/plain": [
       "<head><title>The King's story</title></head>"
      ]
     },
     "execution_count": 36,
     "metadata": {},
     "output_type": "execute_result"
    }
   ],
   "source": [
    "t_tag.find_parent()"
   ]
  },
  {
   "cell_type": "code",
   "execution_count": 37,
   "id": "a7e69a39",
   "metadata": {},
   "outputs": [
    {
     "data": {
      "text/plain": [
       "<body>\n",
       "<p class=\"title\"><b>The King's story</b></p>\n",
       "<p class=\"story\">Once upon a time there were five siblings; and their names were:\n",
       "<a class=\"sister\" href=\"http://example.com/elsie\" id=\"link1\">Elsie</a>,\n",
       "<span>Meili</span>, \n",
       "<span class=\"brother\">Eric</span>\n",
       "<a class=\"sister\" href=\"http://example.com/lacie\" id=\"link2\">Lacie</a>,\n",
       "<a class=\"sister\" id=\"link3\">Tillie</a>, and\n",
       "<a class=\"brother\" href=\"http://hku.hk/chao\" id=\"link4\">Chao</a>,\n",
       "and they lived at the bottom of a well.</p>\n",
       "<p class=\"story\">...</p></body>"
      ]
     },
     "execution_count": 37,
     "metadata": {},
     "output_type": "execute_result"
    }
   ],
   "source": [
    "t_tag.find_next()"
   ]
  },
  {
   "cell_type": "markdown",
   "id": "23f3c061",
   "metadata": {},
   "source": [
    "# `find_all` / `findAll` tag(s), return a list of tags"
   ]
  },
  {
   "cell_type": "code",
   "execution_count": 38,
   "id": "fe04c8f6",
   "metadata": {
    "scrolled": false
   },
   "outputs": [
    {
     "data": {
      "text/plain": [
       "bs4.element.ResultSet"
      ]
     },
     "execution_count": 38,
     "metadata": {},
     "output_type": "execute_result"
    }
   ],
   "source": [
    "hrefs = soup.find_all('a')\n",
    "type(hrefs)   # the result is a list"
   ]
  },
  {
   "cell_type": "code",
   "execution_count": 39,
   "id": "9d52e03d",
   "metadata": {},
   "outputs": [
    {
     "data": {
      "text/plain": [
       "[<a class=\"sister\" href=\"http://example.com/elsie\" id=\"link1\">Elsie</a>,\n",
       " <a class=\"sister\" href=\"http://example.com/lacie\" id=\"link2\">Lacie</a>,\n",
       " <a class=\"sister\" id=\"link3\">Tillie</a>,\n",
       " <a class=\"brother\" href=\"http://hku.hk/chao\" id=\"link4\">Chao</a>]"
      ]
     },
     "execution_count": 39,
     "metadata": {},
     "output_type": "execute_result"
    }
   ],
   "source": [
    "hrefs"
   ]
  },
  {
   "cell_type": "code",
   "execution_count": 128,
   "id": "7c57975e",
   "metadata": {
    "scrolled": true
   },
   "outputs": [
    {
     "name": "stdout",
     "output_type": "stream",
     "text": [
      "a\n",
      "a\n",
      "a\n",
      "a\n"
     ]
    }
   ],
   "source": [
    "for link in hrefs:\n",
    "    print(link.name)"
   ]
  },
  {
   "cell_type": "code",
   "execution_count": 42,
   "id": "f776a47a",
   "metadata": {
    "scrolled": true
   },
   "outputs": [
    {
     "data": {
      "text/plain": [
       "[<a class=\"sister\" href=\"http://example.com/elsie\" id=\"link1\">Elsie</a>,\n",
       " <a class=\"sister\" href=\"http://example.com/lacie\" id=\"link2\">Lacie</a>,\n",
       " <a class=\"sister\" id=\"link3\">Tillie</a>]"
      ]
     },
     "execution_count": 42,
     "metadata": {},
     "output_type": "execute_result"
    }
   ],
   "source": [
    "soup.find_all('a', attrs={'class':'sister'})  \n",
    "# class is a reserved word in Python, hence we use class_"
   ]
  },
  {
   "cell_type": "code",
   "execution_count": 43,
   "id": "494607cf",
   "metadata": {},
   "outputs": [
    {
     "data": {
      "text/plain": [
       "[<a class=\"sister\" href=\"http://example.com/lacie\" id=\"link2\">Lacie</a>]"
      ]
     },
     "execution_count": 43,
     "metadata": {},
     "output_type": "execute_result"
    }
   ],
   "source": [
    "soup.find_all(attrs={'id':'link2'})"
   ]
  },
  {
   "cell_type": "code",
   "execution_count": 44,
   "id": "27529244",
   "metadata": {},
   "outputs": [
    {
     "data": {
      "text/plain": [
       "[<a class=\"sister\" href=\"http://example.com/elsie\" id=\"link1\">Elsie</a>,\n",
       " <a class=\"sister\" href=\"http://example.com/lacie\" id=\"link2\">Lacie</a>,\n",
       " <a class=\"sister\" id=\"link3\">Tillie</a>,\n",
       " <a class=\"brother\" href=\"http://hku.hk/chao\" id=\"link4\">Chao</a>]"
      ]
     },
     "execution_count": 44,
     "metadata": {},
     "output_type": "execute_result"
    }
   ],
   "source": [
    "soup.find_all(id = True)"
   ]
  },
  {
   "cell_type": "code",
   "execution_count": 92,
   "id": "70bb55d4",
   "metadata": {},
   "outputs": [
    {
     "data": {
      "text/plain": [
       "['Elsie']"
      ]
     },
     "execution_count": 92,
     "metadata": {},
     "output_type": "execute_result"
    }
   ],
   "source": [
    "soup.find_all(string = 'Elsie')  \n",
    "# returns the text in a list\n",
    "# this is a special case"
   ]
  },
  {
   "cell_type": "code",
   "execution_count": 46,
   "id": "37738300",
   "metadata": {},
   "outputs": [
    {
     "data": {
      "text/plain": [
       "[<a class=\"sister\" href=\"http://example.com/elsie\" id=\"link1\">Elsie</a>]"
      ]
     },
     "execution_count": 46,
     "metadata": {},
     "output_type": "execute_result"
    }
   ],
   "source": [
    "soup.find_all(\"a\", string = 'Elsie')"
   ]
  },
  {
   "cell_type": "code",
   "execution_count": 47,
   "id": "168299ac",
   "metadata": {},
   "outputs": [
    {
     "data": {
      "text/plain": [
       "[]"
      ]
     },
     "execution_count": 47,
     "metadata": {},
     "output_type": "execute_result"
    }
   ],
   "source": [
    "soup.find_all(\"a\", string = 'is')"
   ]
  },
  {
   "cell_type": "code",
   "execution_count": 49,
   "id": "035de1f0",
   "metadata": {},
   "outputs": [
    {
     "data": {
      "text/plain": [
       "[<a class=\"sister\" href=\"http://example.com/elsie\" id=\"link1\">Elsie</a>,\n",
       " <a class=\"sister\" href=\"http://example.com/lacie\" id=\"link2\">Lacie</a>]"
      ]
     },
     "execution_count": 49,
     "metadata": {},
     "output_type": "execute_result"
    }
   ],
   "source": [
    "soup.find_all(\"a\", limit = 2)    \n",
    "# return only 2 results"
   ]
  },
  {
   "cell_type": "code",
   "execution_count": 50,
   "id": "6be3975a",
   "metadata": {},
   "outputs": [
    {
     "data": {
      "text/plain": [
       "[<a class=\"sister\" href=\"http://example.com/elsie\" id=\"link1\">Elsie</a>,\n",
       " <a class=\"sister\" href=\"http://example.com/lacie\" id=\"link2\">Lacie</a>,\n",
       " <a class=\"brother\" href=\"http://hku.hk/chao\" id=\"link4\">Chao</a>]"
      ]
     },
     "execution_count": 50,
     "metadata": {},
     "output_type": "execute_result"
    }
   ],
   "source": [
    "import re\n",
    "soup.find_all(href = re.compile(\"http:\\/\\/\")) "
   ]
  },
  {
   "cell_type": "code",
   "execution_count": 51,
   "id": "44fe5aa4",
   "metadata": {},
   "outputs": [
    {
     "data": {
      "text/plain": [
       "[<a class=\"sister\" href=\"http://example.com/elsie\" id=\"link1\">Elsie</a>,\n",
       " <a class=\"sister\" href=\"http://example.com/lacie\" id=\"link2\">Lacie</a>,\n",
       " <a class=\"brother\" href=\"http://hku.hk/chao\" id=\"link4\">Chao</a>]"
      ]
     },
     "execution_count": 51,
     "metadata": {},
     "output_type": "execute_result"
    }
   ],
   "source": [
    "# similarly\n",
    "soup.find_all(attrs = {'href':re.compile(\"http:\\/\\/\")}) "
   ]
  },
  {
   "cell_type": "code",
   "execution_count": 52,
   "id": "9c0d9fdd",
   "metadata": {
    "collapsed": true
   },
   "outputs": [
    {
     "name": "stdout",
     "output_type": "stream",
     "text": [
      "html\n",
      "head\n",
      "title\n",
      "body\n",
      "p\n",
      "b\n",
      "p\n",
      "a\n",
      "span\n",
      "span\n",
      "a\n",
      "a\n",
      "a\n",
      "p\n"
     ]
    }
   ],
   "source": [
    "for tag in soup.find_all(True):\n",
    "    print(tag.name)"
   ]
  },
  {
   "cell_type": "code",
   "execution_count": 53,
   "id": "51bbcf8e",
   "metadata": {
    "scrolled": true
   },
   "outputs": [
    {
     "data": {
      "text/plain": [
       "[<b>The King's story</b>,\n",
       " <a class=\"sister\" href=\"http://example.com/elsie\" id=\"link1\">Elsie</a>,\n",
       " <a class=\"sister\" href=\"http://example.com/lacie\" id=\"link2\">Lacie</a>,\n",
       " <a class=\"sister\" id=\"link3\">Tillie</a>,\n",
       " <a class=\"brother\" href=\"http://hku.hk/chao\" id=\"link4\">Chao</a>]"
      ]
     },
     "execution_count": 53,
     "metadata": {},
     "output_type": "execute_result"
    }
   ],
   "source": [
    "soup.find_all([\"a\", \"b\"])"
   ]
  },
  {
   "cell_type": "markdown",
   "id": "f5b72a59",
   "metadata": {},
   "source": [
    "# `contents` 'splits' a tag into a list of children elements"
   ]
  },
  {
   "cell_type": "code",
   "execution_count": 54,
   "id": "e10f0add",
   "metadata": {},
   "outputs": [
    {
     "data": {
      "text/plain": [
       "bs4.element.Tag"
      ]
     },
     "execution_count": 54,
     "metadata": {},
     "output_type": "execute_result"
    }
   ],
   "source": [
    "main_body = soup.body\n",
    "type(main_body)"
   ]
  },
  {
   "cell_type": "code",
   "execution_count": 55,
   "id": "2ae6f34b",
   "metadata": {
    "collapsed": true
   },
   "outputs": [
    {
     "data": {
      "text/plain": [
       "['\\n',\n",
       " <p class=\"title\"><b>The King's story</b></p>,\n",
       " '\\n',\n",
       " <p class=\"story\">Once upon a time there were five siblings; and their names were:\n",
       " <a class=\"sister\" href=\"http://example.com/elsie\" id=\"link1\">Elsie</a>,\n",
       " <span>Meili</span>, \n",
       " <span class=\"brother\">Eric</span>\n",
       " <a class=\"sister\" href=\"http://example.com/lacie\" id=\"link2\">Lacie</a>,\n",
       " <a class=\"sister\" id=\"link3\">Tillie</a>, and\n",
       " <a class=\"brother\" href=\"http://hku.hk/chao\" id=\"link4\">Chao</a>,\n",
       " and they lived at the bottom of a well.</p>,\n",
       " '\\n',\n",
       " <p class=\"story\">...</p>]"
      ]
     },
     "execution_count": 55,
     "metadata": {},
     "output_type": "execute_result"
    }
   ],
   "source": [
    "# contents result in a list of tags, and some other elements such as \\n\n",
    "main_body.contents"
   ]
  },
  {
   "cell_type": "code",
   "execution_count": 56,
   "id": "dc779088",
   "metadata": {},
   "outputs": [
    {
     "data": {
      "text/plain": [
       "<p class=\"title\"><b>The King's story</b></p>"
      ]
     },
     "execution_count": 56,
     "metadata": {},
     "output_type": "execute_result"
    }
   ],
   "source": [
    "# we can use list index to navigate in the list\n",
    "first_child = main_body.contents[1]\n",
    "first_child"
   ]
  },
  {
   "cell_type": "code",
   "execution_count": 57,
   "id": "88b80f43",
   "metadata": {},
   "outputs": [
    {
     "data": {
      "text/plain": [
       "<b>The King's story</b>"
      ]
     },
     "execution_count": 57,
     "metadata": {},
     "output_type": "execute_result"
    }
   ],
   "source": [
    "first_child.contents[0]"
   ]
  },
  {
   "cell_type": "code",
   "execution_count": 58,
   "id": "826e69b3",
   "metadata": {},
   "outputs": [
    {
     "data": {
      "text/plain": [
       "<b>The King's story</b>"
      ]
     },
     "execution_count": 58,
     "metadata": {},
     "output_type": "execute_result"
    }
   ],
   "source": [
    "grand_child = first_child.contents[0]\n",
    "grand_child"
   ]
  },
  {
   "cell_type": "code",
   "execution_count": 59,
   "id": "d4872c6f",
   "metadata": {
    "scrolled": true
   },
   "outputs": [
    {
     "data": {
      "text/plain": [
       "[\"The King's story\"]"
      ]
     },
     "execution_count": 59,
     "metadata": {},
     "output_type": "execute_result"
    }
   ],
   "source": [
    "grand_child.contents\n",
    "# if there is no more children, then return the tag content\n",
    "# use contents as a last resort"
   ]
  },
  {
   "cell_type": "markdown",
   "id": "795055c2",
   "metadata": {},
   "source": [
    "# Extracting attribute values"
   ]
  },
  {
   "cell_type": "code",
   "execution_count": 94,
   "id": "e3649fe2",
   "metadata": {},
   "outputs": [
    {
     "data": {
      "text/plain": [
       "{'href': 'http://example.com/elsie', 'class': ['sister'], 'id': 'link1'}"
      ]
     },
     "execution_count": 94,
     "metadata": {},
     "output_type": "execute_result"
    }
   ],
   "source": [
    "soup.a.attrs"
   ]
  },
  {
   "cell_type": "code",
   "execution_count": 61,
   "id": "1e3b7b09",
   "metadata": {},
   "outputs": [
    {
     "data": {
      "text/plain": [
       "'http://example.com/elsie'"
      ]
     },
     "execution_count": 61,
     "metadata": {},
     "output_type": "execute_result"
    }
   ],
   "source": [
    "soup.a['href']"
   ]
  },
  {
   "cell_type": "code",
   "execution_count": 95,
   "id": "e6cab774",
   "metadata": {},
   "outputs": [
    {
     "data": {
      "text/plain": [
       "['sister']"
      ]
     },
     "execution_count": 95,
     "metadata": {},
     "output_type": "execute_result"
    }
   ],
   "source": [
    "soup.a['class']"
   ]
  },
  {
   "cell_type": "code",
   "execution_count": 63,
   "id": "dfe191a7",
   "metadata": {},
   "outputs": [
    {
     "data": {
      "text/plain": [
       "'link1'"
      ]
     },
     "execution_count": 63,
     "metadata": {},
     "output_type": "execute_result"
    }
   ],
   "source": [
    "soup.a['id']"
   ]
  },
  {
   "cell_type": "code",
   "execution_count": 64,
   "id": "1bf3129e",
   "metadata": {},
   "outputs": [
    {
     "data": {
      "text/plain": [
       "'http://example.com/elsie'"
      ]
     },
     "execution_count": 64,
     "metadata": {},
     "output_type": "execute_result"
    }
   ],
   "source": [
    "soup.a.get('href', None)\n",
    "# again, the get method is safe as it allows a defaul value"
   ]
  },
  {
   "cell_type": "markdown",
   "id": "9cda9583",
   "metadata": {},
   "source": [
    "# Extracting tag content by `text`, `get_text()`, `string`"
   ]
  },
  {
   "cell_type": "code",
   "execution_count": 96,
   "id": "1bd7e12e",
   "metadata": {},
   "outputs": [
    {
     "data": {
      "text/plain": [
       "\"\\nThe King's story\\nOnce upon a time there were five siblings; and their names were:\\nElsie,\\nMeili, \\nEric\\nLacie,\\nTillie, and\\nChao,\\nand they lived at the bottom of a well.\\n...\""
      ]
     },
     "execution_count": 96,
     "metadata": {},
     "output_type": "execute_result"
    }
   ],
   "source": [
    "main_body.text"
   ]
  },
  {
   "cell_type": "code",
   "execution_count": 97,
   "id": "8938c131",
   "metadata": {},
   "outputs": [
    {
     "data": {
      "text/plain": [
       "\"The King's story\""
      ]
     },
     "execution_count": 97,
     "metadata": {},
     "output_type": "execute_result"
    }
   ],
   "source": [
    "first_child.text"
   ]
  },
  {
   "cell_type": "code",
   "execution_count": 98,
   "id": "4f054add",
   "metadata": {},
   "outputs": [
    {
     "data": {
      "text/plain": [
       "\"The King's story\""
      ]
     },
     "execution_count": 98,
     "metadata": {},
     "output_type": "execute_result"
    }
   ],
   "source": [
    "grand_child.text"
   ]
  },
  {
   "cell_type": "code",
   "execution_count": 99,
   "id": "0f26c635",
   "metadata": {},
   "outputs": [
    {
     "data": {
      "text/plain": [
       "\"The King's story\""
      ]
     },
     "execution_count": 99,
     "metadata": {},
     "output_type": "execute_result"
    }
   ],
   "source": [
    "grand_child.get_text() \n",
    "# it is the same as text method if we pass no arguments to get_text()"
   ]
  },
  {
   "cell_type": "code",
   "execution_count": 101,
   "id": "63ab3530",
   "metadata": {
    "scrolled": false
   },
   "outputs": [
    {
     "data": {
      "text/plain": [
       "\"The King's storyThe King's storyOnce upon a time there were five siblings; and their names were:Elsie,Meili,EricLacie,Tillie, andChao,\\nand they lived at the bottom of a well....\""
      ]
     },
     "execution_count": 101,
     "metadata": {},
     "output_type": "execute_result"
    }
   ],
   "source": [
    "soup.get_text()"
   ]
  },
  {
   "cell_type": "code",
   "execution_count": 104,
   "id": "f5e48acd",
   "metadata": {},
   "outputs": [
    {
     "data": {
      "text/plain": [
       "\"The King's story<<<>>>The King's story<<<>>>Once upon a time there were five siblings; and their names were:<<<>>>Elsie<<<>>>,<<<>>>Meili<<<>>>,<<<>>>Eric<<<>>>Lacie<<<>>>,<<<>>>Tillie<<<>>>, and<<<>>>Chao<<<>>>,\\nand they lived at the bottom of a well.<<<>>>...\""
      ]
     },
     "execution_count": 104,
     "metadata": {},
     "output_type": "execute_result"
    }
   ],
   "source": [
    "soup.get_text(separator='<<<>>>', strip = True)"
   ]
  },
  {
   "cell_type": "code",
   "execution_count": 106,
   "id": "21bf7a39",
   "metadata": {
    "scrolled": false
   },
   "outputs": [
    {
     "data": {
      "text/plain": [
       "\"The King's story\""
      ]
     },
     "execution_count": 106,
     "metadata": {},
     "output_type": "execute_result"
    }
   ],
   "source": [
    "story_name = soup.title.string\n",
    "story_name"
   ]
  },
  {
   "cell_type": "code",
   "execution_count": 107,
   "id": "184d5439",
   "metadata": {},
   "outputs": [
    {
     "data": {
      "text/plain": [
       "bs4.element.NavigableString"
      ]
     },
     "execution_count": 107,
     "metadata": {},
     "output_type": "execute_result"
    }
   ],
   "source": [
    "type(story_name)"
   ]
  },
  {
   "cell_type": "code",
   "execution_count": 110,
   "id": "7268815f",
   "metadata": {},
   "outputs": [
    {
     "data": {
      "text/plain": [
       "<title>The King's story</title>"
      ]
     },
     "execution_count": 110,
     "metadata": {},
     "output_type": "execute_result"
    }
   ],
   "source": [
    "# you may use it to find other tags, hence, navigable\n",
    "story_name.findParent()"
   ]
  },
  {
   "cell_type": "markdown",
   "id": "7a5965cb",
   "metadata": {},
   "source": [
    "# CSS Selectors"
   ]
  },
  {
   "cell_type": "code",
   "execution_count": 111,
   "id": "9c86873f",
   "metadata": {},
   "outputs": [],
   "source": [
    "from bs4 import BeautifulSoup\n",
    "soup = BeautifulSoup(html, 'html.parser')"
   ]
  },
  {
   "cell_type": "code",
   "execution_count": 112,
   "id": "1256d77e",
   "metadata": {},
   "outputs": [
    {
     "data": {
      "text/plain": [
       "[<title>The King's story</title>]"
      ]
     },
     "execution_count": 112,
     "metadata": {},
     "output_type": "execute_result"
    }
   ],
   "source": [
    "soup.select(\"title\")"
   ]
  },
  {
   "cell_type": "code",
   "execution_count": 113,
   "id": "a5701ca9",
   "metadata": {},
   "outputs": [
    {
     "data": {
      "text/plain": [
       "[<a class=\"sister\" href=\"http://example.com/elsie\" id=\"link1\">Elsie</a>,\n",
       " <a class=\"sister\" href=\"http://example.com/lacie\" id=\"link2\">Lacie</a>,\n",
       " <a class=\"sister\" id=\"link3\">Tillie</a>]"
      ]
     },
     "execution_count": 113,
     "metadata": {},
     "output_type": "execute_result"
    }
   ],
   "source": [
    "soup.select('.sister, #link2')"
   ]
  },
  {
   "cell_type": "code",
   "execution_count": 114,
   "id": "d23ac484",
   "metadata": {
    "scrolled": true
   },
   "outputs": [
    {
     "data": {
      "text/plain": [
       "[<a class=\"sister\" id=\"link3\">Tillie</a>]"
      ]
     },
     "execution_count": 114,
     "metadata": {},
     "output_type": "execute_result"
    }
   ],
   "source": [
    "soup.select('#link3')"
   ]
  },
  {
   "cell_type": "code",
   "execution_count": 115,
   "id": "9cbcba41",
   "metadata": {},
   "outputs": [
    {
     "data": {
      "text/plain": [
       "[<a class=\"sister\" href=\"http://example.com/elsie\" id=\"link1\">Elsie</a>,\n",
       " <a class=\"sister\" href=\"http://example.com/lacie\" id=\"link2\">Lacie</a>,\n",
       " <a class=\"sister\" id=\"link3\">Tillie</a>,\n",
       " <a class=\"brother\" href=\"http://hku.hk/chao\" id=\"link4\">Chao</a>]"
      ]
     },
     "execution_count": 115,
     "metadata": {},
     "output_type": "execute_result"
    }
   ],
   "source": [
    "soup.select(\"body a\")"
   ]
  },
  {
   "cell_type": "code",
   "execution_count": 116,
   "id": "e50c38ab",
   "metadata": {},
   "outputs": [
    {
     "data": {
      "text/plain": [
       "[<a class=\"sister\" href=\"http://example.com/elsie\" id=\"link1\">Elsie</a>,\n",
       " <a class=\"sister\" href=\"http://example.com/lacie\" id=\"link2\">Lacie</a>,\n",
       " <a class=\"sister\" id=\"link3\">Tillie</a>,\n",
       " <a class=\"brother\" href=\"http://hku.hk/chao\" id=\"link4\">Chao</a>]"
      ]
     },
     "execution_count": 116,
     "metadata": {},
     "output_type": "execute_result"
    }
   ],
   "source": [
    "soup.select(\"p > a\")"
   ]
  },
  {
   "cell_type": "code",
   "execution_count": 117,
   "id": "f4200e20",
   "metadata": {},
   "outputs": [
    {
     "data": {
      "text/plain": [
       "[]"
      ]
     },
     "execution_count": 117,
     "metadata": {},
     "output_type": "execute_result"
    }
   ],
   "source": [
    "soup.select(\"body > a\")"
   ]
  },
  {
   "cell_type": "code",
   "execution_count": 118,
   "id": "b7e9035f",
   "metadata": {},
   "outputs": [
    {
     "data": {
      "text/plain": [
       "[<p class=\"story\">...</p>]"
      ]
     },
     "execution_count": 118,
     "metadata": {},
     "output_type": "execute_result"
    }
   ],
   "source": [
    "soup.select(\"p:nth-of-type(3)\")\n",
    "\n",
    "# there must be no space in such selectors"
   ]
  },
  {
   "cell_type": "code",
   "execution_count": 119,
   "id": "76bfa62c",
   "metadata": {},
   "outputs": [
    {
     "data": {
      "text/plain": [
       "[<a class=\"sister\" href=\"http://example.com/lacie\" id=\"link2\">Lacie</a>]"
      ]
     },
     "execution_count": 119,
     "metadata": {},
     "output_type": "execute_result"
    }
   ],
   "source": [
    "soup.select(\"a:nth-of-type(2)\")"
   ]
  },
  {
   "cell_type": "code",
   "execution_count": 120,
   "id": "c4e2e838",
   "metadata": {},
   "outputs": [
    {
     "data": {
      "text/plain": [
       "[<a class=\"sister\" href=\"http://example.com/lacie\" id=\"link2\">Lacie</a>]"
      ]
     },
     "execution_count": 120,
     "metadata": {},
     "output_type": "execute_result"
    }
   ],
   "source": [
    "soup.select(\"a:nth-child(4)\")"
   ]
  },
  {
   "cell_type": "code",
   "execution_count": 121,
   "id": "0967efe2",
   "metadata": {},
   "outputs": [
    {
     "data": {
      "text/plain": [
       "[<span>Meili</span>]"
      ]
     },
     "execution_count": 121,
     "metadata": {},
     "output_type": "execute_result"
    }
   ],
   "source": [
    "soup.select(\"p > *:nth-child(2)\")"
   ]
  },
  {
   "cell_type": "code",
   "execution_count": 122,
   "id": "e6976aba",
   "metadata": {},
   "outputs": [
    {
     "data": {
      "text/plain": [
       "[<span class=\"brother\">Eric</span>,\n",
       " <a class=\"sister\" href=\"http://example.com/lacie\" id=\"link2\">Lacie</a>]"
      ]
     },
     "execution_count": 122,
     "metadata": {},
     "output_type": "execute_result"
    }
   ],
   "source": [
    "soup.select(\"p > *:nth-of-type(2)\")"
   ]
  },
  {
   "cell_type": "code",
   "execution_count": 123,
   "id": "49fe285e",
   "metadata": {},
   "outputs": [
    {
     "data": {
      "text/plain": [
       "[<span class=\"brother\">Eric</span>]"
      ]
     },
     "execution_count": 123,
     "metadata": {},
     "output_type": "execute_result"
    }
   ],
   "source": [
    "soup.select('span:nth-of-type(2)')"
   ]
  },
  {
   "cell_type": "code",
   "execution_count": 124,
   "id": "7e000b36",
   "metadata": {},
   "outputs": [
    {
     "data": {
      "text/plain": [
       "[<span class=\"brother\">Eric</span>]"
      ]
     },
     "execution_count": 124,
     "metadata": {},
     "output_type": "execute_result"
    }
   ],
   "source": [
    "soup.select('span.brother')"
   ]
  },
  {
   "cell_type": "code",
   "execution_count": 125,
   "id": "f1b9008d",
   "metadata": {},
   "outputs": [
    {
     "data": {
      "text/plain": [
       "[<span>Meili</span>]"
      ]
     },
     "execution_count": 125,
     "metadata": {},
     "output_type": "execute_result"
    }
   ],
   "source": [
    "soup.select('a + span')"
   ]
  },
  {
   "cell_type": "code",
   "execution_count": 126,
   "id": "0d0ab55d",
   "metadata": {},
   "outputs": [
    {
     "data": {
      "text/plain": [
       "[<span>Meili</span>, <span class=\"brother\">Eric</span>]"
      ]
     },
     "execution_count": 126,
     "metadata": {},
     "output_type": "execute_result"
    }
   ],
   "source": [
    "soup.select('a ~ span')"
   ]
  },
  {
   "cell_type": "code",
   "execution_count": 127,
   "id": "4839ada4",
   "metadata": {},
   "outputs": [
    {
     "data": {
      "text/plain": [
       "[<a class=\"sister\" href=\"http://example.com/lacie\" id=\"link2\">Lacie</a>]"
      ]
     },
     "execution_count": 127,
     "metadata": {},
     "output_type": "execute_result"
    }
   ],
   "source": [
    "soup.select('body > p > span + a')"
   ]
  },
  {
   "cell_type": "markdown",
   "id": "af6d4555",
   "metadata": {},
   "source": [
    "# A good habit to keep when scraping the web"
   ]
  },
  {
   "cell_type": "code",
   "execution_count": null,
   "id": "e867833d",
   "metadata": {},
   "outputs": [],
   "source": [
    "# setup the environment\n",
    "# import packages"
   ]
  },
  {
   "cell_type": "code",
   "execution_count": null,
   "id": "02158dc9",
   "metadata": {},
   "outputs": [],
   "source": [
    "# create a handle for webpage\n",
    "# create a soup"
   ]
  },
  {
   "cell_type": "code",
   "execution_count": null,
   "id": "b1007b9c",
   "metadata": {},
   "outputs": [],
   "source": [
    "# test your codes on the first target tag\n",
    "# use soup.find(), or soup.select()"
   ]
  },
  {
   "cell_type": "code",
   "execution_count": null,
   "id": "fe2fc77c",
   "metadata": {},
   "outputs": [],
   "source": [
    "# use soup.find_all/soup.select to get all targets in a list\n",
    "# run a for loop\n",
    "# save your data in a list of lists, a dict, a string, a tuple."
   ]
  },
  {
   "cell_type": "code",
   "execution_count": null,
   "id": "032682c4",
   "metadata": {},
   "outputs": [],
   "source": [
    "# show your data to verify you get the correct thing\n",
    "# convert your data into an array, a dataframe, etc."
   ]
  },
  {
   "cell_type": "code",
   "execution_count": null,
   "id": "eaccf4c1",
   "metadata": {},
   "outputs": [],
   "source": [
    "# save it to a csv, txt, json file."
   ]
  }
 ],
 "metadata": {
  "kernelspec": {
   "display_name": "Python 3 (ipykernel)",
   "language": "python",
   "name": "python3"
  },
  "language_info": {
   "codemirror_mode": {
    "name": "ipython",
    "version": 3
   },
   "file_extension": ".py",
   "mimetype": "text/x-python",
   "name": "python",
   "nbconvert_exporter": "python",
   "pygments_lexer": "ipython3",
   "version": "3.8.2"
  }
 },
 "nbformat": 4,
 "nbformat_minor": 5
}
