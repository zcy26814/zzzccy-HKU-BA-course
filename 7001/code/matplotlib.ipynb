{
 "cells": [
  {
   "cell_type": "code",
   "execution_count": 4,
   "metadata": {},
   "outputs": [],
   "source": [
    "import pandas as pd\n",
    "import numpy as np\n",
    "import matplotlib.pyplot as plt"
   ]
  },
  {
   "cell_type": "code",
   "execution_count": 9,
   "metadata": {},
   "outputs": [],
   "source": [
    "kick = pd.read_excel('../Assignments/assognment_4/kickstarter.xlsx')"
   ]
  },
  {
   "cell_type": "code",
   "execution_count": 10,
   "metadata": {},
   "outputs": [
    {
     "data": {
      "text/html": [
       "<div>\n",
       "<style scoped>\n",
       "    .dataframe tbody tr th:only-of-type {\n",
       "        vertical-align: middle;\n",
       "    }\n",
       "\n",
       "    .dataframe tbody tr th {\n",
       "        vertical-align: top;\n",
       "    }\n",
       "\n",
       "    .dataframe thead th {\n",
       "        text-align: right;\n",
       "    }\n",
       "</style>\n",
       "<table border=\"1\" class=\"dataframe\">\n",
       "  <thead>\n",
       "    <tr style=\"text-align: right;\">\n",
       "      <th></th>\n",
       "      <th>ID</th>\n",
       "      <th>Name</th>\n",
       "      <th>Blurb</th>\n",
       "      <th>Goal</th>\n",
       "      <th>Pledged</th>\n",
       "      <th>Status</th>\n",
       "      <th>Launch Date</th>\n",
       "      <th>Deadline</th>\n",
       "      <th>Staff Pick</th>\n",
       "      <th>Backers Count</th>\n",
       "      <th>Creator</th>\n",
       "      <th>City</th>\n",
       "      <th>State</th>\n",
       "      <th>Category</th>\n",
       "      <th>Subcategory</th>\n",
       "      <th>URLs</th>\n",
       "    </tr>\n",
       "  </thead>\n",
       "  <tbody>\n",
       "    <tr>\n",
       "      <th>0</th>\n",
       "      <td>18520</td>\n",
       "      <td>Grandma's are Life</td>\n",
       "      <td>Raising money to help my grandmother recover f...</td>\n",
       "      <td>15000.0</td>\n",
       "      <td>62.0</td>\n",
       "      <td>failed</td>\n",
       "      <td>2016-10-19 08:32:40</td>\n",
       "      <td>2016-11-18 09:32:40</td>\n",
       "      <td>False</td>\n",
       "      <td>4</td>\n",
       "      <td>https://www.kickstarter.com/profile/1501687606</td>\n",
       "      <td>Cleveland</td>\n",
       "      <td>OH</td>\n",
       "      <td>music</td>\n",
       "      <td>world music</td>\n",
       "      <td>{\"web\":{\"project\":\"https://www.kickstarter.com...</td>\n",
       "    </tr>\n",
       "    <tr>\n",
       "      <th>1</th>\n",
       "      <td>24380</td>\n",
       "      <td>Puss N' Books: A relaxing cat cafe and bookstore.</td>\n",
       "      <td>A sanctuary for humans and felines alike! Come...</td>\n",
       "      <td>20000.0</td>\n",
       "      <td>776.0</td>\n",
       "      <td>failed</td>\n",
       "      <td>2015-10-27 10:25:33</td>\n",
       "      <td>2015-11-26 11:25:33</td>\n",
       "      <td>False</td>\n",
       "      <td>18</td>\n",
       "      <td>https://www.kickstarter.com/profile/920978851</td>\n",
       "      <td>Bloomington</td>\n",
       "      <td>IL</td>\n",
       "      <td>food</td>\n",
       "      <td>spaces</td>\n",
       "      <td>{\"web\":{\"project\":\"https://www.kickstarter.com...</td>\n",
       "    </tr>\n",
       "    <tr>\n",
       "      <th>2</th>\n",
       "      <td>39409</td>\n",
       "      <td>WHILE THE TREES SLEEP</td>\n",
       "      <td>CalArts thesis film inspired by true events su...</td>\n",
       "      <td>10500.0</td>\n",
       "      <td>11545.0</td>\n",
       "      <td>successful</td>\n",
       "      <td>2011-07-20 14:28:17</td>\n",
       "      <td>2011-08-19 14:28:17</td>\n",
       "      <td>False</td>\n",
       "      <td>66</td>\n",
       "      <td>https://www.kickstarter.com/profile/emiliesabath</td>\n",
       "      <td>Columbia</td>\n",
       "      <td>MO</td>\n",
       "      <td>film &amp; video</td>\n",
       "      <td>shorts</td>\n",
       "      <td>{\"web\":{\"project\":\"https://www.kickstarter.com...</td>\n",
       "    </tr>\n",
       "  </tbody>\n",
       "</table>\n",
       "</div>"
      ],
      "text/plain": [
       "      ID                                               Name  \\\n",
       "0  18520                                 Grandma's are Life   \n",
       "1  24380  Puss N' Books: A relaxing cat cafe and bookstore.   \n",
       "2  39409                              WHILE THE TREES SLEEP   \n",
       "\n",
       "                                               Blurb     Goal  Pledged  \\\n",
       "0  Raising money to help my grandmother recover f...  15000.0     62.0   \n",
       "1  A sanctuary for humans and felines alike! Come...  20000.0    776.0   \n",
       "2  CalArts thesis film inspired by true events su...  10500.0  11545.0   \n",
       "\n",
       "       Status         Launch Date            Deadline  Staff Pick  \\\n",
       "0      failed 2016-10-19 08:32:40 2016-11-18 09:32:40       False   \n",
       "1      failed 2015-10-27 10:25:33 2015-11-26 11:25:33       False   \n",
       "2  successful 2011-07-20 14:28:17 2011-08-19 14:28:17       False   \n",
       "\n",
       "   Backers Count                                           Creator  \\\n",
       "0              4    https://www.kickstarter.com/profile/1501687606   \n",
       "1             18     https://www.kickstarter.com/profile/920978851   \n",
       "2             66  https://www.kickstarter.com/profile/emiliesabath   \n",
       "\n",
       "          City State      Category  Subcategory  \\\n",
       "0    Cleveland    OH         music  world music   \n",
       "1  Bloomington    IL          food       spaces   \n",
       "2     Columbia    MO  film & video       shorts   \n",
       "\n",
       "                                                URLs  \n",
       "0  {\"web\":{\"project\":\"https://www.kickstarter.com...  \n",
       "1  {\"web\":{\"project\":\"https://www.kickstarter.com...  \n",
       "2  {\"web\":{\"project\":\"https://www.kickstarter.com...  "
      ]
     },
     "execution_count": 10,
     "metadata": {},
     "output_type": "execute_result"
    }
   ],
   "source": [
    "kick.head(3)"
   ]
  },
  {
   "cell_type": "code",
   "execution_count": 11,
   "metadata": {},
   "outputs": [
    {
     "data": {
      "text/plain": [
       "ID                        int64\n",
       "Name                     object\n",
       "Blurb                    object\n",
       "Goal                    float64\n",
       "Pledged                 float64\n",
       "Status                   object\n",
       "Launch Date      datetime64[ns]\n",
       "Deadline         datetime64[ns]\n",
       "Staff Pick                 bool\n",
       "Backers Count             int64\n",
       "Creator                  object\n",
       "City                     object\n",
       "State                    object\n",
       "Category                 object\n",
       "Subcategory              object\n",
       "URLs                     object\n",
       "dtype: object"
      ]
     },
     "execution_count": 11,
     "metadata": {},
     "output_type": "execute_result"
    }
   ],
   "source": [
    "kick.dtypes"
   ]
  },
  {
   "cell_type": "code",
   "execution_count": 12,
   "metadata": {},
   "outputs": [
    {
     "data": {
      "text/plain": [
       "Status\n",
       "successful    51544\n",
       "failed        51273\n",
       "canceled       6934\n",
       "live           1764\n",
       "suspended       422\n",
       "Name: count, dtype: int64"
      ]
     },
     "execution_count": 12,
     "metadata": {},
     "output_type": "execute_result"
    }
   ],
   "source": [
    "kick['Status'].value_counts()"
   ]
  },
  {
   "cell_type": "code",
   "execution_count": 13,
   "metadata": {},
   "outputs": [],
   "source": [
    "sample = kick.loc[(kick['Status'] == 'successful') |\n",
    "                  (kick['Status'] == 'failed')].copy()"
   ]
  },
  {
   "cell_type": "code",
   "execution_count": 14,
   "metadata": {},
   "outputs": [
    {
     "data": {
      "text/html": [
       "<div>\n",
       "<style scoped>\n",
       "    .dataframe tbody tr th:only-of-type {\n",
       "        vertical-align: middle;\n",
       "    }\n",
       "\n",
       "    .dataframe tbody tr th {\n",
       "        vertical-align: top;\n",
       "    }\n",
       "\n",
       "    .dataframe thead th {\n",
       "        text-align: right;\n",
       "    }\n",
       "</style>\n",
       "<table border=\"1\" class=\"dataframe\">\n",
       "  <thead>\n",
       "    <tr style=\"text-align: right;\">\n",
       "      <th></th>\n",
       "      <th>ID</th>\n",
       "      <th>Goal</th>\n",
       "      <th>Pledged</th>\n",
       "      <th>Launch Date</th>\n",
       "      <th>Deadline</th>\n",
       "      <th>Backers Count</th>\n",
       "    </tr>\n",
       "  </thead>\n",
       "  <tbody>\n",
       "    <tr>\n",
       "      <th>count</th>\n",
       "      <td>1.028170e+05</td>\n",
       "      <td>1.028170e+05</td>\n",
       "      <td>1.028170e+05</td>\n",
       "      <td>102817</td>\n",
       "      <td>102817</td>\n",
       "      <td>102817.000000</td>\n",
       "    </tr>\n",
       "    <tr>\n",
       "      <th>mean</th>\n",
       "      <td>1.076106e+09</td>\n",
       "      <td>3.706169e+04</td>\n",
       "      <td>1.327916e+04</td>\n",
       "      <td>2014-04-26 04:51:22.372273152</td>\n",
       "      <td>2014-05-29 21:47:42.894073856</td>\n",
       "      <td>157.930566</td>\n",
       "    </tr>\n",
       "    <tr>\n",
       "      <th>min</th>\n",
       "      <td>1.852000e+04</td>\n",
       "      <td>1.000000e-02</td>\n",
       "      <td>0.000000e+00</td>\n",
       "      <td>2009-04-29 15:08:13</td>\n",
       "      <td>2009-05-31 19:20:00</td>\n",
       "      <td>0.000000</td>\n",
       "    </tr>\n",
       "    <tr>\n",
       "      <th>25%</th>\n",
       "      <td>5.391611e+08</td>\n",
       "      <td>2.000000e+03</td>\n",
       "      <td>7.500000e+01</td>\n",
       "      <td>2013-01-24 20:02:58</td>\n",
       "      <td>2013-02-26 01:38:53</td>\n",
       "      <td>3.000000</td>\n",
       "    </tr>\n",
       "    <tr>\n",
       "      <th>50%</th>\n",
       "      <td>1.080458e+09</td>\n",
       "      <td>5.000000e+03</td>\n",
       "      <td>1.304000e+03</td>\n",
       "      <td>2014-08-30 11:54:38</td>\n",
       "      <td>2014-10-02 22:59:00</td>\n",
       "      <td>23.000000</td>\n",
       "    </tr>\n",
       "    <tr>\n",
       "      <th>75%</th>\n",
       "      <td>1.611729e+09</td>\n",
       "      <td>1.500000e+04</td>\n",
       "      <td>6.015000e+03</td>\n",
       "      <td>2015-08-03 01:04:08</td>\n",
       "      <td>2015-09-04 10:00:02</td>\n",
       "      <td>81.000000</td>\n",
       "    </tr>\n",
       "    <tr>\n",
       "      <th>max</th>\n",
       "      <td>2.147476e+09</td>\n",
       "      <td>1.000000e+08</td>\n",
       "      <td>2.033899e+07</td>\n",
       "      <td>2016-12-06 15:29:21</td>\n",
       "      <td>2016-12-15 21:02:59</td>\n",
       "      <td>219382.000000</td>\n",
       "    </tr>\n",
       "    <tr>\n",
       "      <th>std</th>\n",
       "      <td>6.195257e+08</td>\n",
       "      <td>8.740204e+05</td>\n",
       "      <td>1.357438e+05</td>\n",
       "      <td>NaN</td>\n",
       "      <td>NaN</td>\n",
       "      <td>1456.242039</td>\n",
       "    </tr>\n",
       "  </tbody>\n",
       "</table>\n",
       "</div>"
      ],
      "text/plain": [
       "                 ID          Goal       Pledged  \\\n",
       "count  1.028170e+05  1.028170e+05  1.028170e+05   \n",
       "mean   1.076106e+09  3.706169e+04  1.327916e+04   \n",
       "min    1.852000e+04  1.000000e-02  0.000000e+00   \n",
       "25%    5.391611e+08  2.000000e+03  7.500000e+01   \n",
       "50%    1.080458e+09  5.000000e+03  1.304000e+03   \n",
       "75%    1.611729e+09  1.500000e+04  6.015000e+03   \n",
       "max    2.147476e+09  1.000000e+08  2.033899e+07   \n",
       "std    6.195257e+08  8.740204e+05  1.357438e+05   \n",
       "\n",
       "                         Launch Date                       Deadline  \\\n",
       "count                         102817                         102817   \n",
       "mean   2014-04-26 04:51:22.372273152  2014-05-29 21:47:42.894073856   \n",
       "min              2009-04-29 15:08:13            2009-05-31 19:20:00   \n",
       "25%              2013-01-24 20:02:58            2013-02-26 01:38:53   \n",
       "50%              2014-08-30 11:54:38            2014-10-02 22:59:00   \n",
       "75%              2015-08-03 01:04:08            2015-09-04 10:00:02   \n",
       "max              2016-12-06 15:29:21            2016-12-15 21:02:59   \n",
       "std                              NaN                            NaN   \n",
       "\n",
       "       Backers Count  \n",
       "count  102817.000000  \n",
       "mean      157.930566  \n",
       "min         0.000000  \n",
       "25%         3.000000  \n",
       "50%        23.000000  \n",
       "75%        81.000000  \n",
       "max    219382.000000  \n",
       "std      1456.242039  "
      ]
     },
     "execution_count": 14,
     "metadata": {},
     "output_type": "execute_result"
    }
   ],
   "source": [
    "sample.describe()"
   ]
  },
  {
   "cell_type": "code",
   "execution_count": 15,
   "metadata": {},
   "outputs": [
    {
     "data": {
      "text/plain": [
       "18.420680743952367"
      ]
     },
     "execution_count": 15,
     "metadata": {},
     "output_type": "execute_result"
    }
   ],
   "source": [
    "# log transformation\n",
    "np.log(\t1.000000e+08)"
   ]
  },
  {
   "cell_type": "code",
   "execution_count": 20,
   "metadata": {},
   "outputs": [
    {
     "name": "stderr",
     "output_type": "stream",
     "text": [
      "C:\\Users\\ZZZのwlkq\\AppData\\Local\\Temp\\ipykernel_23108\\2885926301.py:2: FutureWarning: Setting an item of incompatible dtype is deprecated and will raise in a future error of pandas. Value '[ 9.61580548  9.90348755  9.25913054 ...  6.62007321  9.79812704\n",
      " 11.22524339]' has dtype incompatible with int64, please explicitly cast to a compatible dtype first.\n",
      "  sample['loggoal'].mask(sample['Goal'] != 0,\n",
      "c:\\Users\\ZZZのwlkq\\AppData\\Local\\Programs\\Python\\Python311\\Lib\\site-packages\\pandas\\core\\arraylike.py:396: RuntimeWarning: divide by zero encountered in log\n",
      "  result = getattr(ufunc, method)(*inputs, **kwargs)\n",
      "C:\\Users\\ZZZのwlkq\\AppData\\Local\\Temp\\ipykernel_23108\\2885926301.py:6: FutureWarning: Setting an item of incompatible dtype is deprecated and will raise in a future error of pandas. Value '[ 4.12713439  6.65415252  9.35400772 ...  6.81892407  9.83937561\n",
      " 12.62524998]' has dtype incompatible with int64, please explicitly cast to a compatible dtype first.\n",
      "  sample['loggledged'].mask(sample['Pledged'] != 0,\n",
      "C:\\Users\\ZZZのwlkq\\AppData\\Local\\Temp\\ipykernel_23108\\2885926301.py:10: FutureWarning: Setting an item of incompatible dtype is deprecated and will raise in a future error of pandas. Value '[1.38629436 2.89037176 4.18965474 ... 2.56494936 3.97029191 7.63819824]' has dtype incompatible with int64, please explicitly cast to a compatible dtype first.\n",
      "  sample['logbacker'].mask(sample['Backers Count'] != 0,\n"
     ]
    }
   ],
   "source": [
    "sample['loggoal'] = 0\n",
    "sample['loggoal'].mask(sample['Goal'] != 0, \n",
    "                       np.log(sample['Goal']), inplace= True)\n",
    "\n",
    "sample['loggledged'] = 0\n",
    "sample['loggledged'].mask(sample['Pledged'] != 0, \n",
    "                       np.log(sample['Pledged']), inplace= True)\n",
    "\n",
    "sample['logbacker'] = 0\n",
    "sample['logbacker'].mask(sample['Backers Count'] != 0, \n",
    "                       np.log(sample['Backers Count']), inplace= True)"
   ]
  },
  {
   "cell_type": "code",
   "execution_count": 21,
   "metadata": {},
   "outputs": [
    {
     "data": {
      "text/html": [
       "<div>\n",
       "<style scoped>\n",
       "    .dataframe tbody tr th:only-of-type {\n",
       "        vertical-align: middle;\n",
       "    }\n",
       "\n",
       "    .dataframe tbody tr th {\n",
       "        vertical-align: top;\n",
       "    }\n",
       "\n",
       "    .dataframe thead th {\n",
       "        text-align: right;\n",
       "    }\n",
       "</style>\n",
       "<table border=\"1\" class=\"dataframe\">\n",
       "  <thead>\n",
       "    <tr style=\"text-align: right;\">\n",
       "      <th></th>\n",
       "      <th>ID</th>\n",
       "      <th>Goal</th>\n",
       "      <th>Pledged</th>\n",
       "      <th>Launch Date</th>\n",
       "      <th>Deadline</th>\n",
       "      <th>Backers Count</th>\n",
       "      <th>locgoal</th>\n",
       "      <th>loggledged</th>\n",
       "      <th>logbacker</th>\n",
       "      <th>loggoal</th>\n",
       "    </tr>\n",
       "  </thead>\n",
       "  <tbody>\n",
       "    <tr>\n",
       "      <th>count</th>\n",
       "      <td>1.028170e+05</td>\n",
       "      <td>1.028170e+05</td>\n",
       "      <td>1.028170e+05</td>\n",
       "      <td>102817</td>\n",
       "      <td>102817</td>\n",
       "      <td>102817.000000</td>\n",
       "      <td>102817.000000</td>\n",
       "      <td>102817.000000</td>\n",
       "      <td>102817.000000</td>\n",
       "      <td>102817.000000</td>\n",
       "    </tr>\n",
       "    <tr>\n",
       "      <th>mean</th>\n",
       "      <td>1.076106e+09</td>\n",
       "      <td>3.706169e+04</td>\n",
       "      <td>1.327916e+04</td>\n",
       "      <td>2014-04-26 04:51:22.372273152</td>\n",
       "      <td>2014-05-29 21:47:42.894073856</td>\n",
       "      <td>157.930566</td>\n",
       "      <td>8.550973</td>\n",
       "      <td>6.311334</td>\n",
       "      <td>2.910394</td>\n",
       "      <td>8.550973</td>\n",
       "    </tr>\n",
       "    <tr>\n",
       "      <th>min</th>\n",
       "      <td>1.852000e+04</td>\n",
       "      <td>1.000000e-02</td>\n",
       "      <td>0.000000e+00</td>\n",
       "      <td>2009-04-29 15:08:13</td>\n",
       "      <td>2009-05-31 19:20:00</td>\n",
       "      <td>0.000000</td>\n",
       "      <td>-4.605170</td>\n",
       "      <td>0.000000</td>\n",
       "      <td>0.000000</td>\n",
       "      <td>-4.605170</td>\n",
       "    </tr>\n",
       "    <tr>\n",
       "      <th>25%</th>\n",
       "      <td>5.391611e+08</td>\n",
       "      <td>2.000000e+03</td>\n",
       "      <td>7.500000e+01</td>\n",
       "      <td>2013-01-24 20:02:58</td>\n",
       "      <td>2013-02-26 01:38:53</td>\n",
       "      <td>3.000000</td>\n",
       "      <td>7.600902</td>\n",
       "      <td>4.317488</td>\n",
       "      <td>1.098612</td>\n",
       "      <td>7.600902</td>\n",
       "    </tr>\n",
       "    <tr>\n",
       "      <th>50%</th>\n",
       "      <td>1.080458e+09</td>\n",
       "      <td>5.000000e+03</td>\n",
       "      <td>1.304000e+03</td>\n",
       "      <td>2014-08-30 11:54:38</td>\n",
       "      <td>2014-10-02 22:59:00</td>\n",
       "      <td>23.000000</td>\n",
       "      <td>8.517193</td>\n",
       "      <td>7.173192</td>\n",
       "      <td>3.135494</td>\n",
       "      <td>8.517193</td>\n",
       "    </tr>\n",
       "    <tr>\n",
       "      <th>75%</th>\n",
       "      <td>1.611729e+09</td>\n",
       "      <td>1.500000e+04</td>\n",
       "      <td>6.015000e+03</td>\n",
       "      <td>2015-08-03 01:04:08</td>\n",
       "      <td>2015-09-04 10:00:02</td>\n",
       "      <td>81.000000</td>\n",
       "      <td>9.615805</td>\n",
       "      <td>8.702012</td>\n",
       "      <td>4.394449</td>\n",
       "      <td>9.615805</td>\n",
       "    </tr>\n",
       "    <tr>\n",
       "      <th>max</th>\n",
       "      <td>2.147476e+09</td>\n",
       "      <td>1.000000e+08</td>\n",
       "      <td>2.033899e+07</td>\n",
       "      <td>2016-12-06 15:29:21</td>\n",
       "      <td>2016-12-15 21:02:59</td>\n",
       "      <td>219382.000000</td>\n",
       "      <td>18.420681</td>\n",
       "      <td>16.828050</td>\n",
       "      <td>12.298570</td>\n",
       "      <td>18.420681</td>\n",
       "    </tr>\n",
       "    <tr>\n",
       "      <th>std</th>\n",
       "      <td>6.195257e+08</td>\n",
       "      <td>8.740204e+05</td>\n",
       "      <td>1.357438e+05</td>\n",
       "      <td>NaN</td>\n",
       "      <td>NaN</td>\n",
       "      <td>1456.242039</td>\n",
       "      <td>1.639136</td>\n",
       "      <td>3.309863</td>\n",
       "      <td>2.052429</td>\n",
       "      <td>1.639136</td>\n",
       "    </tr>\n",
       "  </tbody>\n",
       "</table>\n",
       "</div>"
      ],
      "text/plain": [
       "                 ID          Goal       Pledged  \\\n",
       "count  1.028170e+05  1.028170e+05  1.028170e+05   \n",
       "mean   1.076106e+09  3.706169e+04  1.327916e+04   \n",
       "min    1.852000e+04  1.000000e-02  0.000000e+00   \n",
       "25%    5.391611e+08  2.000000e+03  7.500000e+01   \n",
       "50%    1.080458e+09  5.000000e+03  1.304000e+03   \n",
       "75%    1.611729e+09  1.500000e+04  6.015000e+03   \n",
       "max    2.147476e+09  1.000000e+08  2.033899e+07   \n",
       "std    6.195257e+08  8.740204e+05  1.357438e+05   \n",
       "\n",
       "                         Launch Date                       Deadline  \\\n",
       "count                         102817                         102817   \n",
       "mean   2014-04-26 04:51:22.372273152  2014-05-29 21:47:42.894073856   \n",
       "min              2009-04-29 15:08:13            2009-05-31 19:20:00   \n",
       "25%              2013-01-24 20:02:58            2013-02-26 01:38:53   \n",
       "50%              2014-08-30 11:54:38            2014-10-02 22:59:00   \n",
       "75%              2015-08-03 01:04:08            2015-09-04 10:00:02   \n",
       "max              2016-12-06 15:29:21            2016-12-15 21:02:59   \n",
       "std                              NaN                            NaN   \n",
       "\n",
       "       Backers Count        locgoal     loggledged      logbacker  \\\n",
       "count  102817.000000  102817.000000  102817.000000  102817.000000   \n",
       "mean      157.930566       8.550973       6.311334       2.910394   \n",
       "min         0.000000      -4.605170       0.000000       0.000000   \n",
       "25%         3.000000       7.600902       4.317488       1.098612   \n",
       "50%        23.000000       8.517193       7.173192       3.135494   \n",
       "75%        81.000000       9.615805       8.702012       4.394449   \n",
       "max    219382.000000      18.420681      16.828050      12.298570   \n",
       "std      1456.242039       1.639136       3.309863       2.052429   \n",
       "\n",
       "             loggoal  \n",
       "count  102817.000000  \n",
       "mean        8.550973  \n",
       "min        -4.605170  \n",
       "25%         7.600902  \n",
       "50%         8.517193  \n",
       "75%         9.615805  \n",
       "max        18.420681  \n",
       "std         1.639136  "
      ]
     },
     "execution_count": 21,
     "metadata": {},
     "output_type": "execute_result"
    }
   ],
   "source": [
    "sample.describe()"
   ]
  },
  {
   "cell_type": "code",
   "execution_count": 22,
   "metadata": {},
   "outputs": [
    {
     "data": {
      "text/plain": [
       "Status\n",
       "successful    51544\n",
       "failed        51273\n",
       "Name: count, dtype: int64"
      ]
     },
     "execution_count": 22,
     "metadata": {},
     "output_type": "execute_result"
    }
   ],
   "source": [
    "sample['Status'].value_counts()"
   ]
  },
  {
   "cell_type": "code",
   "execution_count": 26,
   "metadata": {},
   "outputs": [],
   "source": [
    "sample['numstatus'] = 0\n",
    "sample['numstatus'].mask(sample['Status'] == 'successful',\n",
    "                         1, inplace=True)"
   ]
  },
  {
   "cell_type": "code",
   "execution_count": 27,
   "metadata": {},
   "outputs": [
    {
     "data": {
      "text/html": [
       "<div>\n",
       "<style scoped>\n",
       "    .dataframe tbody tr th:only-of-type {\n",
       "        vertical-align: middle;\n",
       "    }\n",
       "\n",
       "    .dataframe tbody tr th {\n",
       "        vertical-align: top;\n",
       "    }\n",
       "\n",
       "    .dataframe thead th {\n",
       "        text-align: right;\n",
       "    }\n",
       "</style>\n",
       "<table border=\"1\" class=\"dataframe\">\n",
       "  <thead>\n",
       "    <tr style=\"text-align: right;\">\n",
       "      <th></th>\n",
       "      <th>ID</th>\n",
       "      <th>Name</th>\n",
       "      <th>Blurb</th>\n",
       "      <th>Goal</th>\n",
       "      <th>Pledged</th>\n",
       "      <th>Status</th>\n",
       "      <th>Launch Date</th>\n",
       "      <th>Deadline</th>\n",
       "      <th>Staff Pick</th>\n",
       "      <th>Backers Count</th>\n",
       "      <th>...</th>\n",
       "      <th>City</th>\n",
       "      <th>State</th>\n",
       "      <th>Category</th>\n",
       "      <th>Subcategory</th>\n",
       "      <th>URLs</th>\n",
       "      <th>locgoal</th>\n",
       "      <th>loggledged</th>\n",
       "      <th>logbacker</th>\n",
       "      <th>loggoal</th>\n",
       "      <th>numstatus</th>\n",
       "    </tr>\n",
       "  </thead>\n",
       "  <tbody>\n",
       "    <tr>\n",
       "      <th>0</th>\n",
       "      <td>18520</td>\n",
       "      <td>Grandma's are Life</td>\n",
       "      <td>Raising money to help my grandmother recover f...</td>\n",
       "      <td>15000.0</td>\n",
       "      <td>62.0</td>\n",
       "      <td>failed</td>\n",
       "      <td>2016-10-19 08:32:40</td>\n",
       "      <td>2016-11-18 09:32:40</td>\n",
       "      <td>False</td>\n",
       "      <td>4</td>\n",
       "      <td>...</td>\n",
       "      <td>Cleveland</td>\n",
       "      <td>OH</td>\n",
       "      <td>music</td>\n",
       "      <td>world music</td>\n",
       "      <td>{\"web\":{\"project\":\"https://www.kickstarter.com...</td>\n",
       "      <td>9.615805</td>\n",
       "      <td>4.127134</td>\n",
       "      <td>1.386294</td>\n",
       "      <td>9.615805</td>\n",
       "      <td>0</td>\n",
       "    </tr>\n",
       "    <tr>\n",
       "      <th>1</th>\n",
       "      <td>24380</td>\n",
       "      <td>Puss N' Books: A relaxing cat cafe and bookstore.</td>\n",
       "      <td>A sanctuary for humans and felines alike! Come...</td>\n",
       "      <td>20000.0</td>\n",
       "      <td>776.0</td>\n",
       "      <td>failed</td>\n",
       "      <td>2015-10-27 10:25:33</td>\n",
       "      <td>2015-11-26 11:25:33</td>\n",
       "      <td>False</td>\n",
       "      <td>18</td>\n",
       "      <td>...</td>\n",
       "      <td>Bloomington</td>\n",
       "      <td>IL</td>\n",
       "      <td>food</td>\n",
       "      <td>spaces</td>\n",
       "      <td>{\"web\":{\"project\":\"https://www.kickstarter.com...</td>\n",
       "      <td>9.903488</td>\n",
       "      <td>6.654153</td>\n",
       "      <td>2.890372</td>\n",
       "      <td>9.903488</td>\n",
       "      <td>0</td>\n",
       "    </tr>\n",
       "    <tr>\n",
       "      <th>2</th>\n",
       "      <td>39409</td>\n",
       "      <td>WHILE THE TREES SLEEP</td>\n",
       "      <td>CalArts thesis film inspired by true events su...</td>\n",
       "      <td>10500.0</td>\n",
       "      <td>11545.0</td>\n",
       "      <td>successful</td>\n",
       "      <td>2011-07-20 14:28:17</td>\n",
       "      <td>2011-08-19 14:28:17</td>\n",
       "      <td>False</td>\n",
       "      <td>66</td>\n",
       "      <td>...</td>\n",
       "      <td>Columbia</td>\n",
       "      <td>MO</td>\n",
       "      <td>film &amp; video</td>\n",
       "      <td>shorts</td>\n",
       "      <td>{\"web\":{\"project\":\"https://www.kickstarter.com...</td>\n",
       "      <td>9.259131</td>\n",
       "      <td>9.354008</td>\n",
       "      <td>4.189655</td>\n",
       "      <td>9.259131</td>\n",
       "      <td>1</td>\n",
       "    </tr>\n",
       "    <tr>\n",
       "      <th>3</th>\n",
       "      <td>53154</td>\n",
       "      <td>Swim (Feature Film)</td>\n",
       "      <td>A feature film about a young girl raising her ...</td>\n",
       "      <td>3200.0</td>\n",
       "      <td>3230.0</td>\n",
       "      <td>successful</td>\n",
       "      <td>2013-06-03 11:58:07</td>\n",
       "      <td>2013-07-03 11:58:07</td>\n",
       "      <td>False</td>\n",
       "      <td>38</td>\n",
       "      <td>...</td>\n",
       "      <td>Philadelphia</td>\n",
       "      <td>PA</td>\n",
       "      <td>film &amp; video</td>\n",
       "      <td>narrative film</td>\n",
       "      <td>{\"web\":{\"project\":\"https://www.kickstarter.com...</td>\n",
       "      <td>8.070906</td>\n",
       "      <td>8.080237</td>\n",
       "      <td>3.637586</td>\n",
       "      <td>8.070906</td>\n",
       "      <td>1</td>\n",
       "    </tr>\n",
       "    <tr>\n",
       "      <th>4</th>\n",
       "      <td>113230</td>\n",
       "      <td>REBIRTH</td>\n",
       "      <td>An ambitious corporate man discovers his compa...</td>\n",
       "      <td>15644.0</td>\n",
       "      <td>15779.0</td>\n",
       "      <td>successful</td>\n",
       "      <td>2014-05-07 08:27:16</td>\n",
       "      <td>2014-06-06 08:27:16</td>\n",
       "      <td>False</td>\n",
       "      <td>44</td>\n",
       "      <td>...</td>\n",
       "      <td>New York</td>\n",
       "      <td>NY</td>\n",
       "      <td>film &amp; video</td>\n",
       "      <td>science fiction</td>\n",
       "      <td>{\"web\":{\"project\":\"https://www.kickstarter.com...</td>\n",
       "      <td>9.657843</td>\n",
       "      <td>9.666435</td>\n",
       "      <td>3.784190</td>\n",
       "      <td>9.657843</td>\n",
       "      <td>1</td>\n",
       "    </tr>\n",
       "  </tbody>\n",
       "</table>\n",
       "<p>5 rows × 21 columns</p>\n",
       "</div>"
      ],
      "text/plain": [
       "       ID                                               Name  \\\n",
       "0   18520                                 Grandma's are Life   \n",
       "1   24380  Puss N' Books: A relaxing cat cafe and bookstore.   \n",
       "2   39409                              WHILE THE TREES SLEEP   \n",
       "3   53154                                Swim (Feature Film)   \n",
       "4  113230                                            REBIRTH   \n",
       "\n",
       "                                               Blurb     Goal  Pledged  \\\n",
       "0  Raising money to help my grandmother recover f...  15000.0     62.0   \n",
       "1  A sanctuary for humans and felines alike! Come...  20000.0    776.0   \n",
       "2  CalArts thesis film inspired by true events su...  10500.0  11545.0   \n",
       "3  A feature film about a young girl raising her ...   3200.0   3230.0   \n",
       "4  An ambitious corporate man discovers his compa...  15644.0  15779.0   \n",
       "\n",
       "       Status         Launch Date            Deadline  Staff Pick  \\\n",
       "0      failed 2016-10-19 08:32:40 2016-11-18 09:32:40       False   \n",
       "1      failed 2015-10-27 10:25:33 2015-11-26 11:25:33       False   \n",
       "2  successful 2011-07-20 14:28:17 2011-08-19 14:28:17       False   \n",
       "3  successful 2013-06-03 11:58:07 2013-07-03 11:58:07       False   \n",
       "4  successful 2014-05-07 08:27:16 2014-06-06 08:27:16       False   \n",
       "\n",
       "   Backers Count  ...          City State      Category      Subcategory  \\\n",
       "0              4  ...     Cleveland    OH         music      world music   \n",
       "1             18  ...   Bloomington    IL          food           spaces   \n",
       "2             66  ...      Columbia    MO  film & video           shorts   \n",
       "3             38  ...  Philadelphia    PA  film & video   narrative film   \n",
       "4             44  ...      New York    NY  film & video  science fiction   \n",
       "\n",
       "                                                URLs   locgoal  loggledged  \\\n",
       "0  {\"web\":{\"project\":\"https://www.kickstarter.com...  9.615805    4.127134   \n",
       "1  {\"web\":{\"project\":\"https://www.kickstarter.com...  9.903488    6.654153   \n",
       "2  {\"web\":{\"project\":\"https://www.kickstarter.com...  9.259131    9.354008   \n",
       "3  {\"web\":{\"project\":\"https://www.kickstarter.com...  8.070906    8.080237   \n",
       "4  {\"web\":{\"project\":\"https://www.kickstarter.com...  9.657843    9.666435   \n",
       "\n",
       "   logbacker   loggoal  numstatus  \n",
       "0   1.386294  9.615805          0  \n",
       "1   2.890372  9.903488          0  \n",
       "2   4.189655  9.259131          1  \n",
       "3   3.637586  8.070906          1  \n",
       "4   3.784190  9.657843          1  \n",
       "\n",
       "[5 rows x 21 columns]"
      ]
     },
     "execution_count": 27,
     "metadata": {},
     "output_type": "execute_result"
    }
   ],
   "source": [
    "sample.head()"
   ]
  },
  {
   "cell_type": "code",
   "execution_count": 28,
   "metadata": {},
   "outputs": [
    {
     "data": {
      "text/plain": [
       "count    102817.000000\n",
       "mean          0.501318\n",
       "std           0.500001\n",
       "min           0.000000\n",
       "25%           0.000000\n",
       "50%           1.000000\n",
       "75%           1.000000\n",
       "max           1.000000\n",
       "Name: numstatus, dtype: float64"
      ]
     },
     "execution_count": 28,
     "metadata": {},
     "output_type": "execute_result"
    }
   ],
   "source": [
    "sample['numstatus'].describe()"
   ]
  },
  {
   "cell_type": "markdown",
   "metadata": {},
   "source": [
    "# histogram"
   ]
  },
  {
   "cell_type": "code",
   "execution_count": 31,
   "metadata": {},
   "outputs": [
    {
     "data": {
      "image/png": "[encoded data removed]",
      "text/plain": [
       "<Figure size 640x480 with 1 Axes>"
      ]
     },
     "metadata": {},
     "output_type": "display_data"
    }
   ],
   "source": [
    "plt.hist(sample['logbacker'], bins= 12, density= True, cumulative= True)\n",
    "plt.show()"
   ]
  },
  {
   "cell_type": "markdown",
   "metadata": {},
   "source": [
    "# boxplot"
   ]
  },
  {
   "cell_type": "code",
   "execution_count": 32,
   "metadata": {},
   "outputs": [
    {
     "data": {
      "image/png": "[encoded data removed]",
      "text/plain": [
       "<Figure size 640x480 with 1 Axes>"
      ]
     },
     "metadata": {},
     "output_type": "display_data"
    }
   ],
   "source": [
    "plt.boxplot(sample['logbacker'])\n",
    "plt.show()"
   ]
  },
  {
   "cell_type": "markdown",
   "metadata": {},
   "source": [
    "# scatter plot"
   ]
  },
  {
   "cell_type": "code",
   "execution_count": 33,
   "metadata": {},
   "outputs": [
    {
     "data": {
      "image/png": "[encoded data removed]",
      "text/plain": [
       "<Figure size 640x480 with 1 Axes>"
      ]
     },
     "metadata": {},
     "output_type": "display_data"
    }
   ],
   "source": [
    "plt.scatter(sample['loggoal'], sample['numstatus'])\n",
    "plt.show()"
   ]
  },
  {
   "cell_type": "markdown",
   "metadata": {},
   "source": [
    "# bar chart"
   ]
  },
  {
   "cell_type": "code",
   "execution_count": 37,
   "metadata": {},
   "outputs": [],
   "source": [
    "ratio = sample.groupby('Category')['numstatus'].mean()\n",
    "\n",
    "ratio.sort_values(ascending=False, inplace=True)"
   ]
  },
  {
   "cell_type": "code",
   "execution_count": 39,
   "metadata": {},
   "outputs": [
    {
     "data": {
      "image/png": "[encoded data removed]",
      "text/plain": [
       "<Figure size 640x480 with 1 Axes>"
      ]
     },
     "metadata": {},
     "output_type": "display_data"
    }
   ],
   "source": [
    "plt.barh(ratio.index, ratio)\n",
    "plt.show()"
   ]
  },
  {
   "cell_type": "code",
   "execution_count": null,
   "metadata": {},
   "outputs": [],
   "source": []
  },
  {
   "cell_type": "code",
   "execution_count": null,
   "metadata": {},
   "outputs": [],
   "source": []
  },
  {
   "cell_type": "code",
   "execution_count": null,
   "metadata": {},
   "outputs": [],
   "source": []
  }
 ],
 "metadata": {
  "kernelspec": {
   "display_name": "Python 3",
   "language": "python",
   "name": "python3"
  },
  "language_info": {
   "codemirror_mode": {
    "name": "ipython",
    "version": 3
   },
   "file_extension": ".py",
   "mimetype": "text/x-python",
   "name": "python",
   "nbconvert_exporter": "python",
   "pygments_lexer": "ipython3",
   "version": "3.11.4"
  }
 },
 "nbformat": 4,
 "nbformat_minor": 2
}
