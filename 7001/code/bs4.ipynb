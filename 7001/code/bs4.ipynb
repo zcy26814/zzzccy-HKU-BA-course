{
 "cells": [
  {
   "cell_type": "code",
   "execution_count": 3,
   "metadata": {},
   "outputs": [],
   "source": [
    "from bs4 import BeautifulSoup"
   ]
  },
  {
   "cell_type": "code",
   "execution_count": 4,
   "metadata": {},
   "outputs": [],
   "source": [
    "source = open('../data_in/html.txt', 'r', encoding='utf-8').read()"
   ]
  },
  {
   "cell_type": "code",
   "execution_count": 5,
   "metadata": {},
   "outputs": [],
   "source": [
    "soup = BeautifulSoup(source, 'html.parser')"
   ]
  },
  {
   "cell_type": "code",
   "execution_count": 6,
   "metadata": {},
   "outputs": [
    {
     "data": {
      "text/plain": [
       "<html><head><title>The King's story</title></head>\n",
       "<body>\n",
       "<p class=\"title\"><b>The King's story</b></p>\n",
       "<p class=\"story\">Once upon a time there were five siblings; and their names were:\n",
       "<a class=\"sister\" href=\"http://example.com/elsie\" id=\"link1\">Elsie</a>,\n",
       "<span>Meili</span>, \n",
       "<span class=\"brother\">Eric</span>\n",
       "<a class=\"sister\" href=\"http://example.com/lacie\" id=\"link2\">Lacie</a>,\n",
       "<a class=\"sister\" id=\"link3\">Tillie</a>, and\n",
       "<a class=\"brother\" href=\"http://hku.hk/chao\" id=\"link4\">Chao</a>,\n",
       "and they lived at the bottom of a well.</p>\n",
       "<p class=\"story\">...</p></body></html>"
      ]
     },
     "execution_count": 6,
     "metadata": {},
     "output_type": "execute_result"
    }
   ],
   "source": [
    "soup"
   ]
  },
  {
   "cell_type": "code",
   "execution_count": 8,
   "metadata": {},
   "outputs": [
    {
     "name": "stdout",
     "output_type": "stream",
     "text": [
      "<html>\n",
      " <head>\n",
      "  <title>\n",
      "   The King's story\n",
      "  </title>\n",
      " </head>\n",
      " <body>\n",
      "  <p class=\"title\">\n",
      "   <b>\n",
      "    The King's story\n",
      "   </b>\n",
      "  </p>\n",
      "  <p class=\"story\">\n",
      "   Once upon a time there were five siblings; and their names were:\n",
      "   <a class=\"sister\" href=\"http://example.com/elsie\" id=\"link1\">\n",
      "    Elsie\n",
      "   </a>\n",
      "   ,\n",
      "   <span>\n",
      "    Meili\n",
      "   </span>\n",
      "   ,\n",
      "   <span class=\"brother\">\n",
      "    Eric\n",
      "   </span>\n",
      "   <a class=\"sister\" href=\"http://example.com/lacie\" id=\"link2\">\n",
      "    Lacie\n",
      "   </a>\n",
      "   ,\n",
      "   <a class=\"sister\" id=\"link3\">\n",
      "    Tillie\n",
      "   </a>\n",
      "   , and\n",
      "   <a class=\"brother\" href=\"http://hku.hk/chao\" id=\"link4\">\n",
      "    Chao\n",
      "   </a>\n",
      "   ,\n",
      "and they lived at the bottom of a well.\n",
      "  </p>\n",
      "  <p class=\"story\">\n",
      "   ...\n",
      "  </p>\n",
      " </body>\n",
      "</html>\n",
      "\n"
     ]
    }
   ],
   "source": [
    "print(soup.prettify())"
   ]
  },
  {
   "cell_type": "code",
   "execution_count": 9,
   "metadata": {},
   "outputs": [
    {
     "data": {
      "text/plain": [
       "<a class=\"sister\" href=\"http://example.com/elsie\" id=\"link1\">Elsie</a>"
      ]
     },
     "execution_count": 9,
     "metadata": {},
     "output_type": "execute_result"
    }
   ],
   "source": [
    "soup.a"
   ]
  },
  {
   "cell_type": "code",
   "execution_count": 10,
   "metadata": {},
   "outputs": [
    {
     "data": {
      "text/plain": [
       "<span>Meili</span>"
      ]
     },
     "execution_count": 10,
     "metadata": {},
     "output_type": "execute_result"
    }
   ],
   "source": [
    "soup.span"
   ]
  },
  {
   "cell_type": "code",
   "execution_count": 12,
   "metadata": {},
   "outputs": [
    {
     "data": {
      "text/plain": [
       "<a class=\"sister\" href=\"http://example.com/elsie\" id=\"link1\">Elsie</a>"
      ]
     },
     "execution_count": 12,
     "metadata": {},
     "output_type": "execute_result"
    }
   ],
   "source": [
    "soup.body.a"
   ]
  },
  {
   "cell_type": "code",
   "execution_count": 13,
   "metadata": {},
   "outputs": [
    {
     "data": {
      "text/plain": [
       "<p class=\"story\">Once upon a time there were five siblings; and their names were:\n",
       "<a class=\"sister\" href=\"http://example.com/elsie\" id=\"link1\">Elsie</a>,\n",
       "<span>Meili</span>, \n",
       "<span class=\"brother\">Eric</span>\n",
       "<a class=\"sister\" href=\"http://example.com/lacie\" id=\"link2\">Lacie</a>,\n",
       "<a class=\"sister\" id=\"link3\">Tillie</a>, and\n",
       "<a class=\"brother\" href=\"http://hku.hk/chao\" id=\"link4\">Chao</a>,\n",
       "and they lived at the bottom of a well.</p>"
      ]
     },
     "execution_count": 13,
     "metadata": {},
     "output_type": "execute_result"
    }
   ],
   "source": [
    "soup.body.a.parent"
   ]
  },
  {
   "cell_type": "code",
   "execution_count": 14,
   "metadata": {},
   "outputs": [
    {
     "data": {
      "text/plain": [
       "'p'"
      ]
     },
     "execution_count": 14,
     "metadata": {},
     "output_type": "execute_result"
    }
   ],
   "source": [
    "soup.body.a.parent.name"
   ]
  },
  {
   "cell_type": "code",
   "execution_count": 15,
   "metadata": {},
   "outputs": [
    {
     "data": {
      "text/plain": [
       "<title>The King's story</title>"
      ]
     },
     "execution_count": 15,
     "metadata": {},
     "output_type": "execute_result"
    }
   ],
   "source": [
    "soup.find('title')"
   ]
  },
  {
   "cell_type": "code",
   "execution_count": 17,
   "metadata": {},
   "outputs": [
    {
     "data": {
      "text/plain": [
       "<span class=\"brother\">Eric</span>"
      ]
     },
     "execution_count": 17,
     "metadata": {},
     "output_type": "execute_result"
    }
   ],
   "source": [
    "soup.find(attrs={'class':'brother'})"
   ]
  },
  {
   "cell_type": "code",
   "execution_count": 18,
   "metadata": {},
   "outputs": [
    {
     "data": {
      "text/plain": [
       "[<a class=\"sister\" href=\"http://example.com/elsie\" id=\"link1\">Elsie</a>,\n",
       " <a class=\"sister\" href=\"http://example.com/lacie\" id=\"link2\">Lacie</a>,\n",
       " <a class=\"sister\" id=\"link3\">Tillie</a>,\n",
       " <a class=\"brother\" href=\"http://hku.hk/chao\" id=\"link4\">Chao</a>]"
      ]
     },
     "execution_count": 18,
     "metadata": {},
     "output_type": "execute_result"
    }
   ],
   "source": [
    "soup.find_all('a')"
   ]
  },
  {
   "cell_type": "code",
   "execution_count": 19,
   "metadata": {},
   "outputs": [
    {
     "data": {
      "text/plain": [
       "[<b>The King's story</b>,\n",
       " <a class=\"sister\" href=\"http://example.com/elsie\" id=\"link1\">Elsie</a>,\n",
       " <a class=\"sister\" href=\"http://example.com/lacie\" id=\"link2\">Lacie</a>,\n",
       " <a class=\"sister\" id=\"link3\">Tillie</a>,\n",
       " <a class=\"brother\" href=\"http://hku.hk/chao\" id=\"link4\">Chao</a>]"
      ]
     },
     "execution_count": 19,
     "metadata": {},
     "output_type": "execute_result"
    }
   ],
   "source": [
    "soup.find_all(['a', 'b'])"
   ]
  },
  {
   "cell_type": "code",
   "execution_count": 20,
   "metadata": {},
   "outputs": [
    {
     "data": {
      "text/plain": [
       "[<a class=\"sister\" href=\"http://example.com/elsie\" id=\"link1\">Elsie</a>,\n",
       " <a class=\"sister\" href=\"http://example.com/lacie\" id=\"link2\">Lacie</a>,\n",
       " <a class=\"sister\" id=\"link3\">Tillie</a>]"
      ]
     },
     "execution_count": 20,
     "metadata": {},
     "output_type": "execute_result"
    }
   ],
   "source": [
    "soup.find_all(['a', 'b'], attrs={'class':'sister'})"
   ]
  },
  {
   "cell_type": "code",
   "execution_count": 21,
   "metadata": {},
   "outputs": [
    {
     "data": {
      "text/plain": [
       "[<a class=\"sister\" href=\"http://example.com/elsie\" id=\"link1\">Elsie</a>,\n",
       " <a class=\"sister\" href=\"http://example.com/lacie\" id=\"link2\">Lacie</a>]"
      ]
     },
     "execution_count": 21,
     "metadata": {},
     "output_type": "execute_result"
    }
   ],
   "source": [
    "soup.find_all(['a', 'b'], attrs={'class':'sister'}, limit=2)"
   ]
  },
  {
   "cell_type": "code",
   "execution_count": 22,
   "metadata": {},
   "outputs": [],
   "source": [
    "import re"
   ]
  },
  {
   "cell_type": "code",
   "execution_count": 23,
   "metadata": {},
   "outputs": [
    {
     "data": {
      "text/plain": [
       "[<a class=\"sister\" href=\"http://example.com/elsie\" id=\"link1\">Elsie</a>,\n",
       " <a class=\"sister\" href=\"http://example.com/lacie\" id=\"link2\">Lacie</a>]"
      ]
     },
     "execution_count": 23,
     "metadata": {},
     "output_type": "execute_result"
    }
   ],
   "source": [
    "soup.find_all('a', attrs={'href':re.compile('example')})"
   ]
  },
  {
   "cell_type": "code",
   "execution_count": 24,
   "metadata": {},
   "outputs": [
    {
     "name": "stdout",
     "output_type": "stream",
     "text": [
      "http://example.com/elsie\n",
      "http://example.com/lacie\n"
     ]
    }
   ],
   "source": [
    "for a_ in soup.find_all('a', attrs={'href':re.compile('example')}):\n",
    "    print(a_['href'])"
   ]
  },
  {
   "cell_type": "code",
   "execution_count": 25,
   "metadata": {},
   "outputs": [
    {
     "data": {
      "text/plain": [
       "[<a class=\"sister\" href=\"http://example.com/elsie\" id=\"link1\">Elsie</a>,\n",
       " <a class=\"sister\" href=\"http://example.com/lacie\" id=\"link2\">Lacie</a>,\n",
       " <a class=\"sister\" id=\"link3\">Tillie</a>,\n",
       " <a class=\"brother\" href=\"http://hku.hk/chao\" id=\"link4\">Chao</a>]"
      ]
     },
     "execution_count": 25,
     "metadata": {},
     "output_type": "execute_result"
    }
   ],
   "source": [
    "soup.find_all('a')"
   ]
  },
  {
   "cell_type": "markdown",
   "metadata": {},
   "source": [
    "# markdown supports html"
   ]
  },
  {
   "cell_type": "markdown",
   "metadata": {},
   "source": [
    "<html><head><title>The King's story</title></head>\n",
    "<body>\n",
    "<p class=\"title\"><b>The King's story</b></p>\n",
    "\n",
    "<p class=\"story\">Once upon a time there were five siblings; and their names were:\n",
    "<a href=\"http://example.com/elsie\" class=\"sister\" id=\"link1\">Elsie</a>,\n",
    "<span>Meili</span>, \n",
    "<span class=\"brother\">Eric</span>\n",
    "<a href=\"http://example.com/lacie\" class=\"sister\" id=\"link2\">Lacie</a>,\n",
    "<a class=\"sister\" id=\"link3\">Tillie</a>, and\n",
    "<a href=\"http://hku.hk/chao\" class=\"brother\" id=\"link4\">Chao</a>,\n",
    "and they lived at the bottom of a well.</p>\n",
    "<p class=\"story\">...</p></body></html>"
   ]
  },
  {
   "cell_type": "code",
   "execution_count": 30,
   "metadata": {},
   "outputs": [
    {
     "name": "stdout",
     "output_type": "stream",
     "text": [
      "http://example.com/elsie\n",
      "http://example.com/lacie\n",
      "\n",
      "http://hku.hk/chao\n"
     ]
    }
   ],
   "source": [
    "for a_ in soup.find_all('a'):\n",
    "    print(a_.get('href', ''))"
   ]
  },
  {
   "cell_type": "code",
   "execution_count": 31,
   "metadata": {},
   "outputs": [
    {
     "data": {
      "text/plain": [
       "<a class=\"sister\" href=\"http://example.com/elsie\" id=\"link1\">Elsie</a>"
      ]
     },
     "execution_count": 31,
     "metadata": {},
     "output_type": "execute_result"
    }
   ],
   "source": [
    "soup.a"
   ]
  },
  {
   "cell_type": "code",
   "execution_count": 32,
   "metadata": {},
   "outputs": [
    {
     "data": {
      "text/plain": [
       "'Elsie'"
      ]
     },
     "execution_count": 32,
     "metadata": {},
     "output_type": "execute_result"
    }
   ],
   "source": [
    "soup.a.text"
   ]
  },
  {
   "cell_type": "code",
   "execution_count": 33,
   "metadata": {},
   "outputs": [
    {
     "data": {
      "text/plain": [
       "'ELSIE'"
      ]
     },
     "execution_count": 33,
     "metadata": {},
     "output_type": "execute_result"
    }
   ],
   "source": [
    "soup.a.text.upper()"
   ]
  },
  {
   "cell_type": "code",
   "execution_count": 34,
   "metadata": {},
   "outputs": [
    {
     "data": {
      "text/plain": [
       "'Elsie'"
      ]
     },
     "execution_count": 34,
     "metadata": {},
     "output_type": "execute_result"
    }
   ],
   "source": [
    "soup.a.string"
   ]
  },
  {
   "cell_type": "code",
   "execution_count": 35,
   "metadata": {},
   "outputs": [
    {
     "data": {
      "text/plain": [
       "<a class=\"sister\" href=\"http://example.com/elsie\" id=\"link1\">Elsie</a>"
      ]
     },
     "execution_count": 35,
     "metadata": {},
     "output_type": "execute_result"
    }
   ],
   "source": [
    "soup.a.string.parent\n",
    "# string: returns you a navigable string"
   ]
  },
  {
   "cell_type": "code",
   "execution_count": 36,
   "metadata": {},
   "outputs": [
    {
     "data": {
      "text/plain": [
       "<body>\n",
       "<p class=\"title\"><b>The King's story</b></p>\n",
       "<p class=\"story\">Once upon a time there were five siblings; and their names were:\n",
       "<a class=\"sister\" href=\"http://example.com/elsie\" id=\"link1\">Elsie</a>,\n",
       "<span>Meili</span>, \n",
       "<span class=\"brother\">Eric</span>\n",
       "<a class=\"sister\" href=\"http://example.com/lacie\" id=\"link2\">Lacie</a>,\n",
       "<a class=\"sister\" id=\"link3\">Tillie</a>, and\n",
       "<a class=\"brother\" href=\"http://hku.hk/chao\" id=\"link4\">Chao</a>,\n",
       "and they lived at the bottom of a well.</p>\n",
       "<p class=\"story\">...</p></body>"
      ]
     },
     "execution_count": 36,
     "metadata": {},
     "output_type": "execute_result"
    }
   ],
   "source": [
    "soup.body"
   ]
  },
  {
   "cell_type": "code",
   "execution_count": 37,
   "metadata": {},
   "outputs": [
    {
     "data": {
      "text/plain": [
       "\"\\nThe King's story\\nOnce upon a time there were five siblings; and their names were:\\nElsie,\\nMeili, \\nEric\\nLacie,\\nTillie, and\\nChao,\\nand they lived at the bottom of a well.\\n...\""
      ]
     },
     "execution_count": 37,
     "metadata": {},
     "output_type": "execute_result"
    }
   ],
   "source": [
    "soup.body.get_text()"
   ]
  },
  {
   "cell_type": "code",
   "execution_count": 38,
   "metadata": {},
   "outputs": [
    {
     "data": {
      "text/plain": [
       "\"\\n<<<>>>The King's story<<<>>>\\n<<<>>>Once upon a time there were five siblings; and their names were:\\n<<<>>>Elsie<<<>>>,\\n<<<>>>Meili<<<>>>, \\n<<<>>>Eric<<<>>>\\n<<<>>>Lacie<<<>>>,\\n<<<>>>Tillie<<<>>>, and\\n<<<>>>Chao<<<>>>,\\nand they lived at the bottom of a well.<<<>>>\\n<<<>>>...\""
      ]
     },
     "execution_count": 38,
     "metadata": {},
     "output_type": "execute_result"
    }
   ],
   "source": [
    "soup.body.get_text(separator='<<<>>>')"
   ]
  },
  {
   "cell_type": "code",
   "execution_count": 39,
   "metadata": {},
   "outputs": [
    {
     "data": {
      "text/plain": [
       "\"The King's story<<<>>>Once upon a time there were five siblings; and their names were:<<<>>>Elsie<<<>>>,<<<>>>Meili<<<>>>,<<<>>>Eric<<<>>>Lacie<<<>>>,<<<>>>Tillie<<<>>>, and<<<>>>Chao<<<>>>,\\nand they lived at the bottom of a well.<<<>>>...\""
      ]
     },
     "execution_count": 39,
     "metadata": {},
     "output_type": "execute_result"
    }
   ],
   "source": [
    "soup.body.get_text(separator='<<<>>>', strip=True)"
   ]
  },
  {
   "cell_type": "code",
   "execution_count": 40,
   "metadata": {},
   "outputs": [
    {
     "data": {
      "text/plain": [
       "[<a class=\"sister\" href=\"http://example.com/elsie\" id=\"link1\">Elsie</a>,\n",
       " <a class=\"sister\" href=\"http://example.com/lacie\" id=\"link2\">Lacie</a>,\n",
       " <a class=\"sister\" id=\"link3\">Tillie</a>,\n",
       " <a class=\"brother\" href=\"http://hku.hk/chao\" id=\"link4\">Chao</a>]"
      ]
     },
     "execution_count": 40,
     "metadata": {},
     "output_type": "execute_result"
    }
   ],
   "source": [
    "soup.find_all('a')"
   ]
  },
  {
   "cell_type": "code",
   "execution_count": 41,
   "metadata": {},
   "outputs": [
    {
     "name": "stdout",
     "output_type": "stream",
     "text": [
      "Elsie\n",
      "Lacie\n",
      "Tillie\n",
      "Chao\n"
     ]
    }
   ],
   "source": [
    "for a_ in soup.find_all('a'):\n",
    "    print(a_.text)"
   ]
  },
  {
   "cell_type": "markdown",
   "metadata": {},
   "source": [
    "# CSS selectors"
   ]
  },
  {
   "cell_type": "code",
   "execution_count": 45,
   "metadata": {},
   "outputs": [
    {
     "data": {
      "text/plain": [
       "['http:', '', 'example.com', 'elsie']"
      ]
     },
     "execution_count": 45,
     "metadata": {},
     "output_type": "execute_result"
    }
   ],
   "source": [
    "soup.select('a', limit=2)[0].get('href').split('/')"
   ]
  },
  {
   "cell_type": "code",
   "execution_count": 46,
   "metadata": {},
   "outputs": [
    {
     "data": {
      "text/plain": [
       "[<b>The King's story</b>,\n",
       " <a class=\"sister\" href=\"http://example.com/elsie\" id=\"link1\">Elsie</a>,\n",
       " <a class=\"sister\" href=\"http://example.com/lacie\" id=\"link2\">Lacie</a>,\n",
       " <a class=\"sister\" id=\"link3\">Tillie</a>,\n",
       " <a class=\"brother\" href=\"http://hku.hk/chao\" id=\"link4\">Chao</a>]"
      ]
     },
     "execution_count": 46,
     "metadata": {},
     "output_type": "execute_result"
    }
   ],
   "source": [
    "soup.select('a, b')"
   ]
  },
  {
   "cell_type": "code",
   "execution_count": 47,
   "metadata": {},
   "outputs": [
    {
     "data": {
      "text/plain": [
       "[<b>The King's story</b>,\n",
       " <a class=\"brother\" href=\"http://hku.hk/chao\" id=\"link4\">Chao</a>]"
      ]
     },
     "execution_count": 47,
     "metadata": {},
     "output_type": "execute_result"
    }
   ],
   "source": [
    "soup.select('a.brother, b')"
   ]
  },
  {
   "cell_type": "code",
   "execution_count": 48,
   "metadata": {},
   "outputs": [
    {
     "data": {
      "text/plain": [
       "[<body>\n",
       " <p class=\"title\"><b>The King's story</b></p>\n",
       " <p class=\"story\">Once upon a time there were five siblings; and their names were:\n",
       " <a class=\"sister\" href=\"http://example.com/elsie\" id=\"link1\">Elsie</a>,\n",
       " <span>Meili</span>, \n",
       " <span class=\"brother\">Eric</span>\n",
       " <a class=\"sister\" href=\"http://example.com/lacie\" id=\"link2\">Lacie</a>,\n",
       " <a class=\"sister\" id=\"link3\">Tillie</a>, and\n",
       " <a class=\"brother\" href=\"http://hku.hk/chao\" id=\"link4\">Chao</a>,\n",
       " and they lived at the bottom of a well.</p>\n",
       " <p class=\"story\">...</p></body>,\n",
       " <p class=\"story\">Once upon a time there were five siblings; and their names were:\n",
       " <a class=\"sister\" href=\"http://example.com/elsie\" id=\"link1\">Elsie</a>,\n",
       " <span>Meili</span>, \n",
       " <span class=\"brother\">Eric</span>\n",
       " <a class=\"sister\" href=\"http://example.com/lacie\" id=\"link2\">Lacie</a>,\n",
       " <a class=\"sister\" id=\"link3\">Tillie</a>, and\n",
       " <a class=\"brother\" href=\"http://hku.hk/chao\" id=\"link4\">Chao</a>,\n",
       " and they lived at the bottom of a well.</p>,\n",
       " <span>Meili</span>]"
      ]
     },
     "execution_count": 48,
     "metadata": {},
     "output_type": "execute_result"
    }
   ],
   "source": [
    "soup.select('*:nth-child(2)')"
   ]
  },
  {
   "cell_type": "code",
   "execution_count": 49,
   "metadata": {},
   "outputs": [
    {
     "data": {
      "text/plain": [
       "[<span>Meili</span>]"
      ]
     },
     "execution_count": 49,
     "metadata": {},
     "output_type": "execute_result"
    }
   ],
   "source": [
    "soup.select('p > *:nth-child(2)')"
   ]
  },
  {
   "cell_type": "code",
   "execution_count": 52,
   "metadata": {},
   "outputs": [
    {
     "data": {
      "text/plain": [
       "[<span>Meili</span>, <span class=\"brother\">Eric</span>]"
      ]
     },
     "execution_count": 52,
     "metadata": {},
     "output_type": "execute_result"
    }
   ],
   "source": [
    "soup.select('a ~ span')"
   ]
  },
  {
   "cell_type": "code",
   "execution_count": 53,
   "metadata": {},
   "outputs": [
    {
     "data": {
      "text/plain": [
       "[<a class=\"sister\" href=\"http://example.com/lacie\" id=\"link2\">Lacie</a>,\n",
       " <a class=\"sister\" id=\"link3\">Tillie</a>,\n",
       " <a class=\"brother\" href=\"http://hku.hk/chao\" id=\"link4\">Chao</a>]"
      ]
     },
     "execution_count": 53,
     "metadata": {},
     "output_type": "execute_result"
    }
   ],
   "source": [
    "soup.select('span ~ a')"
   ]
  },
  {
   "cell_type": "code",
   "execution_count": 54,
   "metadata": {},
   "outputs": [
    {
     "data": {
      "text/plain": [
       "[<a class=\"sister\" href=\"http://example.com/lacie\" id=\"link2\">Lacie</a>]"
      ]
     },
     "execution_count": 54,
     "metadata": {},
     "output_type": "execute_result"
    }
   ],
   "source": [
    "soup.select('body > p > span + a')"
   ]
  },
  {
   "cell_type": "markdown",
   "metadata": {},
   "source": [
    "html body div.container div.row div.col-md-8 div.quote"
   ]
  },
  {
   "cell_type": "markdown",
   "metadata": {},
   "source": [
    "div.quote:nth-child(1)"
   ]
  },
  {
   "cell_type": "markdown",
   "metadata": {},
   "source": [
    "# Quotes"
   ]
  },
  {
   "cell_type": "code",
   "execution_count": 55,
   "metadata": {},
   "outputs": [],
   "source": [
    "from bs4 import BeautifulSoup\n",
    "import requests"
   ]
  },
  {
   "cell_type": "code",
   "execution_count": 56,
   "metadata": {},
   "outputs": [],
   "source": [
    "url1 = 'http://quotes.toscrape.com/'\n",
    "\n",
    "soup1 = BeautifulSoup(requests.get(url1).text, 'html.parser')"
   ]
  },
  {
   "cell_type": "code",
   "execution_count": 58,
   "metadata": {},
   "outputs": [],
   "source": [
    "div_ = soup1.find('div', class_= 'quote')"
   ]
  },
  {
   "cell_type": "code",
   "execution_count": 61,
   "metadata": {},
   "outputs": [],
   "source": [
    "allDIVs = soup1.find_all('div', class_= 'quote')"
   ]
  },
  {
   "cell_type": "code",
   "execution_count": 59,
   "metadata": {},
   "outputs": [
    {
     "data": {
      "text/plain": [
       "10"
      ]
     },
     "execution_count": 59,
     "metadata": {},
     "output_type": "execute_result"
    }
   ],
   "source": [
    "len(soup1.find_all('div', class_= 'quote'))"
   ]
  },
  {
   "cell_type": "code",
   "execution_count": 60,
   "metadata": {},
   "outputs": [
    {
     "data": {
      "text/plain": [
       "<div class=\"quote\" itemscope=\"\" itemtype=\"http://schema.org/CreativeWork\">\n",
       "<span class=\"text\" itemprop=\"text\">“A day without sunshine is like, you know, night.”</span>\n",
       "<span>by <small class=\"author\" itemprop=\"author\">Steve Martin</small>\n",
       "<a href=\"/author/Steve-Martin\">(about)</a>\n",
       "</span>\n",
       "<div class=\"tags\">\n",
       "            Tags:\n",
       "            <meta class=\"keywords\" content=\"humor,obvious,simile\" itemprop=\"keywords\"/>\n",
       "<a class=\"tag\" href=\"/tag/humor/page/1/\">humor</a>\n",
       "<a class=\"tag\" href=\"/tag/obvious/page/1/\">obvious</a>\n",
       "<a class=\"tag\" href=\"/tag/simile/page/1/\">simile</a>\n",
       "</div>\n",
       "</div>"
      ]
     },
     "execution_count": 60,
     "metadata": {},
     "output_type": "execute_result"
    }
   ],
   "source": [
    "soup1.find_all('div', class_= 'quote')[-1]"
   ]
  },
  {
   "cell_type": "code",
   "execution_count": 70,
   "metadata": {},
   "outputs": [],
   "source": [
    "quote = div_.span.text.replace('“', '').replace('”', '')"
   ]
  },
  {
   "cell_type": "code",
   "execution_count": 69,
   "metadata": {},
   "outputs": [],
   "source": [
    "author = div_.small.text"
   ]
  },
  {
   "cell_type": "code",
   "execution_count": 73,
   "metadata": {},
   "outputs": [
    {
     "name": "stdout",
     "output_type": "stream",
     "text": [
      "Steve Martin says:\n",
      "A day without sunshine is like, you know, night.\n"
     ]
    }
   ],
   "source": [
    "quote = div_.span.text.replace('“', '').replace('”', '')\n",
    "author = div_.small.text\n",
    "\n",
    "print(f'{author} says:\\n{quote}')"
   ]
  },
  {
   "cell_type": "code",
   "execution_count": 75,
   "metadata": {},
   "outputs": [
    {
     "name": "stdout",
     "output_type": "stream",
     "text": [
      "Albert Einstein says:\n",
      "The world as we have created it is a process of our thinking. It cannot be changed without changing our thinking.\n",
      "J.K. Rowling says:\n",
      "It is our choices, Harry, that show what we truly are, far more than our abilities.\n",
      "Albert Einstein says:\n",
      "There are only two ways to live your life. One is as though nothing is a miracle. The other is as though everything is a miracle.\n",
      "Jane Austen says:\n",
      "The person, be it gentleman or lady, who has not pleasure in a good novel, must be intolerably stupid.\n",
      "Marilyn Monroe says:\n",
      "Imperfection is beauty, madness is genius and it's better to be absolutely ridiculous than absolutely boring.\n",
      "Albert Einstein says:\n",
      "Try not to become a man of success. Rather become a man of value.\n",
      "André Gide says:\n",
      "It is better to be hated for what you are than to be loved for what you are not.\n",
      "Thomas A. Edison says:\n",
      "I have not failed. I've just found 10,000 ways that won't work.\n",
      "Eleanor Roosevelt says:\n",
      "A woman is like a tea bag; you never know how strong it is until it's in hot water.\n",
      "Steve Martin says:\n",
      "A day without sunshine is like, you know, night.\n"
     ]
    }
   ],
   "source": [
    "for div_ in allDIVs:\n",
    "    quote = div_.span.text.replace('“', '').replace('”', '')\n",
    "    author = div_.small.text\n",
    "\n",
    "    print(f'{author} says:\\n{quote}')"
   ]
  },
  {
   "cell_type": "markdown",
   "metadata": {},
   "source": [
    "# Titanic"
   ]
  },
  {
   "cell_type": "code",
   "execution_count": 77,
   "metadata": {},
   "outputs": [],
   "source": [
    "from bs4 import BeautifulSoup\n",
    "import requests, re"
   ]
  },
  {
   "cell_type": "code",
   "execution_count": 78,
   "metadata": {},
   "outputs": [],
   "source": [
    "requests.packages.urllib3.disable_warnings()\n",
    "\n",
    "url2 = 'https://www.imdb.com/title/tt0120338/'\n",
    "\n",
    "agent = {\n",
    "    'User-Agent' : 'Mozilla/5.0 (Windows NT 10.0; Win64; x64) AppleWebKit/537.36 (KHTML, like Gecko) Chrome/94.0.4606.71 Safari/537.36'\n",
    "}\n",
    "\n",
    "r2 = requests.get(url2, headers = agent, verify=False)"
   ]
  },
  {
   "cell_type": "code",
   "execution_count": 79,
   "metadata": {},
   "outputs": [
    {
     "data": {
      "text/plain": [
       "200"
      ]
     },
     "execution_count": 79,
     "metadata": {},
     "output_type": "execute_result"
    }
   ],
   "source": [
    "r2.status_code"
   ]
  },
  {
   "cell_type": "code",
   "execution_count": 80,
   "metadata": {},
   "outputs": [],
   "source": [
    "soup2 = BeautifulSoup(r2.text, 'html.parser')"
   ]
  },
  {
   "cell_type": "code",
   "execution_count": 90,
   "metadata": {},
   "outputs": [
    {
     "data": {
      "text/plain": [
       "['Titanic', '1997', 'IIA', '3h 14m']"
      ]
     },
     "execution_count": 90,
     "metadata": {},
     "output_type": "execute_result"
    }
   ],
   "source": [
    "name = soup2.h1.text\n",
    "year = soup2.select('h1 ~ ul > li')[0].text\n",
    "pg = soup2.select('h1 ~ ul > li')[1].text\n",
    "length = soup2.select('h1 ~ ul > li')[2].text\n",
    "\n",
    "[name, year, pg, length]"
   ]
  },
  {
   "cell_type": "code",
   "execution_count": 86,
   "metadata": {},
   "outputs": [
    {
     "data": {
      "text/plain": [
       "'1997'"
      ]
     },
     "execution_count": 86,
     "metadata": {},
     "output_type": "execute_result"
    }
   ],
   "source": [
    "soup2.select('h1 ~ ul > li')[0].text"
   ]
  },
  {
   "cell_type": "code",
   "execution_count": 88,
   "metadata": {},
   "outputs": [
    {
     "data": {
      "text/plain": [
       "'IIA'"
      ]
     },
     "execution_count": 88,
     "metadata": {},
     "output_type": "execute_result"
    }
   ],
   "source": [
    "soup2.select('h1 ~ ul > li')[1].text"
   ]
  },
  {
   "cell_type": "code",
   "execution_count": 89,
   "metadata": {},
   "outputs": [
    {
     "data": {
      "text/plain": [
       "'3h 14m'"
      ]
     },
     "execution_count": 89,
     "metadata": {},
     "output_type": "execute_result"
    }
   ],
   "source": [
    "soup2.select('h1 ~ ul > li')[2].text"
   ]
  },
  {
   "cell_type": "code",
   "execution_count": 91,
   "metadata": {},
   "outputs": [
    {
     "data": {
      "text/plain": [
       "['Titanic', '1997', 'IIA', '3h 14m']"
      ]
     },
     "execution_count": 91,
     "metadata": {},
     "output_type": "execute_result"
    }
   ],
   "source": [
    "name = soup2.h1.text\n",
    "year = soup2.select('h1 ~ ul > li')[0].text\n",
    "pg = soup2.select('h1 ~ ul > li')[1].text\n",
    "length = soup2.select('h1 ~ ul > li')[2].text\n",
    "\n",
    "[name, year, pg, length]"
   ]
  },
  {
   "cell_type": "code",
   "execution_count": null,
   "metadata": {},
   "outputs": [],
   "source": [
    "# option 2: from block level"
   ]
  },
  {
   "cell_type": "markdown",
   "metadata": {},
   "source": [
    "html.scriptsOn body div#__next main.ipc-page-wrapper.ipc-page-wrapper--base div.ipc-page-content-container.ipc-page-content-container--full.sc-6cb04c04-0.bzuIkf section.ipc-page-background.ipc-page-background--base.sc-304f99f6-0.eaRXHu section.ipc-page-background.ipc-page-background--baseAlt.sc-ae13f4cd-0.fNnmdy.atf-background-theme-dark div.ipc-page-content-container.ipc-page-content-container--center section.ipc-page-background.ipc-page-background--baseAlt.sc-e226b0e3-0.dLRnHZ section.ipc-page-section.ipc-page-section--baseAlt.ipc-page-section--tp-none.ipc-page-section--bp-xs.sc-e226b0e3-2.fxgTov div.sc-e226b0e3-3.jJsEuz div.sc-dffc6c81-0.iwmAVw"
   ]
  },
  {
   "cell_type": "code",
   "execution_count": 95,
   "metadata": {},
   "outputs": [
    {
     "data": {
      "text/plain": [
       "[<li class=\"ipc-inline-list__item\" role=\"presentation\"><a aria-disabled=\"false\" class=\"ipc-link ipc-link--baseAlt ipc-link--inherit-color\" href=\"/title/tt0120338/releaseinfo?ref_=tt_ov_rdat\" role=\"button\" tabindex=\"0\">1997</a></li>,\n",
       " <li class=\"ipc-inline-list__item\" role=\"presentation\"><a aria-disabled=\"false\" class=\"ipc-link ipc-link--baseAlt ipc-link--inherit-color\" href=\"/title/tt0120338/parentalguide/certificates?ref_=tt_ov_pg\" role=\"button\" tabindex=\"0\">IIA</a></li>,\n",
       " <li class=\"ipc-inline-list__item\" role=\"presentation\">3h 14m</li>]"
      ]
     },
     "execution_count": 95,
     "metadata": {},
     "output_type": "execute_result"
    }
   ],
   "source": [
    "soup2.find('div', attrs={'class':re.compile('dffc6c81')}).select('li')"
   ]
  },
  {
   "cell_type": "markdown",
   "metadata": {},
   "source": [
    "## moive urls"
   ]
  },
  {
   "cell_type": "code",
   "execution_count": 96,
   "metadata": {},
   "outputs": [],
   "source": [
    "from bs4 import BeautifulSoup\n",
    "import requests, re"
   ]
  },
  {
   "cell_type": "code",
   "execution_count": 97,
   "metadata": {},
   "outputs": [],
   "source": [
    "requests.packages.urllib3.disable_warnings()\n",
    "\n",
    "url3 = 'https://www.imdb.com/chart/top/'\n",
    "\n",
    "agent = {\n",
    "    'User-Agent' : 'Mozilla/5.0 (Windows NT 10.0; Win64; x64) AppleWebKit/537.36 (KHTML, like Gecko) Chrome/94.0.4606.71 Safari/537.36'\n",
    "}\n",
    "\n",
    "r3 = requests.get(url2, headers = agent, verify=False)"
   ]
  },
  {
   "cell_type": "code",
   "execution_count": 98,
   "metadata": {},
   "outputs": [
    {
     "data": {
      "text/plain": [
       "200"
      ]
     },
     "execution_count": 98,
     "metadata": {},
     "output_type": "execute_result"
    }
   ],
   "source": [
    "r3.status_code"
   ]
  },
  {
   "cell_type": "code",
   "execution_count": 100,
   "metadata": {},
   "outputs": [],
   "source": [
    "soup3 = BeautifulSoup(r3.text, 'html.parser')"
   ]
  },
  {
   "cell_type": "markdown",
   "metadata": {},
   "source": [
    "html.scriptsOn body div#__next main.ipc-page-wrapper.ipc-page-wrapper--baseAlt div.ipc-page-content-container.ipc-page-content-container--center.sc-6cb04c04-0.bzuIkf div.ipc-page-content-container.ipc-page-content-container--center section.ipc-page-background.ipc-page-background--base.sc-58a4583-0.hTrRFJ div div.ipc-page-grid.ipc-page-grid--bias-left div.sc-58a4583-3.knPjnG.ipc-page-grid__item.ipc-page-grid__item--span-2 ul.ipc-metadata-list.ipc-metadata-list--dividers-between.sc-3f13560f-0.sTTRj.compact-list-view.ipc-metadata-list--base li.ipc-metadata-list-summary-item.sc-59b6048d-0.jemTre.cli-parent div.ipc-metadata-list-summary-item__c div.ipc-metadata-list-summary-item__tc div.sc-4dcdad14-0.hqxhHZ.cli-children div.ipc-title.ipc-title--base.ipc-title--title.ipc-title-link-no-icon.ipc-title--on-textPrimary.sc-4dcdad14-9.dZscOy.cli-title a.ipc-title-link-wrapper\n",
    "\n",
    "/html/body/div[2]/main/div/div[3]/section/div/div[2]/div/ul/li[1]/div[2]/div/div/div[1]/a\n",
    "\n",
    "<h3 class=\"ipc-title__text\">1. The Shawshank Redemption</h3>"
   ]
  },
  {
   "cell_type": "code",
   "execution_count": 103,
   "metadata": {},
   "outputs": [
    {
     "data": {
      "text/plain": [
       "<a class=\"ipc-title-link-wrapper\" href=\"/title/tt0120338/videogallery/?ref_=tt_vi_sm\" tabindex=\"0\"><h3 class=\"ipc-title__text\">Videos<span class=\"ipc-title__subtext\">40</span><svg class=\"ipc-icon ipc-icon--chevron-right-inline ipc-icon--inline ipc-title-link ipc-title-link-chevron ipc-title--nomargin\" fill=\"currentColor\" height=\"24\" role=\"presentation\" viewbox=\"0 0 24 24\" width=\"24\" xmlns=\"http://www.w3.org/2000/svg\"><path d=\"M5.622.631A2.153 2.153 0 0 0 5 2.147c0 .568.224 1.113.622 1.515l8.249 8.34-8.25 8.34a2.16 2.16 0 0 0-.548 2.07c.196.74.768 1.317 1.499 1.515a2.104 2.104 0 0 0 2.048-.555l9.758-9.866a2.153 2.153 0 0 0 0-3.03L8.62.61C7.812-.207 6.45-.207 5.622.63z\"></path></svg></h3></a>"
      ]
     },
     "execution_count": 103,
     "metadata": {},
     "output_type": "execute_result"
    }
   ],
   "source": [
    "soup3.find('a', attrs={'href': re.compile('title/tt'), \n",
    "                       'class': re.compile('title-link-wrapper')})"
   ]
  },
  {
   "cell_type": "code",
   "execution_count": 119,
   "metadata": {},
   "outputs": [
    {
     "data": {
      "text/plain": [
       "<a class=\"ipc-title-link-wrapper\" href=\"/title/tt0120338/news/?ref_=tt_nwr_sm\" tabindex=\"0\"><h3 class=\"ipc-title__text\"><span>Related news</span><svg class=\"ipc-icon ipc-icon--chevron-right-inline ipc-icon--inline ipc-title-link ipc-title-link-chevron\" fill=\"currentColor\" height=\"24\" role=\"presentation\" viewbox=\"0 0 24 24\" width=\"24\" xmlns=\"http://www.w3.org/2000/svg\"><path d=\"M5.622.631A2.153 2.153 0 0 0 5 2.147c0 .568.224 1.113.622 1.515l8.249 8.34-8.25 8.34a2.16 2.16 0 0 0-.548 2.07c.196.74.768 1.317 1.499 1.515a2.104 2.104 0 0 0 2.048-.555l9.758-9.866a2.153 2.153 0 0 0 0-3.03L8.62.61C7.812-.207 6.45-.207 5.622.63z\"></path></svg></h3></a>"
      ]
     },
     "execution_count": 119,
     "metadata": {},
     "output_type": "execute_result"
    }
   ],
   "source": [
    "soup3.find_all('a', attrs={'href': re.compile('title/tt'), \n",
    "                       'class': re.compile('title-link-wrapper')})[-1]"
   ]
  },
  {
   "cell_type": "code",
   "execution_count": 117,
   "metadata": {},
   "outputs": [
    {
     "data": {
      "text/plain": [
       "7"
      ]
     },
     "execution_count": 117,
     "metadata": {},
     "output_type": "execute_result"
    }
   ],
   "source": [
    "len(soup3.find_all('a', attrs={'href': re.compile('title/tt'), \n",
    "                    'class': re.compile('title-link-wrapper')}))"
   ]
  },
  {
   "cell_type": "code",
   "execution_count": 108,
   "metadata": {},
   "outputs": [],
   "source": [
    "allAs = soup3.find_all('a', attrs={'href': re.compile('title/tt'), \n",
    "                       'class': re.compile('title-link-wrapper')})"
   ]
  },
  {
   "cell_type": "code",
   "execution_count": 114,
   "metadata": {},
   "outputs": [],
   "source": [
    "a_ = soup3.find('a', attrs={'href': re.compile('title/tt'), \n",
    "                       'class': re.compile('title-link-wrapper')})"
   ]
  },
  {
   "cell_type": "code",
   "execution_count": 115,
   "metadata": {},
   "outputs": [
    {
     "data": {
      "text/plain": [
       "'/title/tt0120338/videogallery/'"
      ]
     },
     "execution_count": 115,
     "metadata": {},
     "output_type": "execute_result"
    }
   ],
   "source": [
    "link = a_.get('href').split('?')[0]"
   ]
  },
  {
   "cell_type": "code",
   "execution_count": 120,
   "metadata": {},
   "outputs": [
    {
     "name": "stdout",
     "output_type": "stream",
     "text": [
      "/title/tt0120338/videogallery/\n",
      "/title/tt0120338/mediaviewer/rm4069242624/\n",
      "/title/tt0120338/fullcredits/cast/\n",
      "/title/tt0120338/reviews\n",
      "/title/tt0120338/faq/\n",
      "/title/tt0120338/technical\n",
      "/title/tt0120338/news/\n"
     ]
    }
   ],
   "source": [
    "result = []\n",
    "\n",
    "for a_ in allAs:\n",
    "    link = a_.get('href').split('?')[0]\n",
    "    result.append(print(link))"
   ]
  },
  {
   "cell_type": "code",
   "execution_count": 121,
   "metadata": {},
   "outputs": [
    {
     "data": {
      "text/plain": [
       "7"
      ]
     },
     "execution_count": 121,
     "metadata": {},
     "output_type": "execute_result"
    }
   ],
   "source": [
    "len(result)"
   ]
  },
  {
   "cell_type": "code",
   "execution_count": 125,
   "metadata": {},
   "outputs": [
    {
     "ename": "TypeError",
     "evalue": "sequence item 0: expected str instance, NoneType found",
     "output_type": "error",
     "traceback": [
      "\u001b[1;31m---------------------------------------------------------------------------\u001b[0m",
      "\u001b[1;31mTypeError\u001b[0m                                 Traceback (most recent call last)",
      "\u001b[1;32mf:\\HKU\\HKU_Course\\Module_1\\7001\\code\\bs4.ipynb 单元格 84\u001b[0m line \u001b[0;36m2\n\u001b[0;32m      <a href='vscode-notebook-cell:/f%3A/HKU/HKU_Course/Module_1/7001/code/bs4.ipynb#Y156sZmlsZQ%3D%3D?line=0'>1</a>\u001b[0m \u001b[39mwith\u001b[39;00m \u001b[39mopen\u001b[39m(\u001b[39m'\u001b[39m\u001b[39m../data_out/urls.text\u001b[39m\u001b[39m'\u001b[39m, \u001b[39m'\u001b[39m\u001b[39mw\u001b[39m\u001b[39m'\u001b[39m, newline\u001b[39m=\u001b[39m \u001b[39m'\u001b[39m\u001b[39m'\u001b[39m, encoding\u001b[39m=\u001b[39m\u001b[39m'\u001b[39m\u001b[39mutf-8\u001b[39m\u001b[39m'\u001b[39m) \u001b[39mas\u001b[39;00m handle:\n\u001b[1;32m----> <a href='vscode-notebook-cell:/f%3A/HKU/HKU_Course/Module_1/7001/code/bs4.ipynb#Y156sZmlsZQ%3D%3D?line=1'>2</a>\u001b[0m     handle\u001b[39m.\u001b[39mwrite(\u001b[39m'\u001b[39;49m\u001b[39m\\n\u001b[39;49;00m\u001b[39m'\u001b[39;49m\u001b[39m.\u001b[39;49mjoin(result))\n",
      "\u001b[1;31mTypeError\u001b[0m: sequence item 0: expected str instance, NoneType found"
     ]
    }
   ],
   "source": [
    "with open('../data_out/urls.text', 'w', newline= '', encoding='utf-8') as handle:\n",
    "    handle.write('\\n'.join(result))"
   ]
  },
  {
   "cell_type": "markdown",
   "metadata": {},
   "source": [
    "# info"
   ]
  },
  {
   "cell_type": "code",
   "execution_count": 133,
   "metadata": {},
   "outputs": [],
   "source": [
    "from bs4 import BeautifulSoup\n",
    "import requests, re, time, random\n",
    "import pandas as pd\n",
    "\n",
    "requests.packages.urllib3.disable_warnings()"
   ]
  },
  {
   "cell_type": "code",
   "execution_count": 129,
   "metadata": {},
   "outputs": [],
   "source": [
    "def status(url):\n",
    "    agent = {\n",
    "    'User-Agent' : 'Mozilla/5.0 (Windows NT 10.0; Win64; x64) AppleWebKit/537.36 (KHTML, like Gecko) Chrome/94.0.4606.71 Safari/537.36'\n",
    "    }\n",
    "    resp = requests.get(url1, headers = agent, verify=False)\n",
    "\n",
    "    if resp.ok:\n",
    "        return BeautifulSoup(resp.text, 'html.parser')\n",
    "    return False"
   ]
  },
  {
   "cell_type": "code",
   "execution_count": 130,
   "metadata": {},
   "outputs": [
    {
     "data": {
      "text/plain": [
       "<!DOCTYPE html>\n",
       "\n",
       "<html lang=\"en\">\n",
       "<head>\n",
       "<meta charset=\"utf-8\"/>\n",
       "<title>Quotes to Scrape</title>\n",
       "<link href=\"/static/bootstrap.min.css\" rel=\"stylesheet\"/>\n",
       "<link href=\"/static/main.css\" rel=\"stylesheet\"/>\n",
       "</head>\n",
       "<body>\n",
       "<div class=\"container\">\n",
       "<div class=\"row header-box\">\n",
       "<div class=\"col-md-8\">\n",
       "<h1>\n",
       "<a href=\"/\" style=\"text-decoration: none\">Quotes to Scrape</a>\n",
       "</h1>\n",
       "</div>\n",
       "<div class=\"col-md-4\">\n",
       "<p>\n",
       "<a href=\"/login\">Login</a>\n",
       "</p>\n",
       "</div>\n",
       "</div>\n",
       "<div class=\"row\">\n",
       "<div class=\"col-md-8\">\n",
       "<div class=\"quote\" itemscope=\"\" itemtype=\"http://schema.org/CreativeWork\">\n",
       "<span class=\"text\" itemprop=\"text\">“The world as we have created it is a process of our thinking. It cannot be changed without changing our thinking.”</span>\n",
       "<span>by <small class=\"author\" itemprop=\"author\">Albert Einstein</small>\n",
       "<a href=\"/author/Albert-Einstein\">(about)</a>\n",
       "</span>\n",
       "<div class=\"tags\">\n",
       "            Tags:\n",
       "            <meta class=\"keywords\" content=\"change,deep-thoughts,thinking,world\" itemprop=\"keywords\"/>\n",
       "<a class=\"tag\" href=\"/tag/change/page/1/\">change</a>\n",
       "<a class=\"tag\" href=\"/tag/deep-thoughts/page/1/\">deep-thoughts</a>\n",
       "<a class=\"tag\" href=\"/tag/thinking/page/1/\">thinking</a>\n",
       "<a class=\"tag\" href=\"/tag/world/page/1/\">world</a>\n",
       "</div>\n",
       "</div>\n",
       "<div class=\"quote\" itemscope=\"\" itemtype=\"http://schema.org/CreativeWork\">\n",
       "<span class=\"text\" itemprop=\"text\">“It is our choices, Harry, that show what we truly are, far more than our abilities.”</span>\n",
       "<span>by <small class=\"author\" itemprop=\"author\">J.K. Rowling</small>\n",
       "<a href=\"/author/J-K-Rowling\">(about)</a>\n",
       "</span>\n",
       "<div class=\"tags\">\n",
       "            Tags:\n",
       "            <meta class=\"keywords\" content=\"abilities,choices\" itemprop=\"keywords\"/>\n",
       "<a class=\"tag\" href=\"/tag/abilities/page/1/\">abilities</a>\n",
       "<a class=\"tag\" href=\"/tag/choices/page/1/\">choices</a>\n",
       "</div>\n",
       "</div>\n",
       "<div class=\"quote\" itemscope=\"\" itemtype=\"http://schema.org/CreativeWork\">\n",
       "<span class=\"text\" itemprop=\"text\">“There are only two ways to live your life. One is as though nothing is a miracle. The other is as though everything is a miracle.”</span>\n",
       "<span>by <small class=\"author\" itemprop=\"author\">Albert Einstein</small>\n",
       "<a href=\"/author/Albert-Einstein\">(about)</a>\n",
       "</span>\n",
       "<div class=\"tags\">\n",
       "            Tags:\n",
       "            <meta class=\"keywords\" content=\"inspirational,life,live,miracle,miracles\" itemprop=\"keywords\"/>\n",
       "<a class=\"tag\" href=\"/tag/inspirational/page/1/\">inspirational</a>\n",
       "<a class=\"tag\" href=\"/tag/life/page/1/\">life</a>\n",
       "<a class=\"tag\" href=\"/tag/live/page/1/\">live</a>\n",
       "<a class=\"tag\" href=\"/tag/miracle/page/1/\">miracle</a>\n",
       "<a class=\"tag\" href=\"/tag/miracles/page/1/\">miracles</a>\n",
       "</div>\n",
       "</div>\n",
       "<div class=\"quote\" itemscope=\"\" itemtype=\"http://schema.org/CreativeWork\">\n",
       "<span class=\"text\" itemprop=\"text\">“The person, be it gentleman or lady, who has not pleasure in a good novel, must be intolerably stupid.”</span>\n",
       "<span>by <small class=\"author\" itemprop=\"author\">Jane Austen</small>\n",
       "<a href=\"/author/Jane-Austen\">(about)</a>\n",
       "</span>\n",
       "<div class=\"tags\">\n",
       "            Tags:\n",
       "            <meta class=\"keywords\" content=\"aliteracy,books,classic,humor\" itemprop=\"keywords\"/>\n",
       "<a class=\"tag\" href=\"/tag/aliteracy/page/1/\">aliteracy</a>\n",
       "<a class=\"tag\" href=\"/tag/books/page/1/\">books</a>\n",
       "<a class=\"tag\" href=\"/tag/classic/page/1/\">classic</a>\n",
       "<a class=\"tag\" href=\"/tag/humor/page/1/\">humor</a>\n",
       "</div>\n",
       "</div>\n",
       "<div class=\"quote\" itemscope=\"\" itemtype=\"http://schema.org/CreativeWork\">\n",
       "<span class=\"text\" itemprop=\"text\">“Imperfection is beauty, madness is genius and it's better to be absolutely ridiculous than absolutely boring.”</span>\n",
       "<span>by <small class=\"author\" itemprop=\"author\">Marilyn Monroe</small>\n",
       "<a href=\"/author/Marilyn-Monroe\">(about)</a>\n",
       "</span>\n",
       "<div class=\"tags\">\n",
       "            Tags:\n",
       "            <meta class=\"keywords\" content=\"be-yourself,inspirational\" itemprop=\"keywords\"/>\n",
       "<a class=\"tag\" href=\"/tag/be-yourself/page/1/\">be-yourself</a>\n",
       "<a class=\"tag\" href=\"/tag/inspirational/page/1/\">inspirational</a>\n",
       "</div>\n",
       "</div>\n",
       "<div class=\"quote\" itemscope=\"\" itemtype=\"http://schema.org/CreativeWork\">\n",
       "<span class=\"text\" itemprop=\"text\">“Try not to become a man of success. Rather become a man of value.”</span>\n",
       "<span>by <small class=\"author\" itemprop=\"author\">Albert Einstein</small>\n",
       "<a href=\"/author/Albert-Einstein\">(about)</a>\n",
       "</span>\n",
       "<div class=\"tags\">\n",
       "            Tags:\n",
       "            <meta class=\"keywords\" content=\"adulthood,success,value\" itemprop=\"keywords\"/>\n",
       "<a class=\"tag\" href=\"/tag/adulthood/page/1/\">adulthood</a>\n",
       "<a class=\"tag\" href=\"/tag/success/page/1/\">success</a>\n",
       "<a class=\"tag\" href=\"/tag/value/page/1/\">value</a>\n",
       "</div>\n",
       "</div>\n",
       "<div class=\"quote\" itemscope=\"\" itemtype=\"http://schema.org/CreativeWork\">\n",
       "<span class=\"text\" itemprop=\"text\">“It is better to be hated for what you are than to be loved for what you are not.”</span>\n",
       "<span>by <small class=\"author\" itemprop=\"author\">André Gide</small>\n",
       "<a href=\"/author/Andre-Gide\">(about)</a>\n",
       "</span>\n",
       "<div class=\"tags\">\n",
       "            Tags:\n",
       "            <meta class=\"keywords\" content=\"life,love\" itemprop=\"keywords\"/>\n",
       "<a class=\"tag\" href=\"/tag/life/page/1/\">life</a>\n",
       "<a class=\"tag\" href=\"/tag/love/page/1/\">love</a>\n",
       "</div>\n",
       "</div>\n",
       "<div class=\"quote\" itemscope=\"\" itemtype=\"http://schema.org/CreativeWork\">\n",
       "<span class=\"text\" itemprop=\"text\">“I have not failed. I've just found 10,000 ways that won't work.”</span>\n",
       "<span>by <small class=\"author\" itemprop=\"author\">Thomas A. Edison</small>\n",
       "<a href=\"/author/Thomas-A-Edison\">(about)</a>\n",
       "</span>\n",
       "<div class=\"tags\">\n",
       "            Tags:\n",
       "            <meta class=\"keywords\" content=\"edison,failure,inspirational,paraphrased\" itemprop=\"keywords\"/>\n",
       "<a class=\"tag\" href=\"/tag/edison/page/1/\">edison</a>\n",
       "<a class=\"tag\" href=\"/tag/failure/page/1/\">failure</a>\n",
       "<a class=\"tag\" href=\"/tag/inspirational/page/1/\">inspirational</a>\n",
       "<a class=\"tag\" href=\"/tag/paraphrased/page/1/\">paraphrased</a>\n",
       "</div>\n",
       "</div>\n",
       "<div class=\"quote\" itemscope=\"\" itemtype=\"http://schema.org/CreativeWork\">\n",
       "<span class=\"text\" itemprop=\"text\">“A woman is like a tea bag; you never know how strong it is until it's in hot water.”</span>\n",
       "<span>by <small class=\"author\" itemprop=\"author\">Eleanor Roosevelt</small>\n",
       "<a href=\"/author/Eleanor-Roosevelt\">(about)</a>\n",
       "</span>\n",
       "<div class=\"tags\">\n",
       "            Tags:\n",
       "            <meta class=\"keywords\" content=\"misattributed-eleanor-roosevelt\" itemprop=\"keywords\"/>\n",
       "<a class=\"tag\" href=\"/tag/misattributed-eleanor-roosevelt/page/1/\">misattributed-eleanor-roosevelt</a>\n",
       "</div>\n",
       "</div>\n",
       "<div class=\"quote\" itemscope=\"\" itemtype=\"http://schema.org/CreativeWork\">\n",
       "<span class=\"text\" itemprop=\"text\">“A day without sunshine is like, you know, night.”</span>\n",
       "<span>by <small class=\"author\" itemprop=\"author\">Steve Martin</small>\n",
       "<a href=\"/author/Steve-Martin\">(about)</a>\n",
       "</span>\n",
       "<div class=\"tags\">\n",
       "            Tags:\n",
       "            <meta class=\"keywords\" content=\"humor,obvious,simile\" itemprop=\"keywords\"/>\n",
       "<a class=\"tag\" href=\"/tag/humor/page/1/\">humor</a>\n",
       "<a class=\"tag\" href=\"/tag/obvious/page/1/\">obvious</a>\n",
       "<a class=\"tag\" href=\"/tag/simile/page/1/\">simile</a>\n",
       "</div>\n",
       "</div>\n",
       "<nav>\n",
       "<ul class=\"pager\">\n",
       "<li class=\"next\">\n",
       "<a href=\"/page/2/\">Next <span aria-hidden=\"true\">→</span></a>\n",
       "</li>\n",
       "</ul>\n",
       "</nav>\n",
       "</div>\n",
       "<div class=\"col-md-4 tags-box\">\n",
       "<h2>Top Ten tags</h2>\n",
       "<span class=\"tag-item\">\n",
       "<a class=\"tag\" href=\"/tag/love/\" style=\"font-size: 28px\">love</a>\n",
       "</span>\n",
       "<span class=\"tag-item\">\n",
       "<a class=\"tag\" href=\"/tag/inspirational/\" style=\"font-size: 26px\">inspirational</a>\n",
       "</span>\n",
       "<span class=\"tag-item\">\n",
       "<a class=\"tag\" href=\"/tag/life/\" style=\"font-size: 26px\">life</a>\n",
       "</span>\n",
       "<span class=\"tag-item\">\n",
       "<a class=\"tag\" href=\"/tag/humor/\" style=\"font-size: 24px\">humor</a>\n",
       "</span>\n",
       "<span class=\"tag-item\">\n",
       "<a class=\"tag\" href=\"/tag/books/\" style=\"font-size: 22px\">books</a>\n",
       "</span>\n",
       "<span class=\"tag-item\">\n",
       "<a class=\"tag\" href=\"/tag/reading/\" style=\"font-size: 14px\">reading</a>\n",
       "</span>\n",
       "<span class=\"tag-item\">\n",
       "<a class=\"tag\" href=\"/tag/friendship/\" style=\"font-size: 10px\">friendship</a>\n",
       "</span>\n",
       "<span class=\"tag-item\">\n",
       "<a class=\"tag\" href=\"/tag/friends/\" style=\"font-size: 8px\">friends</a>\n",
       "</span>\n",
       "<span class=\"tag-item\">\n",
       "<a class=\"tag\" href=\"/tag/truth/\" style=\"font-size: 8px\">truth</a>\n",
       "</span>\n",
       "<span class=\"tag-item\">\n",
       "<a class=\"tag\" href=\"/tag/simile/\" style=\"font-size: 6px\">simile</a>\n",
       "</span>\n",
       "</div>\n",
       "</div>\n",
       "</div>\n",
       "<footer class=\"footer\">\n",
       "<div class=\"container\">\n",
       "<p class=\"text-muted\">\n",
       "                Quotes by: <a href=\"https://www.goodreads.com/quotes\">GoodReads.com</a>\n",
       "</p>\n",
       "<p class=\"copyright\">\n",
       "                Made with <span class=\"zyte\">❤</span> by <a class=\"zyte\" href=\"https://www.zyte.com\">Zyte</a>\n",
       "</p>\n",
       "</div>\n",
       "</footer>\n",
       "</body>\n",
       "</html>"
      ]
     },
     "execution_count": 130,
     "metadata": {},
     "output_type": "execute_result"
    }
   ],
   "source": [
    "status('https://www.imdb.com/title/tt0120338/')"
   ]
  },
  {
   "cell_type": "code",
   "execution_count": 135,
   "metadata": {},
   "outputs": [],
   "source": [
    "def extract(url):\n",
    "    if status(url) is False:\n",
    "        return 'Access denied'\n",
    "    \n",
    "    soup = status(url)\n",
    "\n",
    "    name = soup.h1.text\n",
    "    year = soup.select('h1 ~ ul > li')[0].text\n",
    "    pg = soup.select('h1 ~ ul > li')[1].text\n",
    "    length = soup.select('h1 ~ ul > li')[2].text\n",
    "\n",
    "    return [name, year, pg, length]"
   ]
  },
  {
   "cell_type": "code",
   "execution_count": 136,
   "metadata": {},
   "outputs": [
    {
     "ename": "IndexError",
     "evalue": "list index out of range",
     "output_type": "error",
     "traceback": [
      "\u001b[1;31m---------------------------------------------------------------------------\u001b[0m",
      "\u001b[1;31mIndexError\u001b[0m                                Traceback (most recent call last)",
      "\u001b[1;32mf:\\HKU\\HKU_Course\\Module_1\\7001\\code\\bs4.ipynb 单元格 90\u001b[0m line \u001b[0;36m1\n\u001b[1;32m----> <a href='vscode-notebook-cell:/f%3A/HKU/HKU_Course/Module_1/7001/code/bs4.ipynb#Y200sZmlsZQ%3D%3D?line=0'>1</a>\u001b[0m extract(\u001b[39m'\u001b[39;49m\u001b[39mhttps://www.imdb.com/title/tt0120338/\u001b[39;49m\u001b[39m'\u001b[39;49m)\n",
      "\u001b[1;32mf:\\HKU\\HKU_Course\\Module_1\\7001\\code\\bs4.ipynb 单元格 90\u001b[0m line \u001b[0;36m8\n\u001b[0;32m      <a href='vscode-notebook-cell:/f%3A/HKU/HKU_Course/Module_1/7001/code/bs4.ipynb#Y200sZmlsZQ%3D%3D?line=4'>5</a>\u001b[0m soup \u001b[39m=\u001b[39m status(url)\n\u001b[0;32m      <a href='vscode-notebook-cell:/f%3A/HKU/HKU_Course/Module_1/7001/code/bs4.ipynb#Y200sZmlsZQ%3D%3D?line=6'>7</a>\u001b[0m name \u001b[39m=\u001b[39m soup\u001b[39m.\u001b[39mh1\u001b[39m.\u001b[39mtext\n\u001b[1;32m----> <a href='vscode-notebook-cell:/f%3A/HKU/HKU_Course/Module_1/7001/code/bs4.ipynb#Y200sZmlsZQ%3D%3D?line=7'>8</a>\u001b[0m year \u001b[39m=\u001b[39m soup\u001b[39m.\u001b[39;49mselect(\u001b[39m'\u001b[39;49m\u001b[39mh1 ~ ul > li\u001b[39;49m\u001b[39m'\u001b[39;49m)[\u001b[39m0\u001b[39;49m]\u001b[39m.\u001b[39mtext\n\u001b[0;32m      <a href='vscode-notebook-cell:/f%3A/HKU/HKU_Course/Module_1/7001/code/bs4.ipynb#Y200sZmlsZQ%3D%3D?line=8'>9</a>\u001b[0m pg \u001b[39m=\u001b[39m soup\u001b[39m.\u001b[39mselect(\u001b[39m'\u001b[39m\u001b[39mh1 ~ ul > li\u001b[39m\u001b[39m'\u001b[39m)[\u001b[39m1\u001b[39m]\u001b[39m.\u001b[39mtext\n\u001b[0;32m     <a href='vscode-notebook-cell:/f%3A/HKU/HKU_Course/Module_1/7001/code/bs4.ipynb#Y200sZmlsZQ%3D%3D?line=9'>10</a>\u001b[0m length \u001b[39m=\u001b[39m soup\u001b[39m.\u001b[39mselect(\u001b[39m'\u001b[39m\u001b[39mh1 ~ ul > li\u001b[39m\u001b[39m'\u001b[39m)[\u001b[39m2\u001b[39m]\u001b[39m.\u001b[39mtext\n",
      "\u001b[1;31mIndexError\u001b[0m: list index out of range"
     ]
    }
   ],
   "source": [
    "extract('https://www.imdb.com/title/tt0120338/')"
   ]
  },
  {
   "cell_type": "code",
   "execution_count": null,
   "metadata": {},
   "outputs": [],
   "source": []
  },
  {
   "cell_type": "code",
   "execution_count": null,
   "metadata": {},
   "outputs": [],
   "source": [
    "url3 = 'https://www.imdb.com/chart/top/'\n",
    "\n",
    "agent = {\n",
    "    'User-Agent' : 'Mozilla/5.0 (Windows NT 10.0; Win64; x64) AppleWebKit/537.36 (KHTML, like Gecko) Chrome/94.0.4606.71 Safari/537.36'\n",
    "}\n",
    "\n",
    "r3 = requests.get(url2, headers = agent, verify=False)"
   ]
  },
  {
   "cell_type": "code",
   "execution_count": 138,
   "metadata": {},
   "outputs": [
    {
     "data": {
      "text/plain": [
       "1695648400.7072408"
      ]
     },
     "execution_count": 138,
     "metadata": {},
     "output_type": "execute_result"
    }
   ],
   "source": [
    "time.time()\n",
    "# epoch:1970, jan 1, 00:00"
   ]
  },
  {
   "cell_type": "code",
   "execution_count": 140,
   "metadata": {},
   "outputs": [
    {
     "name": "stdout",
     "output_type": "stream",
     "text": [
      "0.0009980201721191406\n"
     ]
    }
   ],
   "source": [
    "start = time.time()\n",
    "for link in open('../data_out/urls.text').readlines()[0:10]:\n",
    "    url = 'https://www.imdb.com' + link.strip()\n",
    "    \n",
    "\n",
    "    print(extract(url))\n",
    "    time.sleep(random.random())\n",
    "\n",
    "\n",
    "end = time.time()\n",
    "\n",
    "print(end-start)"
   ]
  },
  {
   "cell_type": "markdown",
   "metadata": {},
   "source": [
    "## Exercise – Amazon best sellers"
   ]
  },
  {
   "cell_type": "markdown",
   "metadata": {},
   "source": [
    "<div id=\"B0BVNZD4FY\" class=\"p13n-sc-uncoverable-faceout\"><a class=\"a-link-normal\" tabindex=\"-1\" href=\"/Things-Left-Behind-Knockemout-Book-ebook/dp/B0BVNZD4FY/ref=zg_bs_g_digital-text_sccl_1/132-4525781-4265927?psc=1\" role=\"link\"><div class=\"a-section a-spacing-mini _cDEzb_noop_3Xbw5\"><img alt=\"Things We Left Behind (Knockemout Book 3)\" src=\"https://images-na.ssl-images-amazon.com/images/I/81vH6kaT1jL._UX300__PJku-sticker-v7,TopRight,0,-50_AC_UL900_SR900,600_.jpg\" class=\"a-dynamic-image p13n-sc-dynamic-image p13n-product-image\" height=\"200px\" data-a-dynamic-image=\"{&quot;https://images-na.ssl-images-amazon.com/images/I/81vH6kaT1jL._UX300__PJku-sticker-v7,TopRight,0,-50_AC_UL300_SR300,200_.jpg&quot;:[300,200],&quot;https://images-na.ssl-images-amazon.com/images/I/81vH6kaT1jL._UX300__PJku-sticker-v7,TopRight,0,-50_AC_UL600_SR600,400_.jpg&quot;:[600,400],&quot;https://images-na.ssl-images-amazon.com/images/I/81vH6kaT1jL._UX300__PJku-sticker-v7,TopRight,0,-50_AC_UL900_SR900,600_.jpg&quot;:[900,600]}\" style=\"max-width:300px;max-height:200px\"></div></a><a class=\"a-link-normal\" href=\"/Things-Left-Behind-Knockemout-Book-ebook/dp/B0BVNZD4FY/ref=zg_bs_g_digital-text_sccl_1/132-4525781-4265927?psc=1\" role=\"link\"><span><div class=\"_cDEzb_p13n-sc-css-line-clamp-1_1Fn1y\">Things We Left Behind (Knockemout Book 3)</div></span></a><div class=\"a-row a-size-small\"><a class=\"a-size-small a-link-child\" href=\"/Lucy-Score/e/B00G2DKSBU/ref=zg_bs_g_digital-text_bl_sccl_1/132-4525781-4265927\"><div class=\"_cDEzb_p13n-sc-css-line-clamp-1_1Fn1y\">Lucy Score</div></a></div><div class=\"a-row\"><div class=\"a-icon-row\"><a class=\"a-link-normal\" title=\"4.7 out of 5 stars\" href=\"/product-reviews/B0BVNZD4FY/ref=zg_bs_g_digital-text_cr_sccl_1/132-4525781-4265927\"><i class=\"a-icon a-icon-star-small a-star-small-4-5 aok-align-top\"><span class=\"a-icon-alt\">4.7 out of 5 stars</span></i> <span class=\"a-size-small\">20,340</span></a></div></div><div class=\"a-row a-size-small\"><span class=\"a-size-small a-color-secondary a-text-normal\">Kindle Edition</span></div><div class=\"a-row\"><div class=\"a-row\"><div class=\"_cDEzb_p13n-sc-price-animation-wrapper_3PzN2\"><a class=\"a-link-normal a-text-normal\" href=\"/Things-Left-Behind-Knockemout-Book-ebook/dp/B0BVNZD4FY/ref=zg_bs_g_digital-text_sccl_1/132-4525781-4265927?psc=1\" role=\"link\"><div class=\"a-row\"><span class=\"a-size-base a-color-price\"><span class=\"_cDEzb_p13n-sc-price_3mJ9Z\">$5.99</span></span></div></a></div></div></div></div>"
   ]
  },
  {
   "cell_type": "code",
   "execution_count": 13,
   "metadata": {},
   "outputs": [],
   "source": [
    "import requests\n",
    "from bs4 import BeautifulSoup\n",
    "import pandas as pd\n",
    "\n",
    "requests.packages.urllib3.disable_warnings()"
   ]
  },
  {
   "cell_type": "code",
   "execution_count": 18,
   "metadata": {},
   "outputs": [],
   "source": [
    "agent = {\n",
    "    'User-Agent' : 'Mozilla/5.0 (Windows NT 10.0; Win64; x64) AppleWebKit/537.36 (KHTML, like Gecko) Chrome/94.0.4606.71 Safari/537.36'\n",
    "    }\n",
    "url5 = 'https://www.amazon.com/Best-Sellers-Kindle-Store/zgbs/digital-text'\n",
    "r5 = requests.get(url5, headers = agent, verify=False)"
   ]
  },
  {
   "cell_type": "code",
   "execution_count": 52,
   "metadata": {},
   "outputs": [
    {
     "data": {
      "text/plain": [
       "200"
      ]
     },
     "execution_count": 52,
     "metadata": {},
     "output_type": "execute_result"
    }
   ],
   "source": [
    "r5.status_code"
   ]
  },
  {
   "cell_type": "code",
   "execution_count": 20,
   "metadata": {},
   "outputs": [],
   "source": [
    "soup5 = BeautifulSoup(r5.text, 'html.parser')"
   ]
  },
  {
   "cell_type": "code",
   "execution_count": 21,
   "metadata": {},
   "outputs": [
    {
     "data": {
      "text/plain": [
       "30"
      ]
     },
     "execution_count": 21,
     "metadata": {},
     "output_type": "execute_result"
    }
   ],
   "source": [
    "len(soup5.select('div.p13n-sc-uncoverable-faceout'))"
   ]
  },
  {
   "cell_type": "code",
   "execution_count": 22,
   "metadata": {},
   "outputs": [],
   "source": [
    "allDIVs = soup5.select('div.p13n-sc-uncoverable-faceout')"
   ]
  },
  {
   "cell_type": "code",
   "execution_count": 23,
   "metadata": {},
   "outputs": [],
   "source": [
    "div_ = allDIVs[0]"
   ]
  },
  {
   "cell_type": "code",
   "execution_count": 26,
   "metadata": {},
   "outputs": [
    {
     "data": {
      "text/plain": [
       "[<a class=\"a-link-normal\" href=\"/Things-Left-Behind-Knockemout-Book-ebook/dp/B0BVNZD4FY/ref=zg_bs_g_digital-text_sccl_1/146-0061484-7500107?psc=1\" role=\"link\" tabindex=\"-1\"><div class=\"a-section a-spacing-mini _cDEzb_noop_3Xbw5\"><img alt=\"Things We Left Behind (Knockemout Book 3)\" class=\"a-dynamic-image p13n-sc-dynamic-image p13n-product-image\" data-a-dynamic-image='{\"https://images-na.ssl-images-amazon.com/images/I/81vH6kaT1jL._UX300__PJku-sticker-v7,TopRight,0,-50_AC_UL300_SR300,200_.jpg\":[300,200],\"https://images-na.ssl-images-amazon.com/images/I/81vH6kaT1jL._UX300__PJku-sticker-v7,TopRight,0,-50_AC_UL600_SR600,400_.jpg\":[600,400],\"https://images-na.ssl-images-amazon.com/images/I/81vH6kaT1jL._UX300__PJku-sticker-v7,TopRight,0,-50_AC_UL900_SR900,600_.jpg\":[900,600]}' height=\"200px\" src=\"https://images-na.ssl-images-amazon.com/images/I/81vH6kaT1jL._UX300__PJku-sticker-v7,TopRight,0,-50_AC_UL300_SR300,200_.jpg\" style=\"max-width:300px;max-height:200px\"/></div></a>,\n",
       " <a class=\"a-link-normal\" href=\"/Things-Left-Behind-Knockemout-Book-ebook/dp/B0BVNZD4FY/ref=zg_bs_g_digital-text_sccl_1/146-0061484-7500107?psc=1\" role=\"link\"><span><div class=\"_cDEzb_p13n-sc-css-line-clamp-1_1Fn1y\">Things We Left Behind (Knockemout Book 3)</div></span></a>,\n",
       " <div class=\"a-row a-size-small\"><a class=\"a-size-small a-link-child\" href=\"/Lucy-Score/e/B00G2DKSBU/ref=zg_bs_g_digital-text_bl_sccl_1/146-0061484-7500107\"><div class=\"_cDEzb_p13n-sc-css-line-clamp-1_1Fn1y\">Lucy Score</div></a></div>,\n",
       " <div class=\"a-row\"><div class=\"a-icon-row\"><a class=\"a-link-normal\" href=\"/product-reviews/B0BVNZD4FY/ref=zg_bs_g_digital-text_cr_sccl_1/146-0061484-7500107\" title=\"4.7 out of 5 stars\"><i class=\"a-icon a-icon-star-small a-star-small-4-5 aok-align-top\"><span class=\"a-icon-alt\">4.7 out of 5 stars</span></i> <span class=\"a-size-small\">20,340</span></a></div></div>,\n",
       " <div class=\"a-row a-size-small\"><span class=\"a-size-small a-color-secondary a-text-normal\">Kindle Edition</span></div>,\n",
       " <div class=\"a-row\"><div class=\"a-row\"><div class=\"_cDEzb_p13n-sc-price-animation-wrapper_3PzN2\"><a class=\"a-link-normal a-text-normal\" href=\"/Things-Left-Behind-Knockemout-Book-ebook/dp/B0BVNZD4FY/ref=zg_bs_g_digital-text_sccl_1/146-0061484-7500107?psc=1\" role=\"link\"><div class=\"a-row\"><span class=\"a-size-base a-color-price\"><span class=\"_cDEzb_p13n-sc-price_3mJ9Z\">$5.99</span></span></div></a></div></div></div>]"
      ]
     },
     "execution_count": 26,
     "metadata": {},
     "output_type": "execute_result"
    }
   ],
   "source": [
    "list(div_.children)"
   ]
  },
  {
   "cell_type": "code",
   "execution_count": 27,
   "metadata": {},
   "outputs": [
    {
     "data": {
      "text/plain": [
       "6"
      ]
     },
     "execution_count": 27,
     "metadata": {},
     "output_type": "execute_result"
    }
   ],
   "source": [
    "len(list(div_.children))"
   ]
  },
  {
   "cell_type": "code",
   "execution_count": 28,
   "metadata": {},
   "outputs": [
    {
     "name": "stdout",
     "output_type": "stream",
     "text": [
      "a\n",
      "a\n",
      "div\n",
      "div\n",
      "div\n",
      "div\n"
     ]
    }
   ],
   "source": [
    "for tag in list(div_.children):\n",
    "    print(tag.name)"
   ]
  },
  {
   "cell_type": "code",
   "execution_count": 30,
   "metadata": {},
   "outputs": [
    {
     "data": {
      "text/plain": [
       "'Things We Left Behind (Knockemout Book 3)'"
      ]
     },
     "execution_count": 30,
     "metadata": {},
     "output_type": "execute_result"
    }
   ],
   "source": [
    "list(div_.children)[1].text"
   ]
  },
  {
   "cell_type": "code",
   "execution_count": 31,
   "metadata": {},
   "outputs": [
    {
     "data": {
      "text/plain": [
       "'Lucy Score'"
      ]
     },
     "execution_count": 31,
     "metadata": {},
     "output_type": "execute_result"
    }
   ],
   "source": [
    "list(div_.children)[2].text"
   ]
  },
  {
   "cell_type": "code",
   "execution_count": 34,
   "metadata": {},
   "outputs": [
    {
     "data": {
      "text/plain": [
       "'4.7 out of 5 stars'"
      ]
     },
     "execution_count": 34,
     "metadata": {},
     "output_type": "execute_result"
    }
   ],
   "source": [
    "list(div_.children)[3].span.text"
   ]
  },
  {
   "cell_type": "code",
   "execution_count": 35,
   "metadata": {},
   "outputs": [
    {
     "data": {
      "text/plain": [
       "'$5.99'"
      ]
     },
     "execution_count": 35,
     "metadata": {},
     "output_type": "execute_result"
    }
   ],
   "source": [
    "list(div_.children)[-1].text"
   ]
  },
  {
   "cell_type": "code",
   "execution_count": 36,
   "metadata": {},
   "outputs": [
    {
     "data": {
      "text/plain": [
       "['Things We Left Behind (Knockemout Book 3)',\n",
       " 'Lucy Score',\n",
       " '4.7 out of 5 stars',\n",
       " '$5.99']"
      ]
     },
     "execution_count": 36,
     "metadata": {},
     "output_type": "execute_result"
    }
   ],
   "source": [
    "title = list(div_.children)[1].text\n",
    "author = list(div_.children)[2].text\n",
    "rating = list(div_.children)[3].span.text\n",
    "price = list(div_.children)[-1].text\n",
    "\n",
    "[title, author, rating, price]"
   ]
  },
  {
   "cell_type": "code",
   "execution_count": 45,
   "metadata": {},
   "outputs": [
    {
     "data": {
      "text/plain": [
       "[['Things We Left Behind (Knockemout Book 3)', 'Lucy Score', 4.7, 5.99],\n",
       " ['Cruel Paradise (Oryolov Bratva Book 1)', 'Nicole Fox', 4.7, 2.99],\n",
       " ['How does it feel?: Infatuated fae book 1', \"Jeneane O'Riley\", 4.5, 3.99]]"
      ]
     },
     "execution_count": 45,
     "metadata": {},
     "output_type": "execute_result"
    }
   ],
   "source": [
    "count = 1\n",
    "\n",
    "data= []\n",
    "\n",
    "for div_ in allDIVs:\n",
    "    title = list(div_.children)[1].text\n",
    "    author = list(div_.children)[2].text\n",
    "    rating = list(div_.children)[3].span.text.split()[0]\n",
    "    price = list(div_.children)[-1].text.replace('$', '')\n",
    "\n",
    "    data.append([title, author, float(rating), float(price)])\n",
    "\n",
    "    # print(count, price)\n",
    "    # count +=1\n",
    "\n",
    "data[:3]"
   ]
  },
  {
   "cell_type": "code",
   "execution_count": 46,
   "metadata": {},
   "outputs": [],
   "source": [
    "bestseller = pd.DataFrame(data,\n",
    "                          columns=['title', 'author', 'rating', 'price'])"
   ]
  },
  {
   "cell_type": "code",
   "execution_count": 49,
   "metadata": {},
   "outputs": [
    {
     "data": {
      "text/plain": [
       "title     False\n",
       "author    False\n",
       "rating    False\n",
       "price     False\n",
       "dtype: bool"
      ]
     },
     "execution_count": 49,
     "metadata": {},
     "output_type": "execute_result"
    }
   ],
   "source": [
    "bestseller.isnull().any()"
   ]
  },
  {
   "cell_type": "code",
   "execution_count": 50,
   "metadata": {},
   "outputs": [
    {
     "data": {
      "text/plain": [
       "title      object\n",
       "author     object\n",
       "rating    float64\n",
       "price     float64\n",
       "dtype: object"
      ]
     },
     "execution_count": 50,
     "metadata": {},
     "output_type": "execute_result"
    }
   ],
   "source": [
    "bestseller.dtypes"
   ]
  },
  {
   "cell_type": "code",
   "execution_count": null,
   "metadata": {},
   "outputs": [],
   "source": []
  },
  {
   "cell_type": "code",
   "execution_count": null,
   "metadata": {},
   "outputs": [],
   "source": []
  },
  {
   "cell_type": "code",
   "execution_count": null,
   "metadata": {},
   "outputs": [],
   "source": []
  },
  {
   "cell_type": "code",
   "execution_count": null,
   "metadata": {},
   "outputs": [],
   "source": []
  },
  {
   "cell_type": "code",
   "execution_count": null,
   "metadata": {},
   "outputs": [],
   "source": []
  },
  {
   "cell_type": "code",
   "execution_count": null,
   "metadata": {},
   "outputs": [],
   "source": []
  },
  {
   "cell_type": "code",
   "execution_count": null,
   "metadata": {},
   "outputs": [],
   "source": []
  }
 ],
 "metadata": {
  "kernelspec": {
   "display_name": "Python 3",
   "language": "python",
   "name": "python3"
  },
  "language_info": {
   "codemirror_mode": {
    "name": "ipython",
    "version": 3
   },
   "file_extension": ".py",
   "mimetype": "text/x-python",
   "name": "python",
   "nbconvert_exporter": "python",
   "pygments_lexer": "ipython3",
   "version": "3.11.4"
  },
  "orig_nbformat": 4
 },
 "nbformat": 4,
 "nbformat_minor": 2
}
