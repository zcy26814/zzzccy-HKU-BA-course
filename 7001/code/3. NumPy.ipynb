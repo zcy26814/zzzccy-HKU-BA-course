{
 "cells": [
  {
   "cell_type": "markdown",
   "metadata": {},
   "source": [
    "# Creating NumPy arrays"
   ]
  },
  {
   "cell_type": "markdown",
   "metadata": {},
   "source": [
    "## From a list"
   ]
  },
  {
   "cell_type": "code",
   "execution_count": 2,
   "metadata": {},
   "outputs": [],
   "source": [
    "import numpy as np"
   ]
  },
  {
   "cell_type": "code",
   "execution_count": 279,
   "metadata": {},
   "outputs": [
    {
     "data": {
      "text/plain": [
       "array([6. , 7.5, 8. , 0. , 1. ])"
      ]
     },
     "execution_count": 279,
     "metadata": {},
     "output_type": "execute_result"
    }
   ],
   "source": [
    "data1 = [6, 7.5, 8, 0, 1]   # a list\n",
    "arr1 = np.array(data1, float)\n",
    "arr1"
   ]
  },
  {
   "cell_type": "code",
   "execution_count": 15,
   "metadata": {},
   "outputs": [
    {
     "name": "stdout",
     "output_type": "stream",
     "text": [
      "<class 'numpy.ndarray'>\n",
      "[6.  7.5 8.  0.  1. ]\n"
     ]
    }
   ],
   "source": [
    "print(type(arr1))\n",
    "print(arr1)"
   ]
  },
  {
   "cell_type": "code",
   "execution_count": 18,
   "metadata": {},
   "outputs": [
    {
     "name": "stdout",
     "output_type": "stream",
     "text": [
      "float64\n",
      "(5,)\n"
     ]
    }
   ],
   "source": [
    "print(arr1.dtype)\n",
    "# dtype returns the data type of the array\n",
    "\n",
    "print(arr1.shape)\n",
    "# note the shape is a tuple of single element.\n",
    "# you may think of it as a 5x1 matrix"
   ]
  },
  {
   "cell_type": "code",
   "execution_count": 19,
   "metadata": {},
   "outputs": [
    {
     "name": "stdout",
     "output_type": "stream",
     "text": [
      "[[1 2 3 4]\n",
      " [5 6 7 8]]\n"
     ]
    }
   ],
   "source": [
    "data2 = [[1, 2, 3, 4], [5, 6, 7, 8]]\n",
    "arr2 = np.array(data2)\n",
    "print(arr2)"
   ]
  },
  {
   "cell_type": "code",
   "execution_count": 20,
   "metadata": {},
   "outputs": [
    {
     "name": "stdout",
     "output_type": "stream",
     "text": [
      "int32\n",
      "8\n",
      "8\n",
      "2\n",
      "(2, 4)\n"
     ]
    }
   ],
   "source": [
    "print(arr2.dtype)\n",
    "print(arr2.size)\n",
    "print(np.size(arr2))\n",
    "print(arr2.ndim)\n",
    "print(arr2.shape)"
   ]
  },
  {
   "cell_type": "code",
   "execution_count": 21,
   "metadata": {},
   "outputs": [
    {
     "data": {
      "text/plain": [
       "array([[0, 1],\n",
       "       [2, 3],\n",
       "       [4, 5],\n",
       "       [6, 7]])"
      ]
     },
     "execution_count": 21,
     "metadata": {},
     "output_type": "execute_result"
    }
   ],
   "source": [
    "arr3 = np.array([0, 1, 2, 3, 4, 5, 6, 7])\n",
    "arr3.reshape((4, 2))"
   ]
  },
  {
   "cell_type": "code",
   "execution_count": 22,
   "metadata": {},
   "outputs": [
    {
     "data": {
      "text/plain": [
       "array([[0, 1, 2],\n",
       "       [3, 4, 5]])"
      ]
     },
     "execution_count": 22,
     "metadata": {},
     "output_type": "execute_result"
    }
   ],
   "source": [
    "arr4 = np.array([0, 1, 2, 3, 4, 5]).reshape((2, 3))\n",
    "arr4"
   ]
  },
  {
   "cell_type": "markdown",
   "metadata": {},
   "source": [
    "## Special Arrays"
   ]
  },
  {
   "cell_type": "code",
   "execution_count": 20,
   "metadata": {},
   "outputs": [
    {
     "data": {
      "text/plain": [
       "array([0., 0., 0., 0., 0., 0., 0., 0., 0., 0.])"
      ]
     },
     "execution_count": 20,
     "metadata": {},
     "output_type": "execute_result"
    }
   ],
   "source": [
    "np.zeros(10)"
   ]
  },
  {
   "cell_type": "code",
   "execution_count": 21,
   "metadata": {},
   "outputs": [
    {
     "data": {
      "text/plain": [
       "array([[0., 0., 0., 0., 0., 0.],\n",
       "       [0., 0., 0., 0., 0., 0.],\n",
       "       [0., 0., 0., 0., 0., 0.]])"
      ]
     },
     "execution_count": 21,
     "metadata": {},
     "output_type": "execute_result"
    }
   ],
   "source": [
    "np.zeros((3,6))"
   ]
  },
  {
   "cell_type": "code",
   "execution_count": 22,
   "metadata": {},
   "outputs": [
    {
     "data": {
      "text/plain": [
       "array([[[1.14963019e-311, 3.16202013e-322],\n",
       "        [0.00000000e+000, 0.00000000e+000],\n",
       "        [0.00000000e+000, 1.38073109e-071]],\n",
       "\n",
       "       [[3.60436775e+175, 6.94087641e+169],\n",
       "        [8.76175557e+169, 5.15361695e-062],\n",
       "        [1.82794975e+184, 2.00467035e-076]]])"
      ]
     },
     "execution_count": 22,
     "metadata": {},
     "output_type": "execute_result"
    }
   ],
   "source": [
    "np.empty((2,3,2))"
   ]
  },
  {
   "cell_type": "markdown",
   "metadata": {},
   "source": [
    "## Arrays of Fixed Intervals"
   ]
  },
  {
   "cell_type": "code",
   "execution_count": 23,
   "metadata": {},
   "outputs": [
    {
     "data": {
      "text/plain": [
       "array([0, 1, 2, 3, 4, 5, 6, 7])"
      ]
     },
     "execution_count": 23,
     "metadata": {},
     "output_type": "execute_result"
    }
   ],
   "source": [
    "np.arange(8)"
   ]
  },
  {
   "cell_type": "code",
   "execution_count": 24,
   "metadata": {},
   "outputs": [
    {
     "data": {
      "text/plain": [
       "array([0, 2, 4, 6])"
      ]
     },
     "execution_count": 24,
     "metadata": {},
     "output_type": "execute_result"
    }
   ],
   "source": [
    "np.arange(0, 8, 2)"
   ]
  },
  {
   "cell_type": "code",
   "execution_count": 25,
   "metadata": {},
   "outputs": [
    {
     "data": {
      "text/plain": [
       "array([0, 1, 2, 3, 4, 5, 6, 7])"
      ]
     },
     "execution_count": 25,
     "metadata": {},
     "output_type": "execute_result"
    }
   ],
   "source": [
    "arr = np.arange(8)\n",
    "arr"
   ]
  },
  {
   "cell_type": "code",
   "execution_count": 26,
   "metadata": {},
   "outputs": [
    {
     "data": {
      "text/plain": [
       "array([ 0. ,  2.5,  5. ,  7.5, 10. ])"
      ]
     },
     "execution_count": 26,
     "metadata": {},
     "output_type": "execute_result"
    }
   ],
   "source": [
    "np.linspace(0, 10, num = 5, endpoint = True, dtype = float)"
   ]
  },
  {
   "cell_type": "code",
   "execution_count": 27,
   "metadata": {},
   "outputs": [
    {
     "data": {
      "text/plain": [
       "array([0, 2, 4, 6, 8])"
      ]
     },
     "execution_count": 27,
     "metadata": {},
     "output_type": "execute_result"
    }
   ],
   "source": [
    "np.linspace(0, 10, num = 5, endpoint = False, dtype = int)"
   ]
  },
  {
   "cell_type": "markdown",
   "metadata": {},
   "source": [
    "## Arrays of Random Numbers"
   ]
  },
  {
   "cell_type": "code",
   "execution_count": 28,
   "metadata": {},
   "outputs": [
    {
     "data": {
      "text/plain": [
       "array([0.56765599, 0.05515259, 0.83561558, 0.38032477, 0.1806717 ])"
      ]
     },
     "execution_count": 28,
     "metadata": {},
     "output_type": "execute_result"
    }
   ],
   "source": [
    "np.random.rand(5)"
   ]
  },
  {
   "cell_type": "code",
   "execution_count": 29,
   "metadata": {},
   "outputs": [
    {
     "data": {
      "text/plain": [
       "array([[0.43567847, 0.16690481],\n",
       "       [0.59766532, 0.3384431 ],\n",
       "       [0.80420291, 0.09959448],\n",
       "       [0.8130855 , 0.6401008 ]])"
      ]
     },
     "execution_count": 29,
     "metadata": {},
     "output_type": "execute_result"
    }
   ],
   "source": [
    "np.random.rand(4, 2)"
   ]
  },
  {
   "cell_type": "code",
   "execution_count": 30,
   "metadata": {},
   "outputs": [
    {
     "data": {
      "text/plain": [
       "array([0.40768703, 0.05536604, 0.78853488])"
      ]
     },
     "execution_count": 30,
     "metadata": {},
     "output_type": "execute_result"
    }
   ],
   "source": [
    "np.random.seed(40)\n",
    "np.random.rand(3)"
   ]
  },
  {
   "cell_type": "code",
   "execution_count": 31,
   "metadata": {},
   "outputs": [
    {
     "data": {
      "text/plain": [
       "array([0.28730518, 0.45035059, 0.30391231])"
      ]
     },
     "execution_count": 31,
     "metadata": {},
     "output_type": "execute_result"
    }
   ],
   "source": [
    "np.random.rand(3)"
   ]
  },
  {
   "cell_type": "code",
   "execution_count": 32,
   "metadata": {},
   "outputs": [
    {
     "data": {
      "text/plain": [
       "array([0.40768703, 0.05536604, 0.78853488, 0.28730518])"
      ]
     },
     "execution_count": 32,
     "metadata": {},
     "output_type": "execute_result"
    }
   ],
   "source": [
    "np.random.seed(40)\n",
    "np.random.rand(4)"
   ]
  },
  {
   "cell_type": "code",
   "execution_count": 33,
   "metadata": {
    "collapsed": true
   },
   "outputs": [
    {
     "name": "stdout",
     "output_type": "stream",
     "text": [
      "[0.54340494]\n",
      "[0.54340494]\n",
      "[0.54340494]\n",
      "[0.54340494]\n",
      "[0.54340494]\n"
     ]
    }
   ],
   "source": [
    "for _ in range(5):\n",
    "    np.random.seed(100)\n",
    "    print(np.random.rand(1))"
   ]
  },
  {
   "cell_type": "code",
   "execution_count": 34,
   "metadata": {
    "collapsed": true
   },
   "outputs": [
    {
     "name": "stdout",
     "output_type": "stream",
     "text": [
      "[0.54340494]\n",
      "[0.27836939]\n",
      "[0.42451759]\n",
      "[0.84477613]\n",
      "[0.00471886]\n"
     ]
    }
   ],
   "source": [
    "np.random.seed(100)\n",
    "for _ in range(5):\n",
    "    print(np.random.rand(1))"
   ]
  },
  {
   "cell_type": "code",
   "execution_count": 35,
   "metadata": {
    "collapsed": true
   },
   "outputs": [
    {
     "data": {
      "text/plain": [
       "array([[ 0.35467445, -0.78606433, -0.2318722 ],\n",
       "       [ 0.20797568,  0.93580797,  0.17957831],\n",
       "       [-0.5771615 , -0.53337271, -0.22540212],\n",
       "       [-0.31491934,  0.42299678, -0.43882681],\n",
       "       [-0.50141346, -1.65870284, -1.0075773 ]])"
      ]
     },
     "execution_count": 35,
     "metadata": {},
     "output_type": "execute_result"
    }
   ],
   "source": [
    "data = np.random.randn(5, 3)\n",
    "data"
   ]
  },
  {
   "cell_type": "code",
   "execution_count": 36,
   "metadata": {
    "collapsed": true
   },
   "outputs": [
    {
     "data": {
      "text/plain": [
       "array([80.93208012, 80.01422127, 80.63106588, 81.98915627, 80.03813743,\n",
       "       81.49710844, 81.50951135, 80.26286921, 80.95485861, 80.09119014])"
      ]
     },
     "execution_count": 36,
     "metadata": {},
     "output_type": "execute_result"
    }
   ],
   "source": [
    "# to generate a random sample with mean of 80 and std of 2.5\n",
    "mu = 80\n",
    "sigma = 2.5\n",
    "sample = mu + sigma * np.random.rand(10)\n",
    "sample"
   ]
  },
  {
   "cell_type": "code",
   "execution_count": 37,
   "metadata": {
    "collapsed": true
   },
   "outputs": [
    {
     "data": {
      "text/plain": [
       "array([78.72816392, 83.91794696, 81.24256179, 82.88968084, 84.59652919,\n",
       "       83.83931654, 80.63749432, 77.88960687, 77.54264136, 79.23475542])"
      ]
     },
     "execution_count": 37,
     "metadata": {},
     "output_type": "execute_result"
    }
   ],
   "source": [
    "# alternatively, call normal method\n",
    "np.random.normal(mu, sigma, 10)   # three arguments are: mean, standard deviation, and size"
   ]
  },
  {
   "cell_type": "code",
   "execution_count": 105,
   "metadata": {},
   "outputs": [
    {
     "data": {
      "text/plain": [
       "array([[3, 1, 0, 4],\n",
       "       [0, 4, 4, 0]])"
      ]
     },
     "execution_count": 105,
     "metadata": {},
     "output_type": "execute_result"
    }
   ],
   "source": [
    "np.random.randint(0, 5, (2, 4))"
   ]
  },
  {
   "cell_type": "code",
   "execution_count": 28,
   "metadata": {},
   "outputs": [
    {
     "data": {
      "text/plain": [
       "array([79, 24, 78, 35, 25])"
      ]
     },
     "execution_count": 28,
     "metadata": {},
     "output_type": "execute_result"
    }
   ],
   "source": [
    "np.random.choice(range(10, 100), size = 5, replace=True)"
   ]
  },
  {
   "cell_type": "code",
   "execution_count": 276,
   "metadata": {
    "collapsed": true
   },
   "outputs": [
    {
     "data": {
      "text/plain": [
       "array([5, 5, 5, 5, 3, 6, 4, 4, 2, 5, 4, 5, 4, 6, 3, 4, 5, 5, 4, 2, 4, 5,\n",
       "       3, 3, 6, 4, 7, 5, 3, 5, 6, 7, 5, 2, 5, 4, 5, 5, 4, 6, 5, 5, 5, 4,\n",
       "       5, 5, 6, 4, 4, 5, 5, 6, 3, 4, 4, 5, 4, 3, 9, 5, 7, 4, 6, 5, 6, 3,\n",
       "       6, 9, 4, 3, 6, 3, 5, 4, 6, 6, 3, 6, 4, 5, 4, 4, 3, 6, 6, 5, 5, 4,\n",
       "       8, 5, 8, 6, 7, 5, 5, 5, 5, 6, 3, 6, 3, 5, 4, 7, 3, 7, 4, 3, 6, 7,\n",
       "       7, 6, 6, 7, 5, 6, 7, 7, 4, 6, 5, 4, 5, 2, 3, 4, 4, 4, 5, 3, 6, 4,\n",
       "       3, 4, 7, 3, 7, 5, 3, 3, 6, 7, 3, 4, 6, 6, 6, 9, 5, 4, 6, 2, 6, 2,\n",
       "       6, 6, 5, 8, 4, 6, 4, 5, 5, 5, 5, 5, 6, 3, 6, 4, 4, 5, 5, 4, 5, 5,\n",
       "       4, 6, 6, 7, 6, 4, 7, 7, 5, 4, 7, 4, 9, 6, 4, 4, 7, 4, 3, 4, 5, 3,\n",
       "       5, 2, 6, 6, 3, 6, 4, 3, 4, 5, 5, 6, 3, 3, 3, 8, 6, 5, 6, 5, 3, 6,\n",
       "       5, 5, 5, 7, 6, 6, 2, 3, 5, 8, 6, 4, 7, 8, 3, 7, 3, 3, 4, 7, 3, 6,\n",
       "       5, 6, 4, 7, 6, 7, 7, 6, 6, 5, 3, 4, 8, 5, 2, 4, 3, 6, 4, 7, 4, 3,\n",
       "       7, 5, 5, 3, 3, 5, 6, 6, 4, 4, 7, 5, 4, 6, 3, 5, 4, 2, 5, 3, 6, 5,\n",
       "       6, 4, 5, 5, 6, 3, 5, 3, 6, 4, 5, 4, 4, 2, 4, 6, 3, 6, 3, 6, 2, 2,\n",
       "       7, 5, 4, 5, 5, 5, 4, 2, 5, 4, 4, 6, 6, 4, 7, 2, 7, 6, 6, 7, 5, 5,\n",
       "       3, 4, 5, 5, 3, 4, 5, 7, 5, 5, 4, 2, 5, 6, 6, 6, 4, 5, 6, 8, 8, 5,\n",
       "       3, 5, 5, 4, 7, 4, 2, 5, 6, 3, 6, 8, 7, 7, 6, 5, 5, 5, 7, 5, 6, 8,\n",
       "       6, 8, 5, 3, 5, 5, 5, 6, 5, 4, 4, 6, 5, 5, 4, 7, 4, 7, 6, 6, 5, 4,\n",
       "       5, 6, 5, 3, 5, 7, 6, 2, 5, 7, 6, 6, 5, 4, 7, 5, 5, 5, 7, 5, 6, 5,\n",
       "       5, 5, 6, 4, 4, 6, 4, 6, 2, 4, 1, 6, 7, 7, 6, 7, 7, 6, 7, 6, 6, 5,\n",
       "       7, 7, 5, 6, 4, 6, 5, 7, 4, 2, 8, 4, 4, 4, 5, 2, 6, 3, 3, 6, 3, 6,\n",
       "       6, 6, 7, 2, 6, 5, 3, 3, 6, 5, 4, 7, 7, 5, 8, 7, 7, 4, 3, 7, 6, 7,\n",
       "       4, 5, 4, 5, 3, 4, 5, 6, 7, 6, 6, 4, 2, 7, 4, 6, 6, 7, 4, 3, 4, 6,\n",
       "       5, 6, 4, 4, 5, 7, 5, 6, 4, 7, 3, 3, 4, 5, 3, 4, 5, 5, 4, 9, 3, 3,\n",
       "       6, 2, 5, 6, 5, 4, 4, 2, 6, 5, 5, 5, 6, 4, 4, 5, 5, 3, 4, 5, 6, 4,\n",
       "       6, 6, 6, 5, 6, 8, 3, 8, 6, 8, 4, 4, 6, 6, 5, 5, 4, 5, 2, 3, 5, 4,\n",
       "       4, 5, 5, 7, 6, 6, 7, 3, 7, 7, 5, 4, 7, 6, 6, 4, 5, 4, 7, 6, 4, 4,\n",
       "       4, 2, 7, 6, 5, 6, 6, 6, 4, 2, 4, 5, 6, 9, 6, 5, 7, 6, 5, 8, 8, 3,\n",
       "       3, 5, 5, 5, 3, 5, 5, 7, 3, 4, 3, 1, 6, 4, 5, 4, 1, 5, 5, 5, 7, 7,\n",
       "       4, 4, 5, 6, 8, 4, 4, 6, 6, 3, 5, 4, 6, 5, 7, 6, 3, 9, 3, 6, 3, 4,\n",
       "       8, 7, 7, 4, 4, 8, 7, 5, 5, 5, 5, 7, 5, 6, 4, 4, 4, 7, 7, 4, 4, 6,\n",
       "       6, 4, 7, 4, 5, 3, 4, 7, 4, 5, 7, 2, 3, 3, 9, 4, 5, 4, 4, 7, 5, 5,\n",
       "       6, 4, 4, 6, 5, 3, 6, 6, 3, 5, 3, 5, 6, 8, 3, 4, 4, 4, 6, 5, 6, 7,\n",
       "       7, 5, 6, 5, 5, 4, 4, 8, 4, 5, 1, 5, 2, 2, 6, 6, 5, 8, 7, 7, 6, 7,\n",
       "       5, 6, 4, 4, 2, 3, 4, 5, 4, 5, 4, 9, 4, 6, 8, 5, 3, 6, 5, 5, 6, 7,\n",
       "       7, 7, 5, 4, 6, 6, 6, 7, 4, 5, 4, 4, 6, 5, 7, 3, 7, 8, 5, 8, 8, 2,\n",
       "       6, 4, 5, 4, 4, 4, 6, 5, 6, 5, 5, 3, 7, 6, 6, 6, 6, 6, 3, 3, 5, 7,\n",
       "       4, 4, 4, 7, 2, 5, 6, 4, 7, 6, 6, 8, 4, 8, 5, 6, 5, 5, 6, 4, 5, 6,\n",
       "       6, 4, 4, 9, 5, 6, 6, 3, 6, 7, 7, 4, 8, 9, 5, 3, 4, 7, 4, 4, 4, 7,\n",
       "       4, 7, 3, 5, 2, 5, 4, 5, 3, 6, 3, 7, 5, 5, 6, 5, 6, 5, 6, 4, 5, 4,\n",
       "       8, 5, 9, 4, 8, 5, 5, 5, 3, 6, 8, 5, 5, 4, 4, 5, 3, 5, 4, 5, 3, 6,\n",
       "       4, 4, 4, 6, 4, 5, 4, 7, 6, 4, 5, 4, 6, 2, 5, 4, 8, 5, 2, 3, 4, 8,\n",
       "       5, 4, 7, 9, 4, 5, 5, 7, 5, 5, 4, 6, 6, 6, 2, 5, 6, 3, 4, 3, 3, 5,\n",
       "       7, 5, 4, 5, 5, 4, 5, 4, 3, 6, 5, 3, 5, 6, 6, 5, 5, 5, 5, 2, 6, 8,\n",
       "       4, 5, 8, 5, 7, 7, 5, 5, 7, 3, 5, 5, 3, 4, 4, 6, 6, 6, 6, 3, 6, 6,\n",
       "       5, 2, 6, 2, 7, 4, 4, 6, 7, 9])"
      ]
     },
     "execution_count": 276,
     "metadata": {},
     "output_type": "execute_result"
    }
   ],
   "source": [
    "# # simulate flipping a coin 10 times, tested 1000 times.\n",
    "np.random.binomial(10, 0.5, 1000)"
   ]
  },
  {
   "cell_type": "markdown",
   "metadata": {},
   "source": [
    "## `NaN`"
   ]
  },
  {
   "cell_type": "code",
   "execution_count": 3,
   "metadata": {},
   "outputs": [
    {
     "name": "stdout",
     "output_type": "stream",
     "text": [
      "nan\n",
      "<class 'float'>\n"
     ]
    }
   ],
   "source": [
    "# NaN: means not a number\n",
    "# it indicates missing value\n",
    "\n",
    "print(np.nan)\n",
    "print(type(np.nan))\n",
    "# note the type of NaN is float."
   ]
  },
  {
   "cell_type": "code",
   "execution_count": 5,
   "metadata": {},
   "outputs": [
    {
     "data": {
      "text/plain": [
       "nan"
      ]
     },
     "execution_count": 5,
     "metadata": {},
     "output_type": "execute_result"
    }
   ],
   "source": [
    "# NaN is a trouble maker\n",
    "np.nan + 12"
   ]
  },
  {
   "cell_type": "code",
   "execution_count": 6,
   "metadata": {},
   "outputs": [
    {
     "data": {
      "text/plain": [
       "array([False, False, False,  True])"
      ]
     },
     "execution_count": 6,
     "metadata": {},
     "output_type": "execute_result"
    }
   ],
   "source": [
    "# np.isnan: to find whether there is NaN\n",
    "np.isnan([12, 0.9, 5, np.nan])"
   ]
  },
  {
   "cell_type": "code",
   "execution_count": 7,
   "metadata": {},
   "outputs": [
    {
     "data": {
      "text/plain": [
       "1"
      ]
     },
     "execution_count": 7,
     "metadata": {},
     "output_type": "execute_result"
    }
   ],
   "source": [
    "# np.sum: to find out how many NaNs\n",
    "\n",
    "np.isnan([12, 0.9, 5, np.nan]).sum()\n",
    "\n",
    "# True value is equivalent to 1\n",
    "# False value is equivalent to 0"
   ]
  },
  {
   "cell_type": "code",
   "execution_count": 43,
   "metadata": {},
   "outputs": [
    {
     "data": {
      "text/plain": [
       "array([[0, 1],\n",
       "       [1, 0],\n",
       "       [1, 1]], dtype=int64)"
      ]
     },
     "execution_count": 43,
     "metadata": {},
     "output_type": "execute_result"
    }
   ],
   "source": [
    "# np.argwhere: to find out the indices of non-zero elements\n",
    "\n",
    "np.argwhere(np.arange(4).reshape((2,2)))"
   ]
  },
  {
   "cell_type": "code",
   "execution_count": 44,
   "metadata": {},
   "outputs": [
    {
     "data": {
      "text/plain": [
       "array([[3]], dtype=int64)"
      ]
     },
     "execution_count": 44,
     "metadata": {},
     "output_type": "execute_result"
    }
   ],
   "source": [
    "np.argwhere(np.isnan([12, 0.9, 5, np.nan]))"
   ]
  },
  {
   "cell_type": "code",
   "execution_count": 21,
   "metadata": {},
   "outputs": [
    {
     "data": {
      "text/plain": [
       "True"
      ]
     },
     "execution_count": 21,
     "metadata": {},
     "output_type": "execute_result"
    }
   ],
   "source": [
    "# np.any: returns True if there is any True value in the array\n",
    "\n",
    "np.any([1, 0, 0, 0])\n",
    "\n",
    "# this is equivalent to testing\n",
    "# np.any([True, False, False, False])"
   ]
  },
  {
   "cell_type": "code",
   "execution_count": 20,
   "metadata": {},
   "outputs": [
    {
     "data": {
      "text/plain": [
       "True"
      ]
     },
     "execution_count": 20,
     "metadata": {},
     "output_type": "execute_result"
    }
   ],
   "source": [
    "# we use np.any to determine whether there is any NaN value in the row/column\n",
    "np.isnan([12, 0.9, 5, np.nan]).any()"
   ]
  },
  {
   "cell_type": "code",
   "execution_count": 16,
   "metadata": {},
   "outputs": [
    {
     "data": {
      "text/plain": [
       "True"
      ]
     },
     "execution_count": 16,
     "metadata": {},
     "output_type": "execute_result"
    }
   ],
   "source": [
    "# np.all: returns True if all the array elements are True\n",
    "np.all([1, 1, 1])\n",
    "\n",
    "# this is equivalent to testing\n",
    "# np.all([True, True, True])"
   ]
  },
  {
   "cell_type": "code",
   "execution_count": 17,
   "metadata": {},
   "outputs": [
    {
     "data": {
      "text/plain": [
       "False"
      ]
     },
     "execution_count": 17,
     "metadata": {},
     "output_type": "execute_result"
    }
   ],
   "source": [
    "np.all([1, 1, 0])"
   ]
  },
  {
   "cell_type": "code",
   "execution_count": 19,
   "metadata": {},
   "outputs": [
    {
     "data": {
      "text/plain": [
       "True"
      ]
     },
     "execution_count": 19,
     "metadata": {},
     "output_type": "execute_result"
    }
   ],
   "source": [
    "# we use np.all to determine whether the entire row/column is empty\n",
    "np.isnan([np.nan, np.nan, np.nan]).all()"
   ]
  },
  {
   "cell_type": "markdown",
   "metadata": {},
   "source": [
    "# Array indexing & slicing"
   ]
  },
  {
   "cell_type": "code",
   "execution_count": 30,
   "metadata": {},
   "outputs": [
    {
     "data": {
      "text/plain": [
       "array([[ 0,  1,  2,  3,  4,  5],\n",
       "       [ 6,  7,  8,  9, 10, 11],\n",
       "       [12, 13, 14, 15, 16, 17],\n",
       "       [18, 19, 20, 21, 22, 23],\n",
       "       [24, 25, 26, 27, 28, 29]])"
      ]
     },
     "execution_count": 30,
     "metadata": {},
     "output_type": "execute_result"
    }
   ],
   "source": [
    "arr5 = np.arange(30).reshape(5,6)\n",
    "arr5"
   ]
  },
  {
   "cell_type": "code",
   "execution_count": 31,
   "metadata": {},
   "outputs": [
    {
     "data": {
      "text/plain": [
       "array([0, 1, 2, 3, 4, 5])"
      ]
     },
     "execution_count": 31,
     "metadata": {},
     "output_type": "execute_result"
    }
   ],
   "source": [
    "arr5[0]\n",
    "# retrieves the first row, result is still an array, one dimensional."
   ]
  },
  {
   "cell_type": "code",
   "execution_count": 32,
   "metadata": {},
   "outputs": [
    {
     "data": {
      "text/plain": [
       "array([[0, 1, 2, 3, 4, 5]])"
      ]
     },
     "execution_count": 32,
     "metadata": {},
     "output_type": "execute_result"
    }
   ],
   "source": [
    "arr5[0:1]\n",
    "# also retrieves the first row, but result is two dimensional"
   ]
  },
  {
   "cell_type": "code",
   "execution_count": 34,
   "metadata": {},
   "outputs": [
    {
     "data": {
      "text/plain": [
       "7"
      ]
     },
     "execution_count": 34,
     "metadata": {},
     "output_type": "execute_result"
    }
   ],
   "source": [
    "arr5[1, 1]\n",
    "# retrieves the value from second row and second column\n",
    "# the index should follow the axes 0, 1"
   ]
  },
  {
   "cell_type": "code",
   "execution_count": 35,
   "metadata": {},
   "outputs": [
    {
     "data": {
      "text/plain": [
       "array([[7]])"
      ]
     },
     "execution_count": 35,
     "metadata": {},
     "output_type": "execute_result"
    }
   ],
   "source": [
    "arr5[1:2, 1:2]\n",
    "# also retrieves value from the first row, second column, but result is a matrix."
   ]
  },
  {
   "cell_type": "code",
   "execution_count": 36,
   "metadata": {},
   "outputs": [
    {
     "data": {
      "text/plain": [
       "array([[ 1],\n",
       "       [ 7],\n",
       "       [13],\n",
       "       [19],\n",
       "       [25]])"
      ]
     },
     "execution_count": 36,
     "metadata": {},
     "output_type": "execute_result"
    }
   ],
   "source": [
    "arr5[:, 1:2]\n",
    "# retrieves all row values v\n",
    "# in the second column"
   ]
  },
  {
   "cell_type": "code",
   "execution_count": 45,
   "metadata": {},
   "outputs": [
    {
     "data": {
      "text/plain": [
       "array([[ 6,  7,  8,  9, 10, 11],\n",
       "       [18, 19, 20, 21, 22, 23]])"
      ]
     },
     "execution_count": 45,
     "metadata": {},
     "output_type": "execute_result"
    }
   ],
   "source": [
    "arr5[[1, 3]]"
   ]
  },
  {
   "cell_type": "code",
   "execution_count": 55,
   "metadata": {},
   "outputs": [
    {
     "data": {
      "text/plain": [
       "array([ 1, 14, 27])"
      ]
     },
     "execution_count": 55,
     "metadata": {},
     "output_type": "execute_result"
    }
   ],
   "source": [
    "arr5[(0, 2, 4),(1, 2, 3)]\n",
    "# if two sequences are given, the length must match."
   ]
  },
  {
   "cell_type": "code",
   "execution_count": 58,
   "metadata": {},
   "outputs": [
    {
     "data": {
      "text/plain": [
       "array([False, False, False, False,  True,  True])"
      ]
     },
     "execution_count": 58,
     "metadata": {},
     "output_type": "execute_result"
    }
   ],
   "source": [
    "arr5[2] > 15"
   ]
  },
  {
   "cell_type": "code",
   "execution_count": 59,
   "metadata": {},
   "outputs": [
    {
     "data": {
      "text/plain": [
       "array([22, 23])"
      ]
     },
     "execution_count": 59,
     "metadata": {},
     "output_type": "execute_result"
    }
   ],
   "source": [
    "arr5[3, arr5[2] > 15]"
   ]
  },
  {
   "cell_type": "code",
   "execution_count": 66,
   "metadata": {},
   "outputs": [
    {
     "data": {
      "text/plain": [
       "array([ True,  True, False, False,  True])"
      ]
     },
     "execution_count": 66,
     "metadata": {},
     "output_type": "execute_result"
    }
   ],
   "source": [
    "mask = np.array([1, 1, 0, 0, 1], dtype=np.bool)\n",
    "mask"
   ]
  },
  {
   "cell_type": "code",
   "execution_count": 67,
   "metadata": {},
   "outputs": [
    {
     "data": {
      "text/plain": [
       "array([ 5, 11, 29])"
      ]
     },
     "execution_count": 67,
     "metadata": {},
     "output_type": "execute_result"
    }
   ],
   "source": [
    "arr5[mask, 5]"
   ]
  },
  {
   "cell_type": "markdown",
   "metadata": {},
   "source": [
    "# Array operations"
   ]
  },
  {
   "cell_type": "markdown",
   "metadata": {},
   "source": [
    "## Basic Operations"
   ]
  },
  {
   "cell_type": "code",
   "execution_count": 68,
   "metadata": {},
   "outputs": [
    {
     "data": {
      "text/plain": [
       "array([[1, 2, 3],\n",
       "       [4, 5, 6]])"
      ]
     },
     "execution_count": 68,
     "metadata": {},
     "output_type": "execute_result"
    }
   ],
   "source": [
    "arr6 = np.array([[1, 2, 3],[4, 5, 6]])\n",
    "arr6"
   ]
  },
  {
   "cell_type": "code",
   "execution_count": 69,
   "metadata": {},
   "outputs": [
    {
     "data": {
      "text/plain": [
       "array([[ 1,  4,  9],\n",
       "       [16, 25, 36]])"
      ]
     },
     "execution_count": 69,
     "metadata": {},
     "output_type": "execute_result"
    }
   ],
   "source": [
    "arr6 * arr6"
   ]
  },
  {
   "cell_type": "code",
   "execution_count": 70,
   "metadata": {},
   "outputs": [
    {
     "data": {
      "text/plain": [
       "array([[0, 0, 0],\n",
       "       [0, 0, 0]])"
      ]
     },
     "execution_count": 70,
     "metadata": {},
     "output_type": "execute_result"
    }
   ],
   "source": [
    "arr6 - arr6"
   ]
  },
  {
   "cell_type": "code",
   "execution_count": 71,
   "metadata": {},
   "outputs": [
    {
     "data": {
      "text/plain": [
       "array([[1.        , 0.5       , 0.33333333],\n",
       "       [0.25      , 0.2       , 0.16666667]])"
      ]
     },
     "execution_count": 71,
     "metadata": {},
     "output_type": "execute_result"
    }
   ],
   "source": [
    "1 / arr6"
   ]
  },
  {
   "cell_type": "code",
   "execution_count": 72,
   "metadata": {},
   "outputs": [
    {
     "data": {
      "text/plain": [
       "array([[0.5, 1. , 1.5],\n",
       "       [2. , 2.5, 3. ]])"
      ]
     },
     "execution_count": 72,
     "metadata": {},
     "output_type": "execute_result"
    }
   ],
   "source": [
    "arr6 * 0.5"
   ]
  },
  {
   "cell_type": "code",
   "execution_count": 114,
   "metadata": {},
   "outputs": [
    {
     "data": {
      "text/plain": [
       "array([[   1,    2,    3],\n",
       "       [   4,    5,    6],\n",
       "       [-100, -999,    0]])"
      ]
     },
     "execution_count": 114,
     "metadata": {},
     "output_type": "execute_result"
    }
   ],
   "source": [
    "np.append(arr6, [[-100, -999, 0]], axis=0)\n",
    "# the value to add must have the same shape if axis is specified.\n",
    "# otherwise, the array is flattened before use."
   ]
  },
  {
   "cell_type": "code",
   "execution_count": 91,
   "metadata": {},
   "outputs": [
    {
     "data": {
      "text/plain": [
       "[[1, 2, 3], [4, 5, 6]]"
      ]
     },
     "execution_count": 91,
     "metadata": {},
     "output_type": "execute_result"
    }
   ],
   "source": [
    "arr6.tolist()"
   ]
  },
  {
   "cell_type": "code",
   "execution_count": 99,
   "metadata": {},
   "outputs": [
    {
     "data": {
      "text/plain": [
       "array([[b'1', b'2', b'3'],\n",
       "       [b'4', b'5', b'6']], dtype='|S11')"
      ]
     },
     "execution_count": 99,
     "metadata": {},
     "output_type": "execute_result"
    }
   ],
   "source": [
    "arr6.astype(np.string_)"
   ]
  },
  {
   "cell_type": "code",
   "execution_count": 73,
   "metadata": {},
   "outputs": [
    {
     "data": {
      "text/plain": [
       "array([0, 0, 0, 0, 0])"
      ]
     },
     "execution_count": 73,
     "metadata": {},
     "output_type": "execute_result"
    }
   ],
   "source": [
    "zero_arr = np.zeros(5, int)\n",
    "zero_arr"
   ]
  },
  {
   "cell_type": "code",
   "execution_count": 101,
   "metadata": {},
   "outputs": [
    {
     "data": {
      "text/plain": [
       "array([4, 4, 4, 4, 4])"
      ]
     },
     "execution_count": 101,
     "metadata": {},
     "output_type": "execute_result"
    }
   ],
   "source": [
    "zero_arr.fill(4)\n",
    "zero_arr"
   ]
  },
  {
   "cell_type": "code",
   "execution_count": 75,
   "metadata": {},
   "outputs": [
    {
     "data": {
      "text/plain": [
       "array([5, 4, 4, 4, 4])"
      ]
     },
     "execution_count": 75,
     "metadata": {},
     "output_type": "execute_result"
    }
   ],
   "source": [
    "zero_arr[0] = 5.8\n",
    "zero_arr   # since the datatype is int, 5.8 will be truncated"
   ]
  },
  {
   "cell_type": "markdown",
   "metadata": {},
   "source": [
    "## Transposing Arrays"
   ]
  },
  {
   "cell_type": "code",
   "execution_count": 76,
   "metadata": {},
   "outputs": [
    {
     "data": {
      "text/plain": [
       "array([[ 0,  1,  2,  3,  4],\n",
       "       [ 5,  6,  7,  8,  9],\n",
       "       [10, 11, 12, 13, 14]])"
      ]
     },
     "execution_count": 76,
     "metadata": {},
     "output_type": "execute_result"
    }
   ],
   "source": [
    "arr7 = np.arange(15).reshape((3, 5))\n",
    "arr7"
   ]
  },
  {
   "cell_type": "code",
   "execution_count": 77,
   "metadata": {},
   "outputs": [
    {
     "data": {
      "text/plain": [
       "array([[ 0,  5, 10],\n",
       "       [ 1,  6, 11],\n",
       "       [ 2,  7, 12],\n",
       "       [ 3,  8, 13],\n",
       "       [ 4,  9, 14]])"
      ]
     },
     "execution_count": 77,
     "metadata": {},
     "output_type": "execute_result"
    }
   ],
   "source": [
    "arr7.T   \n",
    "# transpose returns a view without copying\n",
    "# note that transpose does not work on a one-dimensional array"
   ]
  },
  {
   "cell_type": "code",
   "execution_count": 78,
   "metadata": {},
   "outputs": [
    {
     "data": {
      "text/plain": [
       "array([[ 0,  1,  2,  3,  4],\n",
       "       [ 5,  6,  7,  8,  9],\n",
       "       [10, 11, 12, 13, 14]])"
      ]
     },
     "execution_count": 78,
     "metadata": {},
     "output_type": "execute_result"
    }
   ],
   "source": [
    "arr7  \n",
    "# so the array stays unchanged"
   ]
  },
  {
   "cell_type": "code",
   "execution_count": 79,
   "metadata": {},
   "outputs": [
    {
     "data": {
      "text/plain": [
       "array([[ 4.01031118,  0.55498018, -0.91171373],\n",
       "       [ 0.55498018,  1.56922107,  0.36407164],\n",
       "       [-0.91171373,  0.36407164,  2.86606973]])"
      ]
     },
     "execution_count": 79,
     "metadata": {},
     "output_type": "execute_result"
    }
   ],
   "source": [
    "arr8 = np.random.randn(6, 3)\n",
    "np.dot(arr8.T, arr8)"
   ]
  },
  {
   "cell_type": "markdown",
   "metadata": {},
   "source": [
    "## Mathematical and Statistical Methods"
   ]
  },
  {
   "cell_type": "code",
   "execution_count": 80,
   "metadata": {},
   "outputs": [
    {
     "name": "stdout",
     "output_type": "stream",
     "text": [
      "[0 1 2 3 4 5 6 7 8 9]\n"
     ]
    }
   ],
   "source": [
    "arr9 = np.arange(10)\n",
    "print(arr9)"
   ]
  },
  {
   "cell_type": "code",
   "execution_count": 81,
   "metadata": {},
   "outputs": [
    {
     "data": {
      "text/plain": [
       "array([0.        , 1.        , 1.41421356, 1.73205081, 2.        ,\n",
       "       2.23606798, 2.44948974, 2.64575131, 2.82842712, 3.        ])"
      ]
     },
     "execution_count": 81,
     "metadata": {},
     "output_type": "execute_result"
    }
   ],
   "source": [
    "np.sqrt(arr9)"
   ]
  },
  {
   "cell_type": "code",
   "execution_count": 82,
   "metadata": {},
   "outputs": [
    {
     "data": {
      "text/plain": [
       "array([1.00000000e+00, 2.71828183e+00, 7.38905610e+00, 2.00855369e+01,\n",
       "       5.45981500e+01, 1.48413159e+02, 4.03428793e+02, 1.09663316e+03,\n",
       "       2.98095799e+03, 8.10308393e+03])"
      ]
     },
     "execution_count": 82,
     "metadata": {},
     "output_type": "execute_result"
    }
   ],
   "source": [
    "np.exp(arr9)"
   ]
  },
  {
   "cell_type": "code",
   "execution_count": 106,
   "metadata": {},
   "outputs": [
    {
     "name": "stdout",
     "output_type": "stream",
     "text": [
      "[-0.18161764 -0.23743719 -0.85902543 -1.79471315 -0.79147502 -0.38578128\n",
      "  0.49049107 -0.35733781]\n",
      "[ 0.75863701  0.3422803   0.37755075 -0.13551252 -1.63023107  0.02406023\n",
      "  1.18129151 -2.15994325]\n"
     ]
    }
   ],
   "source": [
    "x, y = np.random.randn(8), np.random.randn(8)\n",
    "print(x)\n",
    "print(y)"
   ]
  },
  {
   "cell_type": "code",
   "execution_count": 108,
   "metadata": {},
   "outputs": [
    {
     "data": {
      "text/plain": [
       "array([ 0.75863701,  0.3422803 ,  0.37755075, -0.13551252, -0.79147502,\n",
       "        0.02406023,  1.18129151, -0.35733781])"
      ]
     },
     "execution_count": 108,
     "metadata": {},
     "output_type": "execute_result"
    }
   ],
   "source": [
    "np.maximum(x, y)"
   ]
  },
  {
   "cell_type": "code",
   "execution_count": 86,
   "metadata": {
    "scrolled": true
   },
   "outputs": [
    {
     "data": {
      "text/plain": [
       "array([[ 0,  1,  2,  3,  4],\n",
       "       [ 5,  6,  7,  8,  9],\n",
       "       [10, 11, 12, 13, 14]])"
      ]
     },
     "execution_count": 86,
     "metadata": {},
     "output_type": "execute_result"
    }
   ],
   "source": [
    "arr10 = np.arange(15).reshape((3, 5))\n",
    "arr10"
   ]
  },
  {
   "cell_type": "code",
   "execution_count": 90,
   "metadata": {},
   "outputs": [
    {
     "name": "stdout",
     "output_type": "stream",
     "text": [
      "7.0\n",
      "105\n",
      "4.320493798938574\n",
      "[ 2.  7. 12.]\n",
      "[15 18 21 24 27]\n"
     ]
    }
   ],
   "source": [
    "print(arr10.mean())\n",
    "print(arr10.sum())\n",
    "print(arr10.std())\n",
    "\n",
    "print(arr10.mean(axis=1))\n",
    "# taking the average along axis 1\n",
    "print(arr10.sum(axis=0))\n",
    "# taking the sum along axis 0"
   ]
  },
  {
   "cell_type": "markdown",
   "metadata": {},
   "source": [
    "# File I/O"
   ]
  },
  {
   "cell_type": "code",
   "execution_count": 234,
   "metadata": {},
   "outputs": [],
   "source": [
    "values1 = np.random.random((10, 5))\n",
    "np.savetxt('../data_out/nparray.txt', values1)"
   ]
  },
  {
   "cell_type": "code",
   "execution_count": 235,
   "metadata": {},
   "outputs": [
    {
     "name": "stdout",
     "output_type": "stream",
     "text": [
      "[['8.596048874892303626e-01' '4.397795212767580120e-01'\n",
      "  '5.604446606574813305e-01' '8.174052622969787407e-01'\n",
      "  '8.900629672033200102e-02']\n",
      " ['7.014877271171647832e-01' '3.855721221192063286e-01'\n",
      "  '1.742254466209747221e-02' '5.096687040757574838e-02'\n",
      "  '4.350717385994705699e-01']\n",
      " ['9.768438671574116716e-01' '9.378330928207601058e-02'\n",
      "  '5.515195019569686385e-01' '6.431031429474873828e-01'\n",
      "  '4.402546325769717273e-01']\n",
      " ['7.888738215073869409e-01' '7.044575392805060288e-01'\n",
      "  '7.204583621931595072e-01' '4.967767328238511526e-01'\n",
      "  '7.335955750517419993e-01']\n",
      " ['8.745325095997327214e-01' '5.598994154123709821e-01'\n",
      "  '6.804146773400364667e-01' '3.684308474776365472e-01'\n",
      "  '5.911287959179065687e-01']\n",
      " ['4.790627436827468166e-01' '4.504165801405808356e-01'\n",
      "  '2.465452945466365398e-01' '7.866969077463757953e-01'\n",
      "  '4.405400007284641095e-01']\n",
      " ['7.001220508861707437e-01' '8.210630043828290869e-01'\n",
      "  '3.717355661842847159e-01' '9.525241379773723427e-01'\n",
      "  '9.754348212777587124e-01']\n",
      " ['4.269334016229949791e-01' '4.979328061860817112e-01'\n",
      "  '6.668183151026075839e-01' '2.336172610441763497e-01'\n",
      "  '5.500211014054253722e-01']\n",
      " ['9.890713928884192763e-01' '5.474645187590576612e-02'\n",
      "  '6.170072197144741422e-01' '1.123310358134707032e-01'\n",
      "  '4.624880075058345197e-01']\n",
      " ['7.348703720911300419e-01' '3.360822013533970587e-01'\n",
      "  '5.461358227550223710e-01' '9.525811342704397777e-01'\n",
      "  '1.141546103485510111e-01']]\n"
     ]
    }
   ],
   "source": [
    "values2 = np.loadtxt('../data_in/nparray.txt', dtype = str)\n",
    "print(values2)"
   ]
  }
 ],
 "metadata": {
  "kernelspec": {
   "display_name": "Python 3 (ipykernel)",
   "language": "python",
   "name": "python3"
  },
  "language_info": {
   "codemirror_mode": {
    "name": "ipython",
    "version": 3
   },
   "file_extension": ".py",
   "mimetype": "text/x-python",
   "name": "python",
   "nbconvert_exporter": "python",
   "pygments_lexer": "ipython3",
   "version": "3.9.13"
  }
 },
 "nbformat": 4,
 "nbformat_minor": 2
}
