{
 "cells": [
  {
   "cell_type": "code",
   "execution_count": 17,
   "metadata": {},
   "outputs": [],
   "source": [
    "import numpy as np"
   ]
  },
  {
   "cell_type": "code",
   "execution_count": 18,
   "metadata": {},
   "outputs": [],
   "source": [
    "np.nan = 'nan'"
   ]
  },
  {
   "cell_type": "code",
   "execution_count": 19,
   "metadata": {},
   "outputs": [
    {
     "name": "stdout",
     "output_type": "stream",
     "text": [
      "nan\n"
     ]
    }
   ],
   "source": [
    "print(np.nan)"
   ]
  },
  {
   "cell_type": "code",
   "execution_count": 20,
   "metadata": {},
   "outputs": [
    {
     "data": {
      "text/plain": [
       "str"
      ]
     },
     "execution_count": 20,
     "metadata": {},
     "output_type": "execute_result"
    }
   ],
   "source": [
    "type(np.nan)"
   ]
  },
  {
   "cell_type": "code",
   "execution_count": 25,
   "metadata": {},
   "outputs": [
    {
     "ename": "ValueError",
     "evalue": "invalid literal for int() with base 10: 'nan'",
     "output_type": "error",
     "traceback": [
      "\u001b[1;31m---------------------------------------------------------------------------\u001b[0m",
      "\u001b[1;31mValueError\u001b[0m                                Traceback (most recent call last)",
      "\u001b[1;32mf:\\HKU\\HKU_Course\\Module_1\\7001\\code\\numpy.ipynb 单元格 5\u001b[0m line \u001b[0;36m1\n\u001b[1;32m----> <a href='vscode-notebook-cell:/f%3A/HKU/HKU_Course/Module_1/7001/code/numpy.ipynb#W4sZmlsZQ%3D%3D?line=0'>1</a>\u001b[0m \u001b[39mint\u001b[39;49m(np\u001b[39m.\u001b[39;49mnan)\n",
      "\u001b[1;31mValueError\u001b[0m: invalid literal for int() with base 10: 'nan'"
     ]
    }
   ],
   "source": [
    "int(np.nan)"
   ]
  },
  {
   "cell_type": "code",
   "execution_count": 26,
   "metadata": {},
   "outputs": [
    {
     "ename": "TypeError",
     "evalue": "can only concatenate str (not \"int\") to str",
     "output_type": "error",
     "traceback": [
      "\u001b[1;31m---------------------------------------------------------------------------\u001b[0m",
      "\u001b[1;31mTypeError\u001b[0m                                 Traceback (most recent call last)",
      "\u001b[1;32mf:\\HKU\\HKU_Course\\Module_1\\7001\\code\\numpy.ipynb 单元格 6\u001b[0m line \u001b[0;36m1\n\u001b[1;32m----> <a href='vscode-notebook-cell:/f%3A/HKU/HKU_Course/Module_1/7001/code/numpy.ipynb#W5sZmlsZQ%3D%3D?line=0'>1</a>\u001b[0m np\u001b[39m.\u001b[39;49mnan \u001b[39m+\u001b[39;49m \u001b[39m9\u001b[39;49m\n",
      "\u001b[1;31mTypeError\u001b[0m: can only concatenate str (not \"int\") to str"
     ]
    }
   ],
   "source": [
    "np.nan + 9"
   ]
  },
  {
   "cell_type": "code",
   "execution_count": 27,
   "metadata": {},
   "outputs": [
    {
     "ename": "TypeError",
     "evalue": "ufunc 'isnan' not supported for the input types, and the inputs could not be safely coerced to any supported types according to the casting rule ''safe''",
     "output_type": "error",
     "traceback": [
      "\u001b[1;31m---------------------------------------------------------------------------\u001b[0m",
      "\u001b[1;31mTypeError\u001b[0m                                 Traceback (most recent call last)",
      "\u001b[1;32mf:\\HKU\\HKU_Course\\Module_1\\7001\\code\\numpy.ipynb 单元格 7\u001b[0m line \u001b[0;36m1\n\u001b[1;32m----> <a href='vscode-notebook-cell:/f%3A/HKU/HKU_Course/Module_1/7001/code/numpy.ipynb#W6sZmlsZQ%3D%3D?line=0'>1</a>\u001b[0m np\u001b[39m.\u001b[39;49misnan([\u001b[39m12\u001b[39;49m, \u001b[39m9\u001b[39;49m, \u001b[39m0.5\u001b[39;49m, np\u001b[39m.\u001b[39;49mnan])\n",
      "\u001b[1;31mTypeError\u001b[0m: ufunc 'isnan' not supported for the input types, and the inputs could not be safely coerced to any supported types according to the casting rule ''safe''"
     ]
    }
   ],
   "source": [
    "np.isnan([12, 9, 0.5, np.nan])"
   ]
  },
  {
   "cell_type": "code",
   "execution_count": 28,
   "metadata": {},
   "outputs": [
    {
     "data": {
      "text/plain": [
       "array([False, False, False, False])"
      ]
     },
     "execution_count": 28,
     "metadata": {},
     "output_type": "execute_result"
    }
   ],
   "source": [
    "np.isnan([12, 9, 0.5, False])"
   ]
  },
  {
   "cell_type": "code",
   "execution_count": null,
   "metadata": {},
   "outputs": [],
   "source": [
    "# 1. whether there is missing\n",
    "# 2. if yes, how many\n",
    "# 3. where are they"
   ]
  },
  {
   "cell_type": "code",
   "execution_count": null,
   "metadata": {},
   "outputs": [
    {
     "data": {
      "text/plain": [
       "True"
      ]
     },
     "execution_count": 10,
     "metadata": {},
     "output_type": "execute_result"
    }
   ],
   "source": [
    "# whether any element is true\n",
    "np.any([1, 0, 0, 0])\n",
    "\n",
    "# 1 = true, 0 = false"
   ]
  },
  {
   "cell_type": "code",
   "execution_count": null,
   "metadata": {},
   "outputs": [
    {
     "ename": "TypeError",
     "evalue": "ufunc 'isnan' not supported for the input types, and the inputs could not be safely coerced to any supported types according to the casting rule ''safe''",
     "output_type": "error",
     "traceback": [
      "\u001b[1;31m---------------------------------------------------------------------------\u001b[0m",
      "\u001b[1;31mTypeError\u001b[0m                                 Traceback (most recent call last)",
      "\u001b[1;32mf:\\HKU\\HKU_Course\\Module_1\\7001\\code\\numpy.ipynb 单元格 11\u001b[0m line \u001b[0;36m1\n\u001b[1;32m----> <a href='vscode-notebook-cell:/f%3A/HKU/HKU_Course/Module_1/7001/code/numpy.ipynb#X45sZmlsZQ%3D%3D?line=0'>1</a>\u001b[0m np\u001b[39m.\u001b[39;49misnan([\u001b[39m12\u001b[39;49m, \u001b[39m9\u001b[39;49m, \u001b[39m0.5\u001b[39;49m, np\u001b[39m.\u001b[39;49mnan])\u001b[39m.\u001b[39many()\n\u001b[0;32m      <a href='vscode-notebook-cell:/f%3A/HKU/HKU_Course/Module_1/7001/code/numpy.ipynb#X45sZmlsZQ%3D%3D?line=1'>2</a>\u001b[0m \u001b[39m# np.any to find out whether there is missing value in a row\u001b[39;00m\n",
      "\u001b[1;31mTypeError\u001b[0m: ufunc 'isnan' not supported for the input types, and the inputs could not be safely coerced to any supported types according to the casting rule ''safe''"
     ]
    }
   ],
   "source": [
    "np.isnan([12, 9, 0.5, np.nan]).any()\n",
    "# np.any to find out whether there is missing value in a row"
   ]
  },
  {
   "cell_type": "code",
   "execution_count": null,
   "metadata": {},
   "outputs": [
    {
     "ename": "TypeError",
     "evalue": "ufunc 'isnan' not supported for the input types, and the inputs could not be safely coerced to any supported types according to the casting rule ''safe''",
     "output_type": "error",
     "traceback": [
      "\u001b[1;31m---------------------------------------------------------------------------\u001b[0m",
      "\u001b[1;31mTypeError\u001b[0m                                 Traceback (most recent call last)",
      "\u001b[1;32mf:\\HKU\\HKU_Course\\Module_1\\7001\\code\\numpy.ipynb 单元格 12\u001b[0m line \u001b[0;36m1\n\u001b[1;32m----> <a href='vscode-notebook-cell:/f%3A/HKU/HKU_Course/Module_1/7001/code/numpy.ipynb#X46sZmlsZQ%3D%3D?line=0'>1</a>\u001b[0m np\u001b[39m.\u001b[39;49misnan([\u001b[39m12\u001b[39;49m, \u001b[39m9\u001b[39;49m, \u001b[39m0.5\u001b[39;49m, np\u001b[39m.\u001b[39;49mnan])\u001b[39m.\u001b[39msum()\n",
      "\u001b[1;31mTypeError\u001b[0m: ufunc 'isnan' not supported for the input types, and the inputs could not be safely coerced to any supported types according to the casting rule ''safe''"
     ]
    }
   ],
   "source": [
    "np.isnan([12, 9, 0.5, np.nan]).sum()"
   ]
  },
  {
   "cell_type": "code",
   "execution_count": null,
   "metadata": {},
   "outputs": [],
   "source": [
    "np.argwhere()"
   ]
  },
  {
   "cell_type": "code",
   "execution_count": 22,
   "metadata": {},
   "outputs": [
    {
     "data": {
      "text/plain": [
       "array([[0, 1],\n",
       "       [2, 3]])"
      ]
     },
     "execution_count": 22,
     "metadata": {},
     "output_type": "execute_result"
    }
   ],
   "source": [
    "np.arange(4).reshape(2,2)"
   ]
  },
  {
   "cell_type": "code",
   "execution_count": 23,
   "metadata": {},
   "outputs": [
    {
     "data": {
      "text/plain": [
       "array([[0, 1],\n",
       "       [1, 0],\n",
       "       [1, 1]], dtype=int64)"
      ]
     },
     "execution_count": 23,
     "metadata": {},
     "output_type": "execute_result"
    }
   ],
   "source": [
    "np.argwhere(np.arange(4).reshape(2,2))"
   ]
  },
  {
   "cell_type": "code",
   "execution_count": 24,
   "metadata": {},
   "outputs": [
    {
     "ename": "TypeError",
     "evalue": "ufunc 'isnan' not supported for the input types, and the inputs could not be safely coerced to any supported types according to the casting rule ''safe''",
     "output_type": "error",
     "traceback": [
      "\u001b[1;31m---------------------------------------------------------------------------\u001b[0m",
      "\u001b[1;31mTypeError\u001b[0m                                 Traceback (most recent call last)",
      "\u001b[1;32mf:\\HKU\\HKU_Course\\Module_1\\7001\\code\\numpy.ipynb 单元格 16\u001b[0m line \u001b[0;36m1\n\u001b[1;32m----> <a href='vscode-notebook-cell:/f%3A/HKU/HKU_Course/Module_1/7001/code/numpy.ipynb#X53sZmlsZQ%3D%3D?line=0'>1</a>\u001b[0m np\u001b[39m.\u001b[39margwhere(np\u001b[39m.\u001b[39;49misnan([\u001b[39m12\u001b[39;49m, \u001b[39m9\u001b[39;49m, \u001b[39m0.5\u001b[39;49m, np\u001b[39m.\u001b[39;49mnan]))\n",
      "\u001b[1;31mTypeError\u001b[0m: ufunc 'isnan' not supported for the input types, and the inputs could not be safely coerced to any supported types according to the casting rule ''safe''"
     ]
    }
   ],
   "source": [
    "np.argwhere(np.isnan([12, 9, 0.5, np.nan]))"
   ]
  },
  {
   "cell_type": "code",
   "execution_count": 29,
   "metadata": {},
   "outputs": [
    {
     "data": {
      "text/plain": [
       "False"
      ]
     },
     "execution_count": 29,
     "metadata": {},
     "output_type": "execute_result"
    }
   ],
   "source": [
    "# np.oil\n",
    "\n",
    "np.all([1, 1, 1, 0])"
   ]
  },
  {
   "cell_type": "code",
   "execution_count": 30,
   "metadata": {},
   "outputs": [
    {
     "ename": "TypeError",
     "evalue": "ufunc 'isnan' not supported for the input types, and the inputs could not be safely coerced to any supported types according to the casting rule ''safe''",
     "output_type": "error",
     "traceback": [
      "\u001b[1;31m---------------------------------------------------------------------------\u001b[0m",
      "\u001b[1;31mTypeError\u001b[0m                                 Traceback (most recent call last)",
      "\u001b[1;32mf:\\HKU\\HKU_Course\\Module_1\\7001\\code\\numpy.ipynb 单元格 18\u001b[0m line \u001b[0;36m1\n\u001b[1;32m----> <a href='vscode-notebook-cell:/f%3A/HKU/HKU_Course/Module_1/7001/code/numpy.ipynb#X55sZmlsZQ%3D%3D?line=0'>1</a>\u001b[0m np\u001b[39m.\u001b[39;49misnan([\u001b[39m12\u001b[39;49m, \u001b[39m9\u001b[39;49m, \u001b[39m0.5\u001b[39;49m, np\u001b[39m.\u001b[39;49mnan])\u001b[39m.\u001b[39mall()\n\u001b[0;32m      <a href='vscode-notebook-cell:/f%3A/HKU/HKU_Course/Module_1/7001/code/numpy.ipynb#X55sZmlsZQ%3D%3D?line=1'>2</a>\u001b[0m \u001b[39m# np.oil: test whether the entire row/column is empty\u001b[39;00m\n",
      "\u001b[1;31mTypeError\u001b[0m: ufunc 'isnan' not supported for the input types, and the inputs could not be safely coerced to any supported types according to the casting rule ''safe''"
     ]
    }
   ],
   "source": [
    "np.isnan([12, 9, 0.5, np.nan]).all()\n",
    "# np.oil: test whether the entire row/column is empty"
   ]
  },
  {
   "cell_type": "code",
   "execution_count": null,
   "metadata": {},
   "outputs": [],
   "source": []
  },
  {
   "cell_type": "code",
   "execution_count": null,
   "metadata": {},
   "outputs": [],
   "source": [
    "arr = np.arange(30).reshape((5,6))"
   ]
  },
  {
   "cell_type": "code",
   "execution_count": null,
   "metadata": {},
   "outputs": [
    {
     "data": {
      "text/plain": [
       "array([[ 0,  1,  2,  3,  4,  5],\n",
       "       [ 6,  7,  8,  9, 10, 11],\n",
       "       [12, 13, 14, 15, 16, 17],\n",
       "       [18, 19, 20, 21, 22, 23],\n",
       "       [24, 25, 26, 27, 28, 29]])"
      ]
     },
     "execution_count": 23,
     "metadata": {},
     "output_type": "execute_result"
    }
   ],
   "source": [
    "arr"
   ]
  },
  {
   "cell_type": "code",
   "execution_count": null,
   "metadata": {},
   "outputs": [
    {
     "data": {
      "text/plain": [
       "array([[1000, 1001, 1002, 1003, 1004, 1005],\n",
       "       [1006, 1007, 1008, 1009, 1010, 1011],\n",
       "       [1012, 1013, 1014, 1015, 1016, 1017],\n",
       "       [1018, 1019, 1020, 1021, 1022, 1023],\n",
       "       [1024, 1025, 1026, 1027, 1028, 1029]])"
      ]
     },
     "execution_count": 24,
     "metadata": {},
     "output_type": "execute_result"
    }
   ],
   "source": [
    "arr + 1000"
   ]
  },
  {
   "cell_type": "code",
   "execution_count": null,
   "metadata": {},
   "outputs": [
    {
     "data": {
      "text/plain": [
       "array([[False, False, False, False, False, False],\n",
       "       [False, False, False, False, False,  True],\n",
       "       [ True,  True,  True,  True,  True,  True],\n",
       "       [ True,  True,  True,  True,  True,  True],\n",
       "       [ True,  True,  True,  True,  True,  True]])"
      ]
     },
     "execution_count": 25,
     "metadata": {},
     "output_type": "execute_result"
    }
   ],
   "source": [
    "arr > 10"
   ]
  },
  {
   "cell_type": "code",
   "execution_count": null,
   "metadata": {},
   "outputs": [
    {
     "data": {
      "text/plain": [
       "array([ 6,  7,  8,  9, 10, 11])"
      ]
     },
     "execution_count": 26,
     "metadata": {},
     "output_type": "execute_result"
    }
   ],
   "source": [
    "arr[1,:]"
   ]
  },
  {
   "cell_type": "code",
   "execution_count": null,
   "metadata": {},
   "outputs": [
    {
     "data": {
      "text/plain": [
       "array([ 6,  7,  8,  9, 10, 11])"
      ]
     },
     "execution_count": 27,
     "metadata": {},
     "output_type": "execute_result"
    }
   ],
   "source": [
    "arr[1]"
   ]
  },
  {
   "cell_type": "code",
   "execution_count": null,
   "metadata": {},
   "outputs": [
    {
     "data": {
      "text/plain": [
       "array([ 1,  7, 13, 19, 25])"
      ]
     },
     "execution_count": 28,
     "metadata": {},
     "output_type": "execute_result"
    }
   ],
   "source": [
    "arr[:,1]"
   ]
  },
  {
   "cell_type": "code",
   "execution_count": null,
   "metadata": {},
   "outputs": [
    {
     "data": {
      "text/plain": [
       "array([[ 1,  3,  5],\n",
       "       [ 7,  9, 11],\n",
       "       [13, 15, 17],\n",
       "       [19, 21, 23],\n",
       "       [25, 27, 29]])"
      ]
     },
     "execution_count": 29,
     "metadata": {},
     "output_type": "execute_result"
    }
   ],
   "source": [
    "arr[:,[1, 3, 5]]"
   ]
  },
  {
   "cell_type": "code",
   "execution_count": null,
   "metadata": {},
   "outputs": [
    {
     "data": {
      "text/plain": [
       "array([False, False, False, False,  True,  True])"
      ]
     },
     "execution_count": 31,
     "metadata": {},
     "output_type": "execute_result"
    }
   ],
   "source": [
    "arr[2,:] > 15"
   ]
  },
  {
   "cell_type": "code",
   "execution_count": null,
   "metadata": {},
   "outputs": [
    {
     "data": {
      "text/plain": [
       "array([28, 29])"
      ]
     },
     "execution_count": 35,
     "metadata": {},
     "output_type": "execute_result"
    }
   ],
   "source": [
    "arr[4, arr[2,:] > 15]"
   ]
  },
  {
   "cell_type": "markdown",
   "metadata": {},
   "source": [
    "# exercise - moving average"
   ]
  },
  {
   "cell_type": "code",
   "execution_count": null,
   "metadata": {},
   "outputs": [],
   "source": [
    "import numpy as np"
   ]
  },
  {
   "cell_type": "code",
   "execution_count": null,
   "metadata": {},
   "outputs": [],
   "source": [
    "cases = np.genfromtxt('../data_in/hk_covid_stats.csv', delimiter=',', skip_header=1, usecols=2)"
   ]
  },
  {
   "cell_type": "code",
   "execution_count": null,
   "metadata": {},
   "outputs": [
    {
     "name": "stdout",
     "output_type": "stream",
     "text": [
      "(956,) 956 float64 1\n"
     ]
    }
   ],
   "source": [
    "print(cases.shape, cases.size, cases.dtype, cases.ndim)"
   ]
  },
  {
   "cell_type": "code",
   "execution_count": null,
   "metadata": {},
   "outputs": [],
   "source": [
    "csum = np.cumsum(cases)"
   ]
  },
  {
   "cell_type": "code",
   "execution_count": null,
   "metadata": {},
   "outputs": [
    {
     "data": {
      "text/plain": [
       "(956,)"
      ]
     },
     "execution_count": 47,
     "metadata": {},
     "output_type": "execute_result"
    }
   ],
   "source": [
    "csum.shape"
   ]
  },
  {
   "cell_type": "code",
   "execution_count": null,
   "metadata": {},
   "outputs": [],
   "source": [
    "csum[3:] = csum[3:] - csum[:-3]"
   ]
  },
  {
   "cell_type": "code",
   "execution_count": null,
   "metadata": {},
   "outputs": [],
   "source": [
    "mave = np.round(csum[2:]/3, 1)\n"
   ]
  },
  {
   "cell_type": "code",
   "execution_count": null,
   "metadata": {},
   "outputs": [
    {
     "data": {
      "text/plain": [
       "(954,)"
      ]
     },
     "execution_count": 53,
     "metadata": {},
     "output_type": "execute_result"
    }
   ],
   "source": [
    "mave.shape"
   ]
  },
  {
   "cell_type": "code",
   "execution_count": null,
   "metadata": {},
   "outputs": [],
   "source": [
    "mave = np.insert(mave, 0, [np.nan, np.nan])"
   ]
  },
  {
   "cell_type": "code",
   "execution_count": null,
   "metadata": {},
   "outputs": [
    {
     "data": {
      "text/plain": [
       "array([  nan,   nan,   1.7,   2. ,   2. ,   1. ,   0.7,   0.7,   1.3,\n",
       "         1. ,   1.7,   1. ,   1.3,   2. ,   3. ,   2.7,   1.7,   1.7,\n",
       "         4.3,   7.7,   7. ,   5. ,   2.3,   2. ,   1.3,   1.3,   2. ,\n",
       "         2. ,   2.7,   2. ,   2. ,   2. ,   3.7,   5. ,   5.7,   4.3,\n",
       "         3.3,   1.3,   1.3,   2. ,   1.7,   3. ,   1.7,   2.3,   1. ,\n",
       "         3. ,   2.7,   4. ,   4. ,   4.7,   4.7,   4.7,   5.3,   7. ,\n",
       "         7.3,  12. ,  17.7,  31.3,  30.7,  36.3,  31.7,  36.3,  30. ,\n",
       "        33.7,  37.3,  39.7,  41.7,  43. ,  51.3,  53.3,  53.7,  50.3,\n",
       "        38.7,  32.7,  27.7,  27.3,  26. ,  19.7,  18. ,  13.3,  10.3,\n",
       "         6.7,   4. ,   4. ,   2.7,   3. ,   2.3,   2.7,   1.3,   2. ,\n",
       "         2.7,   3.3,   2. ,   1.3,   0.7,   0.7,   0. ,   0. ,   0. ,\n",
       "         0.7,   0.7,   0.7,   0.3,   0.3,   0.3,   1.3,   1.3,   1.3,\n",
       "         1. ,   1. ,   1. ,   1. ,   1.3,   1.7,   0.7,   1.3,   1. ,\n",
       "         1. ,   0. ,   2.7,   3.3,   3.3,   0.7,   0. ,   0. ,   0.3,\n",
       "         0.3,   4.7,   5.3,   6. ,   2.7,   3.7,   3. ,   4. ,   3. ,\n",
       "         4. ,   2.3,   1.7,   0.7,   0.3,   0. ,   0.3,   0.7,   0.7,\n",
       "         1.3,   1. ,   3.7,   4. ,   5. ,   2.7,   2.3,  11.3,  16.3,\n",
       "        16. ,  10.7,   6.3,   6. ,   2. ,   2.3,   2.7,  11.3,  13. ,\n",
       "        14. ,   8.3,   8.7,  12.7,  13.7,  18.3,  26.7,  34.7,  36. ,\n",
       "        34.7,  39.3,  46. ,  39.7,  44.7,  48. ,  63. ,  76.7,  81.7,\n",
       "        80.3,  82. ,  97. , 118. , 124.7, 128. , 135.3, 126.3, 123. ,\n",
       "       124.3, 129.3, 131.3, 120. , 105.7,  91. ,  81. ,  86.7,  89.7,\n",
       "        84.3,  76.7,  70. ,  58. ,  54.7,  54.7,  59.7,  54.3,  56. ,\n",
       "        54.7,  51.3,  35.3,  26.7,  23.7,  23.7,  26. ,  20. ,  17.7,\n",
       "        17.3,  21.3,  19.3,  17.3,  15.3,  14. ,  12. ,   9.7,   9.3,\n",
       "         9.3,   9. ,  13.3,  13. ,  12.7,   7.7,   8. ,  10. ,  12.3,\n",
       "        14.7,  15.3,  12.3,   9. ,   7.3,   7. ,   8.3,  13. ,  14. ,\n",
       "        12.3,   5.7,   6. ,   4. ,   3.3,   3. ,   5.7,   6.7,   7.3,\n",
       "         7.3,   8.3,   7. ,   5.3,   6.7,   8. ,  10. ,  12.3,  12.3,\n",
       "        10.7,   7. ,   8. ,   8.7,   6.3,   6.7,   6.3,  12. ,   9.3,\n",
       "        12. ,   8. ,   9.3,   8. ,   7.7,   6.7,   5. ,   6.3,   6.3,\n",
       "         5. ,   3.3,   4. ,   4.3,   5.7,   5.3,   7.3,   6. ,   6.3,\n",
       "         5.3,   5.3,   6.3,   6.3,   8.3,  11. ,  16.7,  15.7,  12.3,\n",
       "         9.3,  10. ,   8.7,   7. ,   8.3,  15.7,  27. ,  45.7,  61.3,\n",
       "        73.7,  79.3,  82. ,  86. ,  85.7,  97. ,  91.7,  91. ,  87. ,\n",
       "        91.7, 101.7, 101. , 102.7,  91.3,  91. ,  94. , 105.3, 100.7,\n",
       "        89. ,  83.3,  82. ,  91.7,  87.3,  92. ,  82.7,  91.7,  84.3,\n",
       "        89.3,  74. ,  67. ,  62.3,  60.3,  62.3,  62. ,  63.3,  61.3,\n",
       "        56. ,  58.3,  54.7,  48.3,  39.3,  43. ,  42. ,  36.7,  30. ,\n",
       "        34.3,  45.7,  45. ,  43.7,  44. ,  47.7,  43.7,  36.3,  39. ,\n",
       "        47.7,  70.7,  72.7,  80. ,  67.7,  69.3,  70.7,  72.7,  76.7,\n",
       "        71. ,  65.7,  54.3,  49.7,  39. ,  43.7,  38.3,  37.3,  26. ,\n",
       "        22. ,  26. ,  26. ,  27.7,  26. ,  28.3,  25. ,  21.3,  20.7,\n",
       "        19. ,  16. ,  11. ,   9.7,  11. ,  10.7,  12.3,  12. ,  16. ,\n",
       "        17. ,  16. ,  15. ,  14. ,  18.3,  23.3,  26.3,  22.7,  16.3,\n",
       "        13.7,  12. ,  11.3,   9.3,  11.7,  11. ,  15.3,  12.7,  17. ,\n",
       "        30. ,  43. ,  43.7,  33.7,  24. ,  19.7,  13. ,  11.3,  10.3,\n",
       "         9.7,  11.3,  12.7,  13.3,  10.3,  10. ,   8.7,   6. ,   5. ,\n",
       "         5.3,   7. ,   8.7,  12.7,  11.3,   9.3,   8.3,  10. ,  10.3,\n",
       "         8.3,  10.7,   9.7,  10.7,  10.3,  13. ,  10.3,   8. ,   9.3,\n",
       "        13.7,  21.7,  20. ,  16.7,   7. ,   7.7,   8. ,   8.7,   6. ,\n",
       "         4.3,   6. ,   6.3,  10. ,   8.7,   9. ,   4.7,   4. ,   2.7,\n",
       "         4. ,   4. ,   3.7,   3.3,   3. ,   3.3,   2. ,   2.3,   2. ,\n",
       "         2. ,   2.3,   2.3,   2.3,   1.7,   1. ,   1. ,   1. ,   1. ,\n",
       "         1.3,   1.3,   1.7,   1.3,   1. ,   0.3,   0.3,   0.3,   1.7,\n",
       "         3.7,   3.7,   2.7,   0.7,   1. ,   3. ,   5. ,   5.7,   4.7,\n",
       "         3. ,   2. ,   1.7,   1. ,   1.3,   1. ,   1.3,   1. ,   1.3,\n",
       "         1.3,   1.7,   1.7,   3.7,   4. ,   5.3,   4.3,   4.3,   4. ,\n",
       "         3.7,   3.3,   2. ,   2.3,   5.7,   5.3,   5. ,   1.7,   1.7,\n",
       "         1. ,   1.7,   1.7,   1.7,   1. ,   0.7,   0.7,   1.3,   1.3,\n",
       "         1.3,   0.3,   1. ,   0.7,   3. ,   4. ,   4.3,   2.7,   1.7,\n",
       "         2.3,   1.7,   1.3,   0.7,   1.3,   1.7,   1.3,   1.7,   2. ,\n",
       "         3.3,   3. ,   4. ,   3.3,   5. ,   3.7,   3.7,   2.7,   2.3,\n",
       "         3.3,   3.7,   4. ,   2.7,   2. ,   2.3,   3. ,   3.7,   3.3,\n",
       "         3.3,   3.3,   4.3,   5.7,   5.7,   5. ,   8.3,   8.7,  10. ,\n",
       "         5.3,   4. ,   2. ,   1. ,   nan,   nan,   nan,   nan,   nan,\n",
       "         nan,   nan,   nan,   nan,   nan,   nan,   nan,   nan,   nan,\n",
       "         nan,   nan,   nan,   nan,   nan,   nan,   nan,   nan,   nan,\n",
       "         nan,   nan,   nan,   nan,   nan,   nan,   nan,   nan,   nan,\n",
       "         nan,   nan,   nan,   nan,   nan,   nan,   nan,   nan,   nan,\n",
       "         nan,   nan,   nan,   nan,   nan,   nan,   nan,   nan,   nan,\n",
       "         nan,   nan,   nan,   nan,   nan,   nan,   nan,   nan,   nan,\n",
       "         nan,   nan,   nan,   nan,   nan,   nan,   nan,   nan,   nan,\n",
       "         nan,   nan,   nan,   nan,   nan,   nan,   nan,   nan,   nan,\n",
       "         nan,   nan,   nan,   nan,   nan,   nan,   nan,   nan,   nan,\n",
       "         nan,   nan,   nan,   nan,   nan,   nan,   nan,   nan,   nan,\n",
       "         nan,   nan,   nan,   nan,   nan,   nan,   nan,   nan,   nan,\n",
       "         nan,   nan,   nan,   nan,   nan,   nan,   nan,   nan,   nan,\n",
       "         nan,   nan,   nan,   nan,   nan,   nan,   nan,   nan,   nan,\n",
       "         nan,   nan,   nan,   nan,   nan,   nan,   nan,   nan,   nan,\n",
       "         nan,   nan,   nan,   nan,   nan,   nan,   nan,   nan,   nan,\n",
       "         nan,   nan,   nan,   nan,   nan,   nan,   nan,   nan,   nan,\n",
       "         nan,   nan,   nan,   nan,   nan,   nan,   nan,   nan,   nan,\n",
       "         nan,   nan,   nan,   nan,   nan,   nan,   nan,   nan,   nan,\n",
       "         nan,   nan,   nan,   nan,   nan,   nan,   nan,   nan,   nan,\n",
       "         nan,   nan,   nan,   nan,   nan,   nan,   nan,   nan,   nan,\n",
       "         nan,   nan,   nan,   nan,   nan,   nan,   nan,   nan,   nan,\n",
       "         nan,   nan,   nan,   nan,   nan,   nan,   nan,   nan,   nan,\n",
       "         nan,   nan,   nan,   nan,   nan,   nan,   nan,   nan,   nan,\n",
       "         nan,   nan,   nan,   nan,   nan,   nan,   nan,   nan,   nan,\n",
       "         nan,   nan,   nan,   nan,   nan,   nan,   nan,   nan,   nan,\n",
       "         nan,   nan,   nan,   nan,   nan,   nan,   nan,   nan,   nan,\n",
       "         nan,   nan,   nan,   nan,   nan,   nan,   nan,   nan,   nan,\n",
       "         nan,   nan,   nan,   nan,   nan,   nan,   nan,   nan,   nan,\n",
       "         nan,   nan,   nan,   nan,   nan,   nan,   nan,   nan,   nan,\n",
       "         nan,   nan,   nan,   nan,   nan,   nan,   nan,   nan,   nan,\n",
       "         nan,   nan,   nan,   nan,   nan,   nan,   nan,   nan,   nan,\n",
       "         nan,   nan,   nan,   nan,   nan,   nan,   nan,   nan,   nan,\n",
       "         nan,   nan,   nan,   nan,   nan,   nan,   nan,   nan,   nan,\n",
       "         nan,   nan,   nan,   nan,   nan,   nan,   nan,   nan,   nan,\n",
       "         nan,   nan,   nan,   nan,   nan,   nan,   nan,   nan,   nan,\n",
       "         nan,   nan,   nan,   nan,   nan,   nan,   nan,   nan,   nan,\n",
       "         nan,   nan,   nan,   nan,   nan,   nan,   nan,   nan,   nan,\n",
       "         nan,   nan,   nan,   nan,   nan,   nan,   nan,   nan,   nan,\n",
       "         nan,   nan,   nan,   nan,   nan,   nan,   nan,   nan,   nan,\n",
       "         nan,   nan,   nan,   nan,   nan,   nan,   nan,   nan,   nan,\n",
       "         nan,   nan])"
      ]
     },
     "execution_count": 62,
     "metadata": {},
     "output_type": "execute_result"
    }
   ],
   "source": [
    "mave"
   ]
  },
  {
   "cell_type": "markdown",
   "metadata": {},
   "source": [
    "# fix the missing"
   ]
  },
  {
   "cell_type": "code",
   "execution_count": 31,
   "metadata": {},
   "outputs": [],
   "source": [
    "cases2 = np.genfromtxt('../data_in/hk_covid_stats.csv', delimiter=',', skip_header=1, usecols=2)"
   ]
  },
  {
   "cell_type": "code",
   "execution_count": 34,
   "metadata": {},
   "outputs": [
    {
     "data": {
      "text/plain": [
       "2"
      ]
     },
     "execution_count": 34,
     "metadata": {},
     "output_type": "execute_result"
    }
   ],
   "source": [
    "np.isnan(cases2).sum()"
   ]
  },
  {
   "cell_type": "code",
   "execution_count": 35,
   "metadata": {},
   "outputs": [
    {
     "data": {
      "text/plain": [
       "array([[589],\n",
       "       [625]], dtype=int64)"
      ]
     },
     "execution_count": 35,
     "metadata": {},
     "output_type": "execute_result"
    }
   ],
   "source": [
    "np.argwhere(np.isnan(cases2))"
   ]
  },
  {
   "cell_type": "code",
   "execution_count": 37,
   "metadata": {},
   "outputs": [
    {
     "data": {
      "text/plain": [
       "array([ 0., nan,  1.])"
      ]
     },
     "execution_count": 37,
     "metadata": {},
     "output_type": "execute_result"
    }
   ],
   "source": [
    "cases2[588:591]"
   ]
  },
  {
   "cell_type": "code",
   "execution_count": 39,
   "metadata": {},
   "outputs": [
    {
     "data": {
      "text/plain": [
       "array([ 2., nan, 31.])"
      ]
     },
     "execution_count": 39,
     "metadata": {},
     "output_type": "execute_result"
    }
   ],
   "source": [
    "cases2[624:627]"
   ]
  },
  {
   "cell_type": "code",
   "execution_count": 40,
   "metadata": {},
   "outputs": [],
   "source": [
    "cases2[589] = (cases2[588] + cases2[590]) / 2\n",
    "cases2[625] = (cases2[624] + cases2[626]) / 2"
   ]
  },
  {
   "cell_type": "code",
   "execution_count": 41,
   "metadata": {},
   "outputs": [
    {
     "data": {
      "text/plain": [
       "array([ 2. , 16.5, 31. ])"
      ]
     },
     "execution_count": 41,
     "metadata": {},
     "output_type": "execute_result"
    }
   ],
   "source": [
    "cases2[624:627]"
   ]
  },
  {
   "cell_type": "code",
   "execution_count": 42,
   "metadata": {},
   "outputs": [
    {
     "data": {
      "text/plain": [
       "0"
      ]
     },
     "execution_count": 42,
     "metadata": {},
     "output_type": "execute_result"
    }
   ],
   "source": [
    "np.isnan(cases2).sum()"
   ]
  },
  {
   "cell_type": "code",
   "execution_count": 43,
   "metadata": {},
   "outputs": [],
   "source": [
    "cases3 = np.genfromtxt('../data_in/hk_covid_stats.csv', delimiter=',', skip_header=1, usecols=2)"
   ]
  },
  {
   "cell_type": "code",
   "execution_count": 47,
   "metadata": {},
   "outputs": [],
   "source": [
    "cases3[np.isnan(cases3)] = 0, 0"
   ]
  },
  {
   "cell_type": "code",
   "execution_count": 48,
   "metadata": {},
   "outputs": [
    {
     "data": {
      "text/plain": [
       "False"
      ]
     },
     "execution_count": 48,
     "metadata": {},
     "output_type": "execute_result"
    }
   ],
   "source": [
    "np.isnan(cases3).any()"
   ]
  },
  {
   "cell_type": "code",
   "execution_count": null,
   "metadata": {},
   "outputs": [],
   "source": [
    "np.genfromtxt?"
   ]
  },
  {
   "cell_type": "code",
   "execution_count": 50,
   "metadata": {},
   "outputs": [],
   "source": [
    "csum2 = np.cumsum(cases2)\n",
    "csum2[3:] = csum2[3:] - csum2[:-3]\n",
    "mave2 = np.round(csum2[2:]/3, 1)\n",
    "mave2 = np.insert(mave2, 0, [np.nan, np.nan])\n"
   ]
  },
  {
   "cell_type": "code",
   "execution_count": 51,
   "metadata": {},
   "outputs": [
    {
     "data": {
      "text/plain": [
       "((956,), (956,))"
      ]
     },
     "execution_count": 51,
     "metadata": {},
     "output_type": "execute_result"
    }
   ],
   "source": [
    "cases2.shape, mave2.shape"
   ]
  },
  {
   "cell_type": "code",
   "execution_count": 52,
   "metadata": {},
   "outputs": [
    {
     "data": {
      "text/plain": [
       "<zip at 0x1fbffc96100>"
      ]
     },
     "execution_count": 52,
     "metadata": {},
     "output_type": "execute_result"
    }
   ],
   "source": [
    "zip(cases2, mave2)"
   ]
  },
  {
   "cell_type": "code",
   "execution_count": 55,
   "metadata": {},
   "outputs": [
    {
     "data": {
      "text/plain": [
       "array([[2.00000e+00,         nan],\n",
       "       [0.00000e+00,         nan],\n",
       "       [3.00000e+00, 1.70000e+00],\n",
       "       ...,\n",
       "       [9.90100e+03, 9.99400e+03],\n",
       "       [1.04260e+04, 1.03043e+04],\n",
       "       [1.06830e+04, 1.03367e+04]])"
      ]
     },
     "execution_count": 55,
     "metadata": {},
     "output_type": "execute_result"
    }
   ],
   "source": [
    "# option1, using zip\n",
    "np.array(list(zip(cases2, mave2)), dtype= float)"
   ]
  },
  {
   "cell_type": "code",
   "execution_count": 58,
   "metadata": {},
   "outputs": [
    {
     "data": {
      "text/plain": [
       "array([[2.00000e+00,         nan],\n",
       "       [0.00000e+00,         nan],\n",
       "       [3.00000e+00, 1.70000e+00],\n",
       "       ...,\n",
       "       [9.90100e+03, 9.99400e+03],\n",
       "       [1.04260e+04, 1.03043e+04],\n",
       "       [1.06830e+04, 1.03367e+04]])"
      ]
     },
     "execution_count": 58,
     "metadata": {},
     "output_type": "execute_result"
    }
   ],
   "source": [
    "# option2, using np.hstack\n",
    "\n",
    "np.hstack((cases2.reshape(956, 1), mave2.reshape(956, 1)))\n"
   ]
  },
  {
   "cell_type": "code",
   "execution_count": 65,
   "metadata": {},
   "outputs": [],
   "source": [
    "# option3, using np.vstack\n",
    "\n",
    "result = np.vstack((cases2,mave2)).T"
   ]
  },
  {
   "cell_type": "code",
   "execution_count": 63,
   "metadata": {},
   "outputs": [
    {
     "name": "stdout",
     "output_type": "stream",
     "text": [
      "\u001b[1;31mSignature:\u001b[0m      \n",
      "\u001b[0mnp\u001b[0m\u001b[1;33m.\u001b[0m\u001b[0msavetxt\u001b[0m\u001b[1;33m(\u001b[0m\u001b[1;33m\n",
      "\u001b[0m    \u001b[0mfname\u001b[0m\u001b[1;33m,\u001b[0m\u001b[1;33m\n",
      "\u001b[0m    \u001b[0mX\u001b[0m\u001b[1;33m,\u001b[0m\u001b[1;33m\n",
      "\u001b[0m    \u001b[0mfmt\u001b[0m\u001b[1;33m=\u001b[0m\u001b[1;34m'%.18e'\u001b[0m\u001b[1;33m,\u001b[0m\u001b[1;33m\n",
      "\u001b[0m    \u001b[0mdelimiter\u001b[0m\u001b[1;33m=\u001b[0m\u001b[1;34m' '\u001b[0m\u001b[1;33m,\u001b[0m\u001b[1;33m\n",
      "\u001b[0m    \u001b[0mnewline\u001b[0m\u001b[1;33m=\u001b[0m\u001b[1;34m'\\n'\u001b[0m\u001b[1;33m,\u001b[0m\u001b[1;33m\n",
      "\u001b[0m    \u001b[0mheader\u001b[0m\u001b[1;33m=\u001b[0m\u001b[1;34m''\u001b[0m\u001b[1;33m,\u001b[0m\u001b[1;33m\n",
      "\u001b[0m    \u001b[0mfooter\u001b[0m\u001b[1;33m=\u001b[0m\u001b[1;34m''\u001b[0m\u001b[1;33m,\u001b[0m\u001b[1;33m\n",
      "\u001b[0m    \u001b[0mcomments\u001b[0m\u001b[1;33m=\u001b[0m\u001b[1;34m'# '\u001b[0m\u001b[1;33m,\u001b[0m\u001b[1;33m\n",
      "\u001b[0m    \u001b[0mencoding\u001b[0m\u001b[1;33m=\u001b[0m\u001b[1;32mNone\u001b[0m\u001b[1;33m,\u001b[0m\u001b[1;33m\n",
      "\u001b[0m\u001b[1;33m)\u001b[0m\u001b[1;33m\u001b[0m\u001b[1;33m\u001b[0m\u001b[0m\n",
      "\u001b[1;31mCall signature:\u001b[0m  \u001b[0mnp\u001b[0m\u001b[1;33m.\u001b[0m\u001b[0msavetxt\u001b[0m\u001b[1;33m(\u001b[0m\u001b[1;33m*\u001b[0m\u001b[0margs\u001b[0m\u001b[1;33m,\u001b[0m \u001b[1;33m**\u001b[0m\u001b[0mkwargs\u001b[0m\u001b[1;33m)\u001b[0m\u001b[1;33m\u001b[0m\u001b[1;33m\u001b[0m\u001b[0m\n",
      "\u001b[1;31mType:\u001b[0m            _ArrayFunctionDispatcher\n",
      "\u001b[1;31mString form:\u001b[0m     <function savetxt at 0x000001FBFF467F60>\n",
      "\u001b[1;31mFile:\u001b[0m            c:\\users\\zzzのwlkq\\appdata\\local\\programs\\python\\python311\\lib\\site-packages\\numpy\\lib\\npyio.py\n",
      "\u001b[1;31mDocstring:\u001b[0m      \n",
      "Save an array to a text file.\n",
      "\n",
      "Parameters\n",
      "----------\n",
      "fname : filename or file handle\n",
      "    If the filename ends in ``.gz``, the file is automatically saved in\n",
      "    compressed gzip format.  `loadtxt` understands gzipped files\n",
      "    transparently.\n",
      "X : 1D or 2D array_like\n",
      "    Data to be saved to a text file.\n",
      "fmt : str or sequence of strs, optional\n",
      "    A single format (%10.5f), a sequence of formats, or a\n",
      "    multi-format string, e.g. 'Iteration %d -- %10.5f', in which\n",
      "    case `delimiter` is ignored. For complex `X`, the legal options\n",
      "    for `fmt` are:\n",
      "\n",
      "    * a single specifier, `fmt='%.4e'`, resulting in numbers formatted\n",
      "      like `' (%s+%sj)' % (fmt, fmt)`\n",
      "    * a full string specifying every real and imaginary part, e.g.\n",
      "      `' %.4e %+.4ej %.4e %+.4ej %.4e %+.4ej'` for 3 columns\n",
      "    * a list of specifiers, one per column - in this case, the real\n",
      "      and imaginary part must have separate specifiers,\n",
      "      e.g. `['%.3e + %.3ej', '(%.15e%+.15ej)']` for 2 columns\n",
      "delimiter : str, optional\n",
      "    String or character separating columns.\n",
      "newline : str, optional\n",
      "    String or character separating lines.\n",
      "\n",
      "    .. versionadded:: 1.5.0\n",
      "header : str, optional\n",
      "    String that will be written at the beginning of the file.\n",
      "\n",
      "    .. versionadded:: 1.7.0\n",
      "footer : str, optional\n",
      "    String that will be written at the end of the file.\n",
      "\n",
      "    .. versionadded:: 1.7.0\n",
      "comments : str, optional\n",
      "    String that will be prepended to the ``header`` and ``footer`` strings,\n",
      "    to mark them as comments. Default: '# ',  as expected by e.g.\n",
      "    ``numpy.loadtxt``.\n",
      "\n",
      "    .. versionadded:: 1.7.0\n",
      "encoding : {None, str}, optional\n",
      "    Encoding used to encode the outputfile. Does not apply to output\n",
      "    streams. If the encoding is something other than 'bytes' or 'latin1'\n",
      "    you will not be able to load the file in NumPy versions < 1.14. Default\n",
      "    is 'latin1'.\n",
      "\n",
      "    .. versionadded:: 1.14.0\n",
      "\n",
      "\n",
      "See Also\n",
      "--------\n",
      "save : Save an array to a binary file in NumPy ``.npy`` format\n",
      "savez : Save several arrays into an uncompressed ``.npz`` archive\n",
      "savez_compressed : Save several arrays into a compressed ``.npz`` archive\n",
      "\n",
      "Notes\n",
      "-----\n",
      "Further explanation of the `fmt` parameter\n",
      "(``%[flag]width[.precision]specifier``):\n",
      "\n",
      "flags:\n",
      "    ``-`` : left justify\n",
      "\n",
      "    ``+`` : Forces to precede result with + or -.\n",
      "\n",
      "    ``0`` : Left pad the number with zeros instead of space (see width).\n",
      "\n",
      "width:\n",
      "    Minimum number of characters to be printed. The value is not truncated\n",
      "    if it has more characters.\n",
      "\n",
      "precision:\n",
      "    - For integer specifiers (eg. ``d,i,o,x``), the minimum number of\n",
      "      digits.\n",
      "    - For ``e, E`` and ``f`` specifiers, the number of digits to print\n",
      "      after the decimal point.\n",
      "    - For ``g`` and ``G``, the maximum number of significant digits.\n",
      "    - For ``s``, the maximum number of characters.\n",
      "\n",
      "specifiers:\n",
      "    ``c`` : character\n",
      "\n",
      "    ``d`` or ``i`` : signed decimal integer\n",
      "\n",
      "    ``e`` or ``E`` : scientific notation with ``e`` or ``E``.\n",
      "\n",
      "    ``f`` : decimal floating point\n",
      "\n",
      "    ``g,G`` : use the shorter of ``e,E`` or ``f``\n",
      "\n",
      "    ``o`` : signed octal\n",
      "\n",
      "    ``s`` : string of characters\n",
      "\n",
      "    ``u`` : unsigned decimal integer\n",
      "\n",
      "    ``x,X`` : unsigned hexadecimal integer\n",
      "\n",
      "This explanation of ``fmt`` is not complete, for an exhaustive\n",
      "specification see [1]_.\n",
      "\n",
      "References\n",
      "----------\n",
      ".. [1] `Format Specification Mini-Language\n",
      "       <https://docs.python.org/library/string.html#format-specification-mini-language>`_,\n",
      "       Python Documentation.\n",
      "\n",
      "Examples\n",
      "--------\n",
      ">>> x = y = z = np.arange(0.0,5.0,1.0)\n",
      ">>> np.savetxt('test.out', x, delimiter=',')   # X is an array\n",
      ">>> np.savetxt('test.out', (x,y,z))   # x,y,z equal sized 1D arrays\n",
      ">>> np.savetxt('test.out', x, fmt='%1.4e')   # use exponential notation\n",
      "\u001b[1;31mClass docstring:\u001b[0m\n",
      "Class to wrap functions with checks for __array_function__ overrides.\n",
      "\n",
      "All arguments are required, and can only be passed by position.\n",
      "\n",
      "Parameters\n",
      "----------\n",
      "dispatcher : function or None\n",
      "    The dispatcher function that returns a single sequence-like object\n",
      "    of all arguments relevant.  It must have the same signature (except\n",
      "    the default values) as the actual implementation.\n",
      "    If ``None``, this is a ``like=`` dispatcher and the\n",
      "    ``_ArrayFunctionDispatcher`` must be called with ``like`` as the\n",
      "    first (additional and positional) argument.\n",
      "implementation : function\n",
      "    Function that implements the operation on NumPy arrays without\n",
      "    overrides.  Arguments passed calling the ``_ArrayFunctionDispatcher``\n",
      "    will be forwarded to this (and the ``dispatcher``) as if using\n",
      "    ``*args, **kwargs``.\n",
      "\n",
      "Attributes\n",
      "----------\n",
      "_implementation : function\n",
      "    The original implementation passed in."
     ]
    }
   ],
   "source": [
    "np.savetxt?"
   ]
  },
  {
   "cell_type": "code",
   "execution_count": 67,
   "metadata": {},
   "outputs": [],
   "source": [
    "np.savetxt('../data_out/moving_ave2.csv', \n",
    "           result,\n",
    "           fmt='%.1f',\n",
    "           delimiter=',',\n",
    "           header='new cases, moving ave @ 3',\n",
    "           encoding='utf-8')"
   ]
  },
  {
   "cell_type": "markdown",
   "metadata": {},
   "source": []
  }
 ],
 "metadata": {
  "kernelspec": {
   "display_name": "Python 3",
   "language": "python",
   "name": "python3"
  },
  "language_info": {
   "codemirror_mode": {
    "name": "ipython",
    "version": 3
   },
   "file_extension": ".py",
   "mimetype": "text/x-python",
   "name": "python",
   "nbconvert_exporter": "python",
   "pygments_lexer": "ipython3",
   "version": "3.11.4"
  },
  "orig_nbformat": 4
 },
 "nbformat": 4,
 "nbformat_minor": 2
}
