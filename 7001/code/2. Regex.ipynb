{
 "cells": [
  {
   "cell_type": "markdown",
   "id": "6d8b818d",
   "metadata": {},
   "source": [
    "# Searching for a target"
   ]
  },
  {
   "cell_type": "code",
   "execution_count": 2,
   "id": "46ec71da",
   "metadata": {},
   "outputs": [],
   "source": [
    "import re"
   ]
  },
  {
   "cell_type": "code",
   "execution_count": 3,
   "id": "5a4603ad",
   "metadata": {
    "scrolled": true
   },
   "outputs": [
    {
     "name": "stdout",
     "output_type": "stream",
     "text": [
      "<re.Match object; span=(0, 3), match='HKU'>\n",
      "None\n"
     ]
    }
   ],
   "source": [
    "text = 'HKU Business School'\n",
    "findHKU = re.search('HKU', text)\n",
    "findMSBA = re.search('MSBA', text)\n",
    "print(findHKU)\n",
    "print(findMSBA)"
   ]
  },
  {
   "cell_type": "code",
   "execution_count": 4,
   "id": "be9836a8",
   "metadata": {},
   "outputs": [
    {
     "name": "stdout",
     "output_type": "stream",
     "text": [
      "<class 're.Match'>\n",
      "(0, 3)\n",
      "0\n",
      "3\n",
      "HKU Business School\n"
     ]
    }
   ],
   "source": [
    "print(type(findHKU))\n",
    "print(findHKU.span())\n",
    "print(findHKU.start())\n",
    "print(findHKU.end())\n",
    "print(findHKU.string)"
   ]
  },
  {
   "cell_type": "code",
   "execution_count": 5,
   "id": "b13ef9d8",
   "metadata": {},
   "outputs": [
    {
     "name": "stdout",
     "output_type": "stream",
     "text": [
      "Yes, HKU\n",
      "No, MSBA\n"
     ]
    }
   ],
   "source": [
    "if findHKU: \n",
    "    print(\"Yes, HKU\") \n",
    "else:\n",
    "    print(\"No, HKU\")\n",
    "if findMSBA:\n",
    "    print(\"Yes, MSBA\") \n",
    "else:\n",
    "    print(\"No, MSBA\")"
   ]
  },
  {
   "cell_type": "markdown",
   "id": "55b83188",
   "metadata": {},
   "source": [
    "# Using metacharacters and sets"
   ]
  },
  {
   "cell_type": "code",
   "execution_count": 6,
   "id": "ce180340",
   "metadata": {},
   "outputs": [
    {
     "data": {
      "text/plain": [
       "['S', 'c', 'h', 'o', 'o', 'l']"
      ]
     },
     "execution_count": 6,
     "metadata": {},
     "output_type": "execute_result"
    }
   ],
   "source": [
    "re.findall('.', text[-6:])\n",
    "# match with any one character, except for a newline"
   ]
  },
  {
   "cell_type": "code",
   "execution_count": 39,
   "id": "c2036e9c",
   "metadata": {},
   "outputs": [
    {
     "data": {
      "text/plain": [
       "['School']"
      ]
     },
     "execution_count": 39,
     "metadata": {},
     "output_type": "execute_result"
    }
   ],
   "source": [
    "re.findall('.+', text[-6:])\n",
    "# match as many as possible, except for a newline\n",
    "# this is greedy matching"
   ]
  },
  {
   "cell_type": "code",
   "execution_count": 38,
   "id": "87a3d2a7",
   "metadata": {},
   "outputs": [
    {
     "data": {
      "text/plain": [
       "['S', 'c', 'h', 'o', 'o', 'l']"
      ]
     },
     "execution_count": 38,
     "metadata": {},
     "output_type": "execute_result"
    }
   ],
   "source": [
    "re.findall('.+?', text[-6:])\n",
    "# ? turns off greedy matching"
   ]
  },
  {
   "cell_type": "code",
   "execution_count": 7,
   "id": "9e3d3b0a",
   "metadata": {},
   "outputs": [
    {
     "data": {
      "text/plain": [
       "'From chao.ding@hku.hk end\\nFrom: eric.wong@hku.hk over\\nfrom michael.chau4@hku.hk done\\nexam@friday'"
      ]
     },
     "execution_count": 7,
     "metadata": {},
     "output_type": "execute_result"
    }
   ],
   "source": [
    "text2 = '''From chao.ding@hku.hk end\n",
    "From: eric.wong@hku.hk over\n",
    "from michael.chau4@hku.hk done\n",
    "exam@friday'''\n",
    "\n",
    "text2    # notice the \\n in the text"
   ]
  },
  {
   "cell_type": "code",
   "execution_count": 8,
   "id": "e379d59e",
   "metadata": {},
   "outputs": [
    {
     "data": {
      "text/plain": [
       "['F', 'F']"
      ]
     },
     "execution_count": 8,
     "metadata": {},
     "output_type": "execute_result"
    }
   ],
   "source": [
    "re.findall('F', text2)\n",
    "# extract all the \"F\"s from the text"
   ]
  },
  {
   "cell_type": "code",
   "execution_count": 9,
   "id": "77e2037b",
   "metadata": {},
   "outputs": [
    {
     "data": {
      "text/plain": [
       "['F']"
      ]
     },
     "execution_count": 9,
     "metadata": {},
     "output_type": "execute_result"
    }
   ],
   "source": [
    "re.findall('^F', text2)\n",
    "# extract only the one at the begining of the text"
   ]
  },
  {
   "cell_type": "code",
   "execution_count": 10,
   "id": "67f5a788",
   "metadata": {},
   "outputs": [
    {
     "data": {
      "text/plain": [
       "['e', 'e', 'e', 'e', 'e', 'e']"
      ]
     },
     "execution_count": 10,
     "metadata": {},
     "output_type": "execute_result"
    }
   ],
   "source": [
    "re.findall('e', text2)\n",
    "# extract all the \"e\"s from the text"
   ]
  },
  {
   "cell_type": "code",
   "execution_count": 11,
   "id": "f1593830",
   "metadata": {},
   "outputs": [
    {
     "data": {
      "text/plain": [
       "[]"
      ]
     },
     "execution_count": 11,
     "metadata": {},
     "output_type": "execute_result"
    }
   ],
   "source": [
    "re.findall('e$', text2)"
   ]
  },
  {
   "cell_type": "code",
   "execution_count": 12,
   "id": "301c9c2f",
   "metadata": {},
   "outputs": [
    {
     "data": {
      "text/plain": [
       "['From', 'From', 'from']"
      ]
     },
     "execution_count": 12,
     "metadata": {},
     "output_type": "execute_result"
    }
   ],
   "source": [
    "re.findall('From|from', text2)\n",
    "# extract either From or from"
   ]
  },
  {
   "cell_type": "code",
   "execution_count": 13,
   "id": "dd75ec9b",
   "metadata": {},
   "outputs": [
    {
     "data": {
      "text/plain": [
       "['From', 'From', 'from']"
      ]
     },
     "execution_count": 13,
     "metadata": {},
     "output_type": "execute_result"
    }
   ],
   "source": [
    "re.findall('[Ff]rom', text2)"
   ]
  },
  {
   "cell_type": "code",
   "execution_count": 14,
   "id": "86568671",
   "metadata": {},
   "outputs": [
    {
     "data": {
      "text/plain": [
       "['chao.ding@hku.hk', 'eric.wong@hku.hk', 'exam@friday']"
      ]
     },
     "execution_count": 14,
     "metadata": {},
     "output_type": "execute_result"
    }
   ],
   "source": [
    "pattern = re.compile(\"[a-z.]+@[a-z.]+\")\n",
    "# create a pattern to extract email address\n",
    "# a dot in a set matches with a real dot\n",
    "\n",
    "pattern.findall(text2)\n",
    "# but it does not match with michael.chau4@hku.hk\n",
    "# and it does match with exam@friday, which is not desired"
   ]
  },
  {
   "cell_type": "code",
   "execution_count": 15,
   "id": "f5735359",
   "metadata": {},
   "outputs": [
    {
     "data": {
      "text/plain": [
       "['chao.ding@hku.hk', 'eric.wong@hku.hk', 'michael.chau4@hku.hk']"
      ]
     },
     "execution_count": 15,
     "metadata": {},
     "output_type": "execute_result"
    }
   ],
   "source": [
    "pattern = re.compile(\"[a-z0-9.]+@[a-z]+[.][a-z]+\")\n",
    "# add another range 0-9 in the template\n",
    "\n",
    "pattern.findall(text2)\n",
    "# now you have all three email addresses"
   ]
  },
  {
   "cell_type": "code",
   "execution_count": 16,
   "id": "31ee608a",
   "metadata": {},
   "outputs": [
    {
     "data": {
      "text/plain": [
       "['chao.ding', 'eric.wong', 'michael.chau4']"
      ]
     },
     "execution_count": 16,
     "metadata": {},
     "output_type": "execute_result"
    }
   ],
   "source": [
    "# extract the part before @, use a pair of parenthese\n",
    "\n",
    "pattern = re.compile(\"([a-z0-9.]+)@[a-z]+[.][a-z]+\")\n",
    "pattern.findall(text2)"
   ]
  },
  {
   "cell_type": "code",
   "execution_count": 17,
   "id": "aa38b6e7",
   "metadata": {},
   "outputs": [
    {
     "data": {
      "text/plain": [
       "['2', '1', '9', '4', '2']"
      ]
     },
     "execution_count": 17,
     "metadata": {},
     "output_type": "execute_result"
    }
   ],
   "source": [
    "text3 = 'My 2 favorite numbers are 19 and 42'\n",
    "re.findall('[0-9]', text3)"
   ]
  },
  {
   "cell_type": "code",
   "execution_count": 18,
   "id": "15554db1",
   "metadata": {},
   "outputs": [
    {
     "data": {
      "text/plain": [
       "['2', '19', '42']"
      ]
     },
     "execution_count": 18,
     "metadata": {},
     "output_type": "execute_result"
    }
   ],
   "source": [
    "re.findall('[0-9]+', text3)\n",
    "# this is greedy matching"
   ]
  },
  {
   "cell_type": "code",
   "execution_count": 19,
   "id": "c064a028",
   "metadata": {},
   "outputs": [
    {
     "data": {
      "text/plain": [
       "['2', '1', '9', '4', '2']"
      ]
     },
     "execution_count": 19,
     "metadata": {},
     "output_type": "execute_result"
    }
   ],
   "source": [
    "re.findall('[0-9]+?', text3)\n",
    "# use ? to turn greedy matching to non-greedy"
   ]
  },
  {
   "cell_type": "code",
   "execution_count": 20,
   "id": "363743e4",
   "metadata": {},
   "outputs": [
    {
     "data": {
      "text/plain": [
       "['19', '42']"
      ]
     },
     "execution_count": 20,
     "metadata": {},
     "output_type": "execute_result"
    }
   ],
   "source": [
    "re.findall('[0-9]{2}', text3)\n",
    "# use {} to specify the exact number of occurences"
   ]
  },
  {
   "cell_type": "code",
   "execution_count": 167,
   "id": "48376108",
   "metadata": {},
   "outputs": [
    {
     "data": {
      "text/plain": [
       "['favor', 'ite', 'numbe', 'are', 'and']"
      ]
     },
     "execution_count": 167,
     "metadata": {},
     "output_type": "execute_result"
    }
   ],
   "source": [
    "re.findall('[^0-9 ]{3,5}', text3)\n",
    "# matches with substrings with a length from 3 to 5, but without any digits or spaces\n",
    "# note there is no space after ,\n",
    "# {} is also greedy matchin"
   ]
  },
  {
   "cell_type": "code",
   "execution_count": 40,
   "id": "92387f30",
   "metadata": {},
   "outputs": [
    {
     "data": {
      "text/plain": [
       "['favorite', 'numbers', 'are', 'and']"
      ]
     },
     "execution_count": 40,
     "metadata": {},
     "output_type": "execute_result"
    }
   ],
   "source": [
    "re.findall('[^0-9 ]{3,}', text3)\n",
    "# as many as possible, but at least three"
   ]
  },
  {
   "cell_type": "markdown",
   "id": "a51e9c6c",
   "metadata": {},
   "source": [
    "# Using escape characters"
   ]
  },
  {
   "cell_type": "code",
   "execution_count": 21,
   "id": "4b331020",
   "metadata": {},
   "outputs": [
    {
     "name": "stdout",
     "output_type": "stream",
     "text": [
      "['chao.ding@hku.hk']\n"
     ]
    }
   ],
   "source": [
    "text4 = 'From <chao.ding@hku.hk> Assignment 1'\n",
    "pattern = re.compile('<(\\S+@\\S+)>')\n",
    "matches = pattern.findall(text4)\n",
    "print(matches)"
   ]
  },
  {
   "cell_type": "code",
   "execution_count": 22,
   "id": "32b312a4",
   "metadata": {
    "scrolled": true
   },
   "outputs": [
    {
     "data": {
      "text/plain": [
       "'hku.hk'"
      ]
     },
     "execution_count": 22,
     "metadata": {},
     "output_type": "execute_result"
    }
   ],
   "source": [
    "re.findall('@(\\S+)>', text4)[0]    \n",
    "# using list index to get a specific string in the list"
   ]
  },
  {
   "cell_type": "code",
   "execution_count": 23,
   "id": "2eafc662",
   "metadata": {
    "scrolled": true
   },
   "outputs": [
    {
     "data": {
      "text/plain": [
       "['From', 'chao', 'ding', 'hku', 'hk', 'Assignment', '1']"
      ]
     },
     "execution_count": 23,
     "metadata": {},
     "output_type": "execute_result"
    }
   ],
   "source": [
    "re.findall('\\w+', text4)\n",
    "# matches with string containing any word characters\n",
    "# characters from a to Z, digits from 0-9, and the underscore _ character"
   ]
  },
  {
   "cell_type": "code",
   "execution_count": 24,
   "id": "e0e5cd48",
   "metadata": {},
   "outputs": [
    {
     "data": {
      "text/plain": [
       "['chao.ding', 'hku.hk']"
      ]
     },
     "execution_count": 24,
     "metadata": {},
     "output_type": "execute_result"
    }
   ],
   "source": [
    "re.findall('\\w+\\.\\w+', text4)\n",
    "# \\. matches with a real dot as well\n",
    "# similar to [.]"
   ]
  },
  {
   "cell_type": "code",
   "execution_count": 25,
   "id": "44af9fed",
   "metadata": {},
   "outputs": [
    {
     "data": {
      "text/plain": [
       "['10', '88', '20']"
      ]
     },
     "execution_count": 25,
     "metadata": {},
     "output_type": "execute_result"
    }
   ],
   "source": [
    "text5 = 'We just received $10.88 for 20 cookies.'\n",
    "re.findall('\\d+', text5)"
   ]
  },
  {
   "cell_type": "code",
   "execution_count": 26,
   "id": "e784258e",
   "metadata": {},
   "outputs": [
    {
     "data": {
      "text/plain": [
       "'$10'"
      ]
     },
     "execution_count": 26,
     "metadata": {},
     "output_type": "execute_result"
    }
   ],
   "source": [
    "re.findall('\\$\\d+', text5)[0]"
   ]
  },
  {
   "cell_type": "code",
   "execution_count": 27,
   "id": "8ef6b858",
   "metadata": {},
   "outputs": [
    {
     "data": {
      "text/plain": [
       "['is1', 'is2', 'is3']"
      ]
     },
     "execution_count": 27,
     "metadata": {},
     "output_type": "execute_result"
    }
   ],
   "source": [
    "# \\b: word boundary\n",
    "# the use of \\b needs to be combined with a raw string\n",
    "\n",
    "text6 = \"Lis1bon is2 an oasis3\"\n",
    "re.findall(r'is[0-9]', text6)"
   ]
  },
  {
   "cell_type": "code",
   "execution_count": 28,
   "id": "07726695",
   "metadata": {},
   "outputs": [
    {
     "data": {
      "text/plain": [
       "['is2']"
      ]
     },
     "execution_count": 28,
     "metadata": {},
     "output_type": "execute_result"
    }
   ],
   "source": [
    "re.findall(r'\\bis[0-9]', text6)"
   ]
  },
  {
   "cell_type": "code",
   "execution_count": 29,
   "id": "eb1cd62b",
   "metadata": {},
   "outputs": [
    {
     "data": {
      "text/plain": [
       "['is2', 'is3']"
      ]
     },
     "execution_count": 29,
     "metadata": {},
     "output_type": "execute_result"
    }
   ],
   "source": [
    "re.findall(r'is[0-9]\\b', text6)"
   ]
  },
  {
   "cell_type": "code",
   "execution_count": 30,
   "id": "f55890b1",
   "metadata": {},
   "outputs": [
    {
     "data": {
      "text/plain": [
       "['is2']"
      ]
     },
     "execution_count": 30,
     "metadata": {},
     "output_type": "execute_result"
    }
   ],
   "source": [
    "re.findall(r'\\bis[0-9]\\b', text6)"
   ]
  },
  {
   "cell_type": "markdown",
   "id": "f50906c2",
   "metadata": {},
   "source": [
    "# Splitting strings & Substituting substrings"
   ]
  },
  {
   "cell_type": "code",
   "execution_count": 31,
   "id": "28adeada",
   "metadata": {},
   "outputs": [
    {
     "data": {
      "text/plain": [
       "['The', 'University', 'of Hong Kong (HKU)']"
      ]
     },
     "execution_count": 31,
     "metadata": {},
     "output_type": "execute_result"
    }
   ],
   "source": [
    "text7 = 'The University of Hong Kong (HKU)'\n",
    "re.split('\\s', text7, 2)\n",
    "# third argument: makes 2 splits"
   ]
  },
  {
   "cell_type": "code",
   "execution_count": 32,
   "id": "61035dad",
   "metadata": {},
   "outputs": [
    {
     "data": {
      "text/plain": [
       "['The', 'University', 'of', 'Hong', 'Kong', 'HKU', '']"
      ]
     },
     "execution_count": 32,
     "metadata": {},
     "output_type": "execute_result"
    }
   ],
   "source": [
    "re.split('\\W+', text7)"
   ]
  },
  {
   "cell_type": "code",
   "execution_count": 33,
   "id": "545067e2",
   "metadata": {},
   "outputs": [
    {
     "data": {
      "text/plain": [
       "'The University of Hong Kong --HKU--'"
      ]
     },
     "execution_count": 33,
     "metadata": {},
     "output_type": "execute_result"
    }
   ],
   "source": [
    "re.sub('\\(|\\)', '--', text7)\n",
    "# replace parenthese with --"
   ]
  },
  {
   "cell_type": "code",
   "execution_count": 34,
   "id": "9f06bedd",
   "metadata": {},
   "outputs": [
    {
     "data": {
      "text/plain": [
       "'The University of Hong Kong'"
      ]
     },
     "execution_count": 34,
     "metadata": {},
     "output_type": "execute_result"
    }
   ],
   "source": [
    "re.sub('\\s\\(.+\\)', '', text7)\n",
    "# remove the content in the parenthese"
   ]
  },
  {
   "cell_type": "code",
   "execution_count": 35,
   "id": "81e0fbdc",
   "metadata": {},
   "outputs": [
    {
     "data": {
      "text/plain": [
       "'The University of Hong Kong'"
      ]
     },
     "execution_count": 35,
     "metadata": {},
     "output_type": "execute_result"
    }
   ],
   "source": [
    "re.sub('\\s[(].+[)]', '', text7)"
   ]
  },
  {
   "cell_type": "code",
   "execution_count": 36,
   "id": "8196e650",
   "metadata": {},
   "outputs": [
    {
     "data": {
      "text/plain": [
       "'The University of Hong Kong'"
      ]
     },
     "execution_count": 36,
     "metadata": {},
     "output_type": "execute_result"
    }
   ],
   "source": [
    "# another way to remove the content in the parenthese: using string slicing\n",
    "text7[0 : text7.find('(')-1]"
   ]
  },
  {
   "cell_type": "markdown",
   "id": "b1b956d4",
   "metadata": {},
   "source": [
    "# about flags"
   ]
  },
  {
   "cell_type": "code",
   "execution_count": 5,
   "id": "0b95a375",
   "metadata": {
    "scrolled": true
   },
   "outputs": [
    {
     "data": {
      "text/plain": [
       "['The', 'University', 'of', 'Hong', 'Kong', 'HKU']"
      ]
     },
     "execution_count": 5,
     "metadata": {},
     "output_type": "execute_result"
    }
   ],
   "source": [
    "re.findall('[a-z]+', text7, flags = re.I)"
   ]
  },
  {
   "cell_type": "code",
   "execution_count": 21,
   "id": "c7d0c9d4",
   "metadata": {},
   "outputs": [
    {
     "data": {
      "text/plain": [
       "['he Univ', 'of Hong']"
      ]
     },
     "execution_count": 21,
     "metadata": {},
     "output_type": "execute_result"
    }
   ],
   "source": [
    "# to add multiple flags\n",
    "re.findall(\"\"\"[a-z]{2}            # {4} means to match exactly 4\n",
    "                    \\s[a-z]{4}    # \\s means to match with a space\"\"\",\n",
    "          text7, flags = re.I | re.X)\n",
    "\n",
    "#  re.X: to allow comments in the pattern."
   ]
  },
  {
   "cell_type": "code",
   "execution_count": 26,
   "id": "09c0e368",
   "metadata": {},
   "outputs": [
    {
     "data": {
      "text/plain": [
       "['Regex', 'Flags']"
      ]
     },
     "execution_count": 26,
     "metadata": {},
     "output_type": "execute_result"
    }
   ],
   "source": [
    "s = \"\"\"Regex\n",
    "Flags\"\"\"\n",
    "\n",
    "re.findall('^\\w+', s, re.M)  \n",
    "# re.M: to match in multiple lines, each has a start and an end"
   ]
  }
 ],
 "metadata": {
  "kernelspec": {
   "display_name": "Python 3 (ipykernel)",
   "language": "python",
   "name": "python3"
  },
  "language_info": {
   "codemirror_mode": {
    "name": "ipython",
    "version": 3
   },
   "file_extension": ".py",
   "mimetype": "text/x-python",
   "name": "python",
   "nbconvert_exporter": "python",
   "pygments_lexer": "ipython3",
   "version": "3.8.2"
  }
 },
 "nbformat": 4,
 "nbformat_minor": 5
}
