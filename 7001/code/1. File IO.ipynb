{
 "cells": [
  {
   "cell_type": "markdown",
   "id": "8899eb5c",
   "metadata": {},
   "source": [
    "# Text"
   ]
  },
  {
   "cell_type": "markdown",
   "id": "418b9520",
   "metadata": {},
   "source": [
    "## Reading from a text file"
   ]
  },
  {
   "cell_type": "code",
   "execution_count": 4,
   "id": "3d21faab",
   "metadata": {
    "scrolled": true
   },
   "outputs": [
    {
     "name": "stdout",
     "output_type": "stream",
     "text": [
      "<_io.TextIOWrapper name='../data_in/io_txt.txt' mode='r' encoding='UTF-8'>\n",
      "<class '_io.TextIOWrapper'>\n"
     ]
    }
   ],
   "source": [
    "handle = open('../data_in/io_txt.txt','r')\n",
    "print(handle)\n",
    "print(type(handle))"
   ]
  },
  {
   "cell_type": "code",
   "execution_count": 2,
   "id": "7858eb64",
   "metadata": {},
   "outputs": [
    {
     "name": "stdout",
     "output_type": "stream",
     "text": [
      "../data_in/io_txt.txt\n",
      "cp1252\n",
      "r\n",
      "False\n"
     ]
    }
   ],
   "source": [
    "# file attributes\n",
    "# use without the parentheses\n",
    "print(handle.name)\n",
    "print(handle.encoding)\n",
    "print(handle.mode)\n",
    "print(handle.closed)"
   ]
  },
  {
   "cell_type": "code",
   "execution_count": 3,
   "id": "e0195245",
   "metadata": {
    "scrolled": true
   },
   "outputs": [
    {
     "name": "stdout",
     "output_type": "stream",
     "text": [
      "True\n",
      "False\n"
     ]
    }
   ],
   "source": [
    "print(handle.readable())\n",
    "print(handle.writable())\n",
    "# because the file is open for reading, mode is r."
   ]
  },
  {
   "cell_type": "code",
   "execution_count": 4,
   "id": "e135465c",
   "metadata": {},
   "outputs": [
    {
     "name": "stdout",
     "output_type": "stream",
     "text": [
      "20\n"
     ]
    }
   ],
   "source": [
    "count = 0\n",
    "for line in handle:\n",
    "    count += 1\n",
    "print(count)"
   ]
  },
  {
   "cell_type": "code",
   "execution_count": 5,
   "id": "299089fb",
   "metadata": {},
   "outputs": [
    {
     "name": "stdout",
     "output_type": "stream",
     "text": [
      "0\n"
     ]
    }
   ],
   "source": [
    "# After previous operation on the handle, \n",
    "# the pointer is moved to the end of the file.\n",
    "# There is nothing more to be read.\n",
    "\n",
    "count = 0\n",
    "for line in handle:\n",
    "    count += 1\n",
    "print(count)"
   ]
  },
  {
   "cell_type": "code",
   "execution_count": 6,
   "id": "5e657659",
   "metadata": {},
   "outputs": [
    {
     "data": {
      "text/plain": [
       "745"
      ]
     },
     "execution_count": 6,
     "metadata": {},
     "output_type": "execute_result"
    }
   ],
   "source": [
    "# use tell method to find out the current position of the pointer\n",
    "\n",
    "handle.tell()"
   ]
  },
  {
   "cell_type": "code",
   "execution_count": 7,
   "id": "142a2e77",
   "metadata": {},
   "outputs": [
    {
     "name": "stdout",
     "output_type": "stream",
     "text": [
      "20\n"
     ]
    }
   ],
   "source": [
    "# If you want to use the file again,\n",
    "# you need to move the pointer back to the start of the file.\n",
    "# To do so, use method seek(0) on the handle.\n",
    "\n",
    "handle.seek(0)\n",
    "count = 0\n",
    "for line in handle:\n",
    "    count += 1\n",
    "print(count)\n",
    "\n",
    "handle.close()"
   ]
  },
  {
   "cell_type": "code",
   "execution_count": 8,
   "id": "cfd3fbd4",
   "metadata": {},
   "outputs": [
    {
     "data": {
      "text/plain": [
       "726"
      ]
     },
     "execution_count": 8,
     "metadata": {},
     "output_type": "execute_result"
    }
   ],
   "source": [
    "handle2 = open('../data_in/io_txt.txt')\n",
    "len(handle2.read())  \n",
    "\n",
    "# read() reads the whole file as a single string"
   ]
  },
  {
   "cell_type": "code",
   "execution_count": 9,
   "id": "bb9d4888",
   "metadata": {},
   "outputs": [
    {
     "data": {
      "text/plain": [
       "0"
      ]
     },
     "execution_count": 9,
     "metadata": {},
     "output_type": "execute_result"
    }
   ],
   "source": [
    "len(handle2.read())  \n",
    "\n",
    "# Again, now the pointer is at the end of the file,\n",
    "# nothing more to be read."
   ]
  },
  {
   "cell_type": "code",
   "execution_count": 10,
   "id": "19a64f9c",
   "metadata": {},
   "outputs": [
    {
     "data": {
      "text/plain": [
       "726"
      ]
     },
     "execution_count": 10,
     "metadata": {},
     "output_type": "execute_result"
    }
   ],
   "source": [
    "handle2.seek(0)\n",
    "len(handle2.read())  "
   ]
  },
  {
   "cell_type": "code",
   "execution_count": 11,
   "id": "0fe757f2",
   "metadata": {},
   "outputs": [
    {
     "data": {
      "text/plain": [
       "'Two roads '"
      ]
     },
     "execution_count": 11,
     "metadata": {},
     "output_type": "execute_result"
    }
   ],
   "source": [
    "handle2.seek(0)\n",
    "handle2.read(10)    \n",
    "# read the first 10 characters."
   ]
  },
  {
   "cell_type": "code",
   "execution_count": 12,
   "id": "d092f6cf",
   "metadata": {},
   "outputs": [
    {
     "data": {
      "text/plain": [
       "'diverged'"
      ]
     },
     "execution_count": 12,
     "metadata": {},
     "output_type": "execute_result"
    }
   ],
   "source": [
    "handle2.read(8) \n",
    "# continue to read the next 8 characters. "
   ]
  },
  {
   "cell_type": "code",
   "execution_count": 13,
   "id": "340061d6",
   "metadata": {},
   "outputs": [
    {
     "data": {
      "text/plain": [
       "' in a yellow wood,\\nAnd sorry I could not travel both\\nAnd be one traveler, long I stood\\nAnd looked down one as far as I could\\nTo where it bent in the undergrowth;\\nThen took the other, as just as fair,\\nAnd having perhaps the better claim,\\nBecause it was grassy and wanted wear;\\nThough as for that the passing there\\nHad worn them really about the same,\\nAnd both that morning equally lay\\nIn leaves no step had trodden black.\\nOh, I kept the first for another day!\\nYet knowing how way leads on to way,\\nI doubted if I should ever come back.\\nI shall be telling this with a sigh\\nSomewhere ages and ages hence:\\nTwo roads diverged in a wood, and I-\\nI took the one less traveled by,\\nAnd that has made all the difference.'"
      ]
     },
     "execution_count": 13,
     "metadata": {},
     "output_type": "execute_result"
    }
   ],
   "source": [
    "handle2.read(-9)\n",
    "# if it's negative, continue to read until the end of the file."
   ]
  },
  {
   "cell_type": "code",
   "execution_count": 14,
   "id": "16475da6",
   "metadata": {},
   "outputs": [
    {
     "data": {
      "text/plain": [
       "'Two roads diverged in a yellow wood,\\n'"
      ]
     },
     "execution_count": 14,
     "metadata": {},
     "output_type": "execute_result"
    }
   ],
   "source": [
    "handle2.seek(0)\n",
    "handle2.readline()   \n",
    "# read the first line as a string."
   ]
  },
  {
   "cell_type": "code",
   "execution_count": 15,
   "id": "cf72dee6",
   "metadata": {},
   "outputs": [
    {
     "data": {
      "text/plain": [
       "'And sorry I could not travel both\\n'"
      ]
     },
     "execution_count": 15,
     "metadata": {},
     "output_type": "execute_result"
    }
   ],
   "source": [
    "handle2.readline()   \n",
    "# continue to read the next line as a string."
   ]
  },
  {
   "cell_type": "code",
   "execution_count": 16,
   "id": "8c8fef97",
   "metadata": {},
   "outputs": [
    {
     "data": {
      "text/plain": [
       "['And be one traveler, long I stood\\n',\n",
       " 'And looked down one as far as I could\\n',\n",
       " 'To where it bent in the undergrowth;\\n',\n",
       " 'Then took the other, as just as fair,\\n',\n",
       " 'And having perhaps the better claim,\\n',\n",
       " 'Because it was grassy and wanted wear;\\n',\n",
       " 'Though as for that the passing there\\n',\n",
       " 'Had worn them really about the same,\\n',\n",
       " 'And both that morning equally lay\\n',\n",
       " 'In leaves no step had trodden black.\\n',\n",
       " 'Oh, I kept the first for another day!\\n',\n",
       " 'Yet knowing how way leads on to way,\\n',\n",
       " 'I doubted if I should ever come back.\\n',\n",
       " 'I shall be telling this with a sigh\\n',\n",
       " 'Somewhere ages and ages hence:\\n',\n",
       " 'Two roads diverged in a wood, and I-\\n',\n",
       " 'I took the one less traveled by,\\n',\n",
       " 'And that has made all the difference.']"
      ]
     },
     "execution_count": 16,
     "metadata": {},
     "output_type": "execute_result"
    }
   ],
   "source": [
    "handle2.readlines()    \n",
    "# continue to read the rest of the lines as a list of strings."
   ]
  },
  {
   "cell_type": "code",
   "execution_count": 17,
   "id": "63523df1",
   "metadata": {},
   "outputs": [
    {
     "name": "stdout",
     "output_type": "stream",
     "text": [
      "And sorry I could not travel both\n",
      "And be one traveler, long I stood\n",
      "And looked down one as far as I could\n",
      "In leaves no step had trodden black.\n",
      "Oh, I kept the first for another day!\n",
      "I doubted if I should ever come back.\n",
      "I shall be telling this with a sigh\n",
      "Two roads diverged in a wood, and I-\n",
      "I took the one less traveled by,\n"
     ]
    }
   ],
   "source": [
    "handle2.seek(0) \n",
    "\n",
    "for line in handle2:\n",
    "    line = line.rstrip()\n",
    "    if 'I' in line: print(line)\n",
    "handle2.close()"
   ]
  },
  {
   "cell_type": "code",
   "execution_count": 19,
   "id": "4e5ef0bd",
   "metadata": {},
   "outputs": [],
   "source": [
    "handle3 = open('../data_in/io_txt.txt')\n",
    "handle3.readline()\n",
    "handle3.close()\n",
    "\n",
    "# When you run this, nothing is produced.\n",
    "# Because the first line is temporarily read to the memory.\n",
    "# Once the file is closed, memory is cleared."
   ]
  },
  {
   "cell_type": "code",
   "execution_count": 20,
   "id": "5ca1d505",
   "metadata": {},
   "outputs": [
    {
     "name": "stdout",
     "output_type": "stream",
     "text": [
      "Two roads diverged in a yellow wood,\n",
      "\n"
     ]
    }
   ],
   "source": [
    "# In order to use the content from the file,\n",
    "# assign it to a variable first.\n",
    "handle4 = open('../data_in/io_txt.txt')\n",
    "first_line = handle4.readline()\n",
    "handle4.close()\n",
    "print(first_line)"
   ]
  },
  {
   "cell_type": "markdown",
   "id": "a06e0141",
   "metadata": {},
   "source": [
    "## Writing to a text file"
   ]
  },
  {
   "cell_type": "code",
   "execution_count": 21,
   "id": "d06585f3",
   "metadata": {},
   "outputs": [],
   "source": [
    "with open('../data_out/hkubs.txt', 'w', newline = '') as fout:\n",
    "    line1 = 'HKU Business School was established in 2001.\\n'\n",
    "    # specify newlines when you write data to a text file.\n",
    "    fout.write(line1)\n",
    "    \n",
    "    line2 = 'She is now home to seven great master programs including MSc(BA).\\n'\n",
    "    fout.write(line2)"
   ]
  },
  {
   "cell_type": "code",
   "execution_count": 22,
   "id": "6617e479",
   "metadata": {},
   "outputs": [],
   "source": [
    "with open('../data_out/hkubs.txt', 'a', newline = '') as fout:\n",
    "    line3 = 'We have campuses in HK, SZ, BJ, Ho Chi Minh City, and Tel Aviv.\\n'\n",
    "    fout.write(line3)"
   ]
  },
  {
   "cell_type": "code",
   "execution_count": 23,
   "id": "83f8d82d",
   "metadata": {},
   "outputs": [],
   "source": [
    "with open('../data_out//hkubs.txt', 'a', newline = '') as fout:\n",
    "    # mode 'a' means to append to the existing content.\n",
    "    lines = \"\"\"\\nMy favorite course\n",
    "    is without a doubt\n",
    "    MSBA7001.\n",
    "    \"\"\"\n",
    "    fout.write(lines)"
   ]
  },
  {
   "cell_type": "code",
   "execution_count": null,
   "id": "fffd1c41",
   "metadata": {},
   "outputs": [],
   "source": [
    "# to open multiple files at the same time\n",
    "\n",
    "handle1 = open()\n",
    "handle2 = open()\n",
    "# do something with both handles\n",
    "handle1.close()\n",
    "handle2.close()"
   ]
  },
  {
   "cell_type": "code",
   "execution_count": null,
   "id": "81fb88a0",
   "metadata": {},
   "outputs": [],
   "source": [
    "# to open multiple files at the same time\n",
    "# with open(\"file_1.txt\") as f1, open(\"file_2.txt\") as f2:"
   ]
  },
  {
   "cell_type": "markdown",
   "id": "451a2fe9",
   "metadata": {},
   "source": [
    "# CSV"
   ]
  },
  {
   "cell_type": "markdown",
   "id": "7f948211",
   "metadata": {},
   "source": [
    "## Reading from a csv file"
   ]
  },
  {
   "cell_type": "code",
   "execution_count": 24,
   "id": "92085b14",
   "metadata": {},
   "outputs": [],
   "source": [
    "import csv"
   ]
  },
  {
   "cell_type": "code",
   "execution_count": 25,
   "id": "7190da96",
   "metadata": {
    "scrolled": false
   },
   "outputs": [
    {
     "name": "stdout",
     "output_type": "stream",
     "text": [
      "['name', 'age']\n",
      "['Peter', '22']\n",
      "['Jasmine', '21']\n",
      "['Sam', '24']\n",
      "['Chao', '20']\n"
     ]
    }
   ],
   "source": [
    "with open('../data_in/io_csv.csv', 'r', encoding = 'utf-8') as infile:\n",
    "    reader = csv.reader(infile)\n",
    "    for row in reader:\n",
    "        print(row)"
   ]
  },
  {
   "cell_type": "code",
   "execution_count": 26,
   "id": "28e8545b",
   "metadata": {},
   "outputs": [
    {
     "name": "stdout",
     "output_type": "stream",
     "text": [
      "name,age\n",
      "\n",
      "Peter,22\n",
      "\n",
      "Jasmine,21\n",
      "\n",
      "Sam,24\n",
      "\n",
      "Chao,20\n",
      "\n"
     ]
    }
   ],
   "source": [
    "# without reader object, every line is still read as a string\n",
    "with open('../data_in/io_csv.csv', 'r', encoding = 'utf-8') as infile:\n",
    "    for row in infile:\n",
    "        print(row)"
   ]
  },
  {
   "cell_type": "code",
   "execution_count": 27,
   "id": "6fcddd45",
   "metadata": {},
   "outputs": [
    {
     "name": "stdout",
     "output_type": "stream",
     "text": [
      "name, age\n",
      "Peter, 22\n",
      "Jasmine, 21\n",
      "Sam, 24\n",
      "Chao, 20\n"
     ]
    }
   ],
   "source": [
    "with open('../data_in/io_csv.csv', 'r', encoding = 'utf-8') as infile:\n",
    "    reader = csv.reader(infile)\n",
    "    for row in reader:\n",
    "        print(f'{row[0]}, {row[1]}')"
   ]
  },
  {
   "cell_type": "code",
   "execution_count": 28,
   "id": "4c709040",
   "metadata": {},
   "outputs": [],
   "source": [
    "# or, simply turn the content into a list of lists\n",
    "with open('../data_in/io_csv.csv', 'r', encoding = 'utf-8') as infile:\n",
    "    reader = csv.reader(infile)\n",
    "    data = list(reader)"
   ]
  },
  {
   "cell_type": "code",
   "execution_count": 29,
   "id": "27670710",
   "metadata": {
    "scrolled": true
   },
   "outputs": [
    {
     "data": {
      "text/plain": [
       "[['name', 'age'],\n",
       " ['Peter', '22'],\n",
       " ['Jasmine', '21'],\n",
       " ['Sam', '24'],\n",
       " ['Chao', '20']]"
      ]
     },
     "execution_count": 29,
     "metadata": {},
     "output_type": "execute_result"
    }
   ],
   "source": [
    "data"
   ]
  },
  {
   "cell_type": "markdown",
   "id": "a9ccc83b",
   "metadata": {},
   "source": [
    "## Extras: `zip` and `enumerate`"
   ]
  },
  {
   "cell_type": "code",
   "execution_count": 8,
   "id": "4ecd3afd",
   "metadata": {},
   "outputs": [
    {
     "name": "stdout",
     "output_type": "stream",
     "text": [
      "[('fall', 20), ('spring', 15), ('winter', 9)]\n",
      "(('fall', 20), ('spring', 15), ('winter', 9))\n",
      "{'fall': 20, 'spring': 15, 'winter': 9}\n"
     ]
    }
   ],
   "source": [
    "# the zip function takes iterables,\n",
    "# aggregates them and returns a zip object,\n",
    "# which we can convert to a list, tuple, or dictionary\n",
    "\n",
    "keys = ['fall', 'spring', 'winter']\n",
    "values = [20, 15, 9]\n",
    "print(list(zip(keys, values)))\n",
    "print(tuple(zip(keys, values)))\n",
    "print(dict(zip(keys, values)))"
   ]
  },
  {
   "cell_type": "code",
   "execution_count": 1,
   "id": "afe74d77",
   "metadata": {},
   "outputs": [
    {
     "name": "stdout",
     "output_type": "stream",
     "text": [
      "A 11 45\n",
      "B 23 67\n",
      "C 46 82\n"
     ]
    }
   ],
   "source": [
    "names = ['A', 'B', 'C']\n",
    "values = [11, 23, 46]\n",
    "ages = [45, 67, 82]\n",
    "for x, y, z in zip(names, values, ages):\n",
    "    print(x, y, z)"
   ]
  },
  {
   "cell_type": "code",
   "execution_count": 3,
   "id": "58b7db0f",
   "metadata": {
    "scrolled": false
   },
   "outputs": [
    {
     "name": "stdout",
     "output_type": "stream",
     "text": [
      "[(0, 'A'), (1, 'B'), (2, 'C')]\n",
      "((10, 'A'), (11, 'B'), (12, 'C'))\n",
      "{100: 'A', 101: 'B', 102: 'C'}\n"
     ]
    }
   ],
   "source": [
    "# the enumerate function takes one iterable and one starting index,\n",
    "# adds a counter to it and returns an enumerate object.\n",
    "# which we can convert to a list, a tuple, or a dictionary\n",
    "# essentially enumerate allows to add indice to values.\n",
    "\n",
    "obj1 = enumerate(names)\n",
    "# index starting from 0, the default setting\n",
    "obj2 = enumerate(names, 10)\n",
    "# index starting from 10\n",
    "obj3 = enumerate(names, 100)\n",
    "# index starting from 100\n",
    "print(list(obj1))\n",
    "print(tuple(obj2))\n",
    "print(dict(obj3))"
   ]
  },
  {
   "cell_type": "markdown",
   "id": "6837e4c8",
   "metadata": {},
   "source": [
    "## Writing to a csv file"
   ]
  },
  {
   "cell_type": "code",
   "execution_count": 31,
   "id": "cb80f81f",
   "metadata": {},
   "outputs": [
    {
     "name": "stdout",
     "output_type": "stream",
     "text": [
      "[('BA', 50, 0.5), ('A&F', 150, 0.7), ('ECON', 200, 0.3)]\n"
     ]
    }
   ],
   "source": [
    "# create a list of lists or a list of tuples as data to write.\n",
    "major = ['BA', 'A&F', 'ECON']\n",
    "size = [50, 150, 200]\n",
    "gender_ratio = [0.5, 0.7, 0.3]\n",
    "csvdata = list(zip(major, size, gender_ratio))\n",
    "\n",
    "print(csvdata)"
   ]
  },
  {
   "cell_type": "code",
   "execution_count": 32,
   "id": "7ecace0b",
   "metadata": {},
   "outputs": [],
   "source": [
    "with open('../data_out/programs.csv', 'w', newline = '', encoding = 'utf-8') as outfile:\n",
    "    writer_ = csv.writer(outfile)\n",
    "    \n",
    "    # use writerow() to write the first row, usually the header\n",
    "    writer_.writerow(['major', 'size', 'gender_ratio'])   \n",
    "    \n",
    "    # then write the following rows using writerows()\n",
    "    writer_.writerows(csvdata)"
   ]
  },
  {
   "cell_type": "code",
   "execution_count": 33,
   "id": "1807cb7b",
   "metadata": {},
   "outputs": [],
   "source": [
    "# append another row to the csv file\n",
    "with open('../data_out/programs.csv', 'a', newline = '', encoding = 'utf-8') as outfile:\n",
    "    writer_ = csv.writer(outfile)\n",
    "    newrow = 'HR', 30, 0.8\n",
    "    writer_.writerow(newrow)   "
   ]
  },
  {
   "cell_type": "markdown",
   "id": "02b4b7bc",
   "metadata": {},
   "source": [
    "# about encoding"
   ]
  },
  {
   "cell_type": "markdown",
   "id": "d9fc0538",
   "metadata": {},
   "source": [
    "From Wikipedia:\n",
    "UTF-8 is Universal Coded Character Set/Unicode Transformation Format - 8 bit.\n",
    "It is by far the most common encoding for the World Wide Web, accounting for over 97% of all web pages, and up to 100% for some languages, as of 2021"
   ]
  },
  {
   "cell_type": "code",
   "execution_count": 34,
   "id": "f02d14d6",
   "metadata": {},
   "outputs": [
    {
     "name": "stdout",
     "output_type": "stream",
     "text": [
      "La sÃ©rie d'essais \"Quoi de neuf dans Python\" reprend les plus importants changements entres les versions majeures de Python. Elles sont Ã  lire pour quiconque souhaitant Ãªtre Ã  jour suite Ã  une nouvelle sortie.\n"
     ]
    }
   ],
   "source": [
    "# by default, the encoding is not specified in the open function\n",
    "# then it will not be able to correctly read and write texts other than English letters.\n",
    "\n",
    "handle = open('../data_in/encoding_fr.txt','r')\n",
    "print(handle.read())"
   ]
  },
  {
   "cell_type": "code",
   "execution_count": 35,
   "id": "83b32a2d",
   "metadata": {},
   "outputs": [
    {
     "name": "stdout",
     "output_type": "stream",
     "text": [
      "La série d'essais \"Quoi de neuf dans Python\" reprend les plus importants changements entres les versions majeures de Python. Elles sont à lire pour quiconque souhaitant être à jour suite à une nouvelle sortie.\n"
     ]
    }
   ],
   "source": [
    "# fix that by specifying its encoding\n",
    "\n",
    "handle = open('../data_in/encoding_fr.txt','r', encoding = 'utf-8')\n",
    "print(handle.read())"
   ]
  },
  {
   "cell_type": "code",
   "execution_count": 36,
   "id": "5413546f",
   "metadata": {},
   "outputs": [
    {
     "ename": "UnicodeDecodeError",
     "evalue": "'charmap' codec can't decode byte 0x8f in position 2: character maps to <undefined>",
     "output_type": "error",
     "traceback": [
      "\u001b[1;31m---------------------------------------------------------------------------\u001b[0m",
      "\u001b[1;31mUnicodeDecodeError\u001b[0m                        Traceback (most recent call last)",
      "Input \u001b[1;32mIn [36]\u001b[0m, in \u001b[0;36m<cell line: 4>\u001b[1;34m()\u001b[0m\n\u001b[0;32m      1\u001b[0m \u001b[38;5;66;03m# for some Asian languages, Python may not even be able to read them.\u001b[39;00m\n\u001b[0;32m      3\u001b[0m handle \u001b[38;5;241m=\u001b[39m \u001b[38;5;28mopen\u001b[39m(\u001b[38;5;124m'\u001b[39m\u001b[38;5;124m../data_in/encoding_cn.txt\u001b[39m\u001b[38;5;124m'\u001b[39m,\u001b[38;5;124m'\u001b[39m\u001b[38;5;124mr\u001b[39m\u001b[38;5;124m'\u001b[39m)\n\u001b[1;32m----> 4\u001b[0m \u001b[38;5;28mprint\u001b[39m(\u001b[43mhandle\u001b[49m\u001b[38;5;241;43m.\u001b[39;49m\u001b[43mread\u001b[49m\u001b[43m(\u001b[49m\u001b[43m)\u001b[49m)\n",
      "File \u001b[1;32m~\\anaconda3\\lib\\encodings\\cp1252.py:23\u001b[0m, in \u001b[0;36mIncrementalDecoder.decode\u001b[1;34m(self, input, final)\u001b[0m\n\u001b[0;32m     22\u001b[0m \u001b[38;5;28;01mdef\u001b[39;00m \u001b[38;5;21mdecode\u001b[39m(\u001b[38;5;28mself\u001b[39m, \u001b[38;5;28minput\u001b[39m, final\u001b[38;5;241m=\u001b[39m\u001b[38;5;28;01mFalse\u001b[39;00m):\n\u001b[1;32m---> 23\u001b[0m     \u001b[38;5;28;01mreturn\u001b[39;00m \u001b[43mcodecs\u001b[49m\u001b[38;5;241;43m.\u001b[39;49m\u001b[43mcharmap_decode\u001b[49m\u001b[43m(\u001b[49m\u001b[38;5;28;43minput\u001b[39;49m\u001b[43m,\u001b[49m\u001b[38;5;28;43mself\u001b[39;49m\u001b[38;5;241;43m.\u001b[39;49m\u001b[43merrors\u001b[49m\u001b[43m,\u001b[49m\u001b[43mdecoding_table\u001b[49m\u001b[43m)\u001b[49m[\u001b[38;5;241m0\u001b[39m]\n",
      "\u001b[1;31mUnicodeDecodeError\u001b[0m: 'charmap' codec can't decode byte 0x8f in position 2: character maps to <undefined>"
     ]
    }
   ],
   "source": [
    "# for some Asian languages, Python may not even be able to read them.\n",
    "\n",
    "handle = open('../data_in/encoding_cn.txt','r')\n",
    "print(handle.read())"
   ]
  },
  {
   "cell_type": "code",
   "execution_count": 38,
   "id": "aaeb4093",
   "metadata": {},
   "outputs": [
    {
     "name": "stdout",
     "output_type": "stream",
     "text": [
      "像 Perl 語言一樣, Python 源代碼同樣遵循 GPL(GNU General Public License) 協議\n"
     ]
    }
   ],
   "source": [
    "# again, fix it by using encoding\n",
    "handle = open('../data_in/encoding_cn.txt','r', encoding = 'utf-8')\n",
    "print(handle.read())"
   ]
  },
  {
   "cell_type": "code",
   "execution_count": 35,
   "id": "5aaf29fc",
   "metadata": {},
   "outputs": [],
   "source": [
    "# similarly, when writing\n",
    "\n",
    "text = \">>>>像 Perl 語言一樣, Python 源代碼同樣遵循 GPL(GNU General Public License) 協議<<<<\"\n",
    "handle = open('../data_in/encoding_cn.txt','a', encoding = 'utf-8')\n",
    "handle.write(text)\n",
    "handle.close()"
   ]
  },
  {
   "cell_type": "markdown",
   "id": "fea4d0cb",
   "metadata": {},
   "source": [
    "# JSON"
   ]
  },
  {
   "cell_type": "markdown",
   "id": "c1298132",
   "metadata": {},
   "source": [
    "## Reading from a json file"
   ]
  },
  {
   "cell_type": "code",
   "execution_count": 39,
   "id": "2bd79b1a",
   "metadata": {},
   "outputs": [
    {
     "name": "stdout",
     "output_type": "stream",
     "text": [
      "<class 'dict'>\n"
     ]
    }
   ],
   "source": [
    "import json\n",
    "handle = open('../data_in/io_json.json', 'r', encoding = 'utf-8')\n",
    "data = json.load(handle)\n",
    "handle.close()\n",
    "print(type(data))"
   ]
  },
  {
   "cell_type": "code",
   "execution_count": 40,
   "id": "3f309918",
   "metadata": {},
   "outputs": [
    {
     "data": {
      "text/plain": [
       "{'quiz': {'sport': {'q1': {'question': 'Which one is correct team name in NBA?',\n",
       "    'options': ['New York Bulls',\n",
       "     'Los Angeles Kings',\n",
       "     'Golden State Warriros',\n",
       "     'Huston Rocket'],\n",
       "    'answer': 'Huston Rocket'}},\n",
       "  'maths': {'q1': {'question': '5 + 7 = ?',\n",
       "    'options': ['10', '11', '12', '13'],\n",
       "    'answer': '12'},\n",
       "   'q2': {'question': '12 - 8 = ?',\n",
       "    'options': ['1', '2', '3', '4'],\n",
       "    'answer': '4'}}}}"
      ]
     },
     "execution_count": 40,
     "metadata": {},
     "output_type": "execute_result"
    }
   ],
   "source": [
    "data"
   ]
  },
  {
   "cell_type": "code",
   "execution_count": 41,
   "id": "536e2b8b",
   "metadata": {
    "scrolled": true
   },
   "outputs": [
    {
     "name": "stdout",
     "output_type": "stream",
     "text": [
      "<class 'dict'>\n"
     ]
    }
   ],
   "source": [
    "# define a json string\n",
    "j_str = \"\"\"{\n",
    "    \"Name\": \"Chao Ding\",\n",
    "    \"Contact Number\": 12345678,\n",
    "    \"Email\": \"chao.ding@hku.hk\",\n",
    "    \"Hobbies\":[\"Hiking\", \"Tennis\", \"Photography\"]\n",
    "    }\"\"\"\n",
    "\n",
    "# convert to a python dictionary\n",
    "p_dict = json.loads(j_str)\n",
    "print(type(p_dict))"
   ]
  },
  {
   "cell_type": "code",
   "execution_count": 42,
   "id": "10ca8961",
   "metadata": {},
   "outputs": [
    {
     "data": {
      "text/plain": [
       "{'Name': 'Chao Ding',\n",
       " 'Contact Number': 12345678,\n",
       " 'Email': 'chao.ding@hku.hk',\n",
       " 'Hobbies': ['Hiking', 'Tennis', 'Photography']}"
      ]
     },
     "execution_count": 42,
     "metadata": {},
     "output_type": "execute_result"
    }
   ],
   "source": [
    "p_dict"
   ]
  },
  {
   "cell_type": "markdown",
   "id": "c8d4c47e",
   "metadata": {},
   "source": [
    "## Writing to a json file"
   ]
  },
  {
   "cell_type": "code",
   "execution_count": 43,
   "id": "2d603dda",
   "metadata": {},
   "outputs": [],
   "source": [
    "import json"
   ]
  },
  {
   "cell_type": "code",
   "execution_count": 44,
   "id": "6d2725b9",
   "metadata": {},
   "outputs": [
    {
     "name": "stdout",
     "output_type": "stream",
     "text": [
      "<class 'str'>\n"
     ]
    }
   ],
   "source": [
    "# define a python dictionary\n",
    "p_dict2 = {'business school':\n",
    "            ['BA', 'A&F', 'ECON'],\n",
    "           'engineering school':\n",
    "            ['CS', 'AI', 'SE']\n",
    "           }\n",
    "\n",
    "# convert to a json string\n",
    "j_str2 = json.dumps(p_dict2)\n",
    "print(type(j_str2))"
   ]
  },
  {
   "cell_type": "code",
   "execution_count": 45,
   "id": "dbbcac87",
   "metadata": {
    "scrolled": true
   },
   "outputs": [
    {
     "data": {
      "text/plain": [
       "'{\"business school\": [\"BA\", \"A&F\", \"ECON\"], \"engineering school\": [\"CS\", \"AI\", \"SE\"]}'"
      ]
     },
     "execution_count": 45,
     "metadata": {},
     "output_type": "execute_result"
    }
   ],
   "source": [
    "j_str2"
   ]
  },
  {
   "cell_type": "code",
   "execution_count": 46,
   "id": "13e2c0f2",
   "metadata": {},
   "outputs": [],
   "source": [
    "handle = open('../data_out/hku.json', 'w', encoding = 'utf-8')\n",
    "\n",
    "# write a python dictionary to a json file\n",
    "json.dump(p_dict2, handle, indent = 3)\n",
    "handle.close()"
   ]
  },
  {
   "cell_type": "code",
   "execution_count": 47,
   "id": "48ec01a7",
   "metadata": {},
   "outputs": [],
   "source": [
    "# since json is still a string,\n",
    "# we can also use the write method.\n",
    "with open('../data_out/hku2.json', 'w', encoding = 'utf-8') as handle:\n",
    "    handle.write(j_str2)"
   ]
  },
  {
   "cell_type": "markdown",
   "id": "aec45f85",
   "metadata": {},
   "source": [
    "## Exercise – word frequency"
   ]
  },
  {
   "cell_type": "code",
   "execution_count": 4,
   "id": "90dd87e1",
   "metadata": {},
   "outputs": [],
   "source": [
    "import json"
   ]
  },
  {
   "cell_type": "code",
   "execution_count": 5,
   "id": "57b30ae9",
   "metadata": {},
   "outputs": [],
   "source": [
    "with open('../data_in/twister.txt', 'r', encoding='utf-8') as handle:\n",
    "    words = handle.read().lower().split()"
   ]
  },
  {
   "cell_type": "code",
   "execution_count": 6,
   "id": "9f60cc7f",
   "metadata": {},
   "outputs": [
    {
     "name": "stdout",
     "output_type": "stream",
     "text": [
      "{'how': 1, 'much': 3, 'wood': 4, 'would': 3, 'a': 4, 'woodchuck': 4, 'chuck': 5, 'if': 2, 'could': 3, 'he': 2, 'as': 4, 'and': 1}\n"
     ]
    }
   ],
   "source": [
    "freq = {}\n",
    "for word in words:\n",
    "    freq[word] = freq.get(word, 0) + 1\n",
    "print(freq)"
   ]
  },
  {
   "cell_type": "code",
   "execution_count": 7,
   "id": "62aa3483",
   "metadata": {},
   "outputs": [],
   "source": [
    "with open('../data_out/freq.json', 'w') as handle:\n",
    "    json.dump(freq, handle, indent = 3)"
   ]
  },
  {
   "cell_type": "markdown",
   "id": "76e5e89c",
   "metadata": {},
   "source": [
    "## Exercise – tennis court"
   ]
  },
  {
   "cell_type": "code",
   "execution_count": 8,
   "id": "8acd14a0",
   "metadata": {},
   "outputs": [],
   "source": [
    "import json, csv"
   ]
  },
  {
   "cell_type": "code",
   "execution_count": 9,
   "id": "4a496f03",
   "metadata": {},
   "outputs": [],
   "source": [
    "handle = open('../data_in/tennis_raw.json', 'r', encoding='utf-8')\n",
    "content = json.load(handle)\n",
    "handle.close()"
   ]
  },
  {
   "cell_type": "code",
   "execution_count": 10,
   "id": "66d14bcd",
   "metadata": {},
   "outputs": [
    {
     "name": "stdout",
     "output_type": "stream",
     "text": [
      "<class 'list'> 55\n"
     ]
    }
   ],
   "source": [
    "# we usually check its type and length first to decide how to proceed\n",
    "print(type(content), len(content))"
   ]
  },
  {
   "cell_type": "code",
   "execution_count": 11,
   "id": "d572dbf8",
   "metadata": {
    "collapsed": true
   },
   "outputs": [
    {
     "data": {
      "text/plain": [
       "{'District_en': 'Kowloon City',\n",
       " 'District_cn': '九龍城區',\n",
       " 'Name_en': 'Ho Man Tin Sports Centre',\n",
       " 'Name_cn': '何文田體育館',\n",
       " 'Address_en': 'No.1 Chung Yee Street, Ho Man Tin, Kowloon.',\n",
       " 'Address_cn': '九龍何文田忠義街一號',\n",
       " 'GIHS': '72Zzw9WrNL',\n",
       " 'Court_no_en': '2',\n",
       " 'Court_no_b5': '2',\n",
       " 'Ancillary_facilities_en': \"<ul>\\r\\n<li>men's and ladies' changing rooms and toilets</li>\\r\\n<li>a fee-charging car park (including 1 designated disabled parking space)</li>\\r\\n<li>Other facilities include a table-tennis room with 10 table tennis tables and 2 American pool tables, an activity room, a fitness room and a children's play room.</li>\\r\\n<li>Barrier Free Facilities: Accessible Toilet, Accessible Lift, Tactile Guide Path, Visual Fire Alarm System, Braille Directory Map/Floor Plan</li>\\r\\n</ul>\",\n",
       " 'Ancillary_facilities_cn': '<ul>\\r\\n<li>男、女更衣室及洗手間</li>\\r\\n<li>1個收費停車場 (設有1個殘疾人士專用車位)</li>\\r\\n<li>其他設施包括1個乒乓球室(包括10張乒乓球桌和2張美式桌球桌)、1個活動室、1個健身室和1個兒童遊戲室</li>\\r\\n<li>無障礙設施：暢通易達洗手間、暢通易達升降機、觸覺引路帶、視像火警警報、觸覺點字及觸覺平面圖</li>\\r\\n</ul>',\n",
       " 'Opening_hours_en': '7 am to 11 pm daily <br />(Tennis Courts of Ho Man Tin Sports Centre has been temporarily closed until further notice）',\n",
       " 'Opening_hours_cn': '每日上午7時至晚上11時 <br />（何文田體育館-網球場現已暫停開放，直至另行通知）',\n",
       " 'Phone': '2762 7837',\n",
       " 'Remarks_en': '',\n",
       " 'Remarks_b5': '',\n",
       " 'Longitude': '114-10-52',\n",
       " 'Latitude': '22-18-43'}"
      ]
     },
     "execution_count": 11,
     "metadata": {},
     "output_type": "execute_result"
    }
   ],
   "source": [
    "# observe the first element to in order to design a strategy.\n",
    "content[0]"
   ]
  },
  {
   "cell_type": "markdown",
   "id": "15c57cd4",
   "metadata": {},
   "source": [
    "We want result to look like this:\n",
    "result = [\n",
    "                [name1, district1, court1, phone1],\n",
    "                [name2, district2, court2, phone2],\n",
    "                ...\n",
    "               ]"
   ]
  },
  {
   "cell_type": "code",
   "execution_count": 12,
   "id": "2d38a933",
   "metadata": {},
   "outputs": [],
   "source": [
    "tennis = []\n",
    "\n",
    "for item in content:\n",
    "    row = [\n",
    "                item['Name_en'],\n",
    "                item['District_en'],\n",
    "                item['Court_no_en'],\n",
    "                item['Phone'].replace(' / ', '/').replace(' ', '-')\n",
    "                ]\n",
    "    tennis.append(row)"
   ]
  },
  {
   "cell_type": "code",
   "execution_count": 13,
   "id": "cb657208",
   "metadata": {},
   "outputs": [
    {
     "name": "stdout",
     "output_type": "stream",
     "text": [
      "55\n"
     ]
    }
   ],
   "source": [
    "print(len(tennis))"
   ]
  },
  {
   "cell_type": "code",
   "execution_count": 14,
   "id": "1eaf0ad8",
   "metadata": {},
   "outputs": [
    {
     "name": "stdout",
     "output_type": "stream",
     "text": [
      "[['Ho Man Tin Sports Centre', 'Kowloon City', '2', '2762-7837'], ['Junction Road Park', 'Kowloon City', '6', '2336-4638'], ['Ma Tau Wai Service Reservoir Playground', 'Kowloon City', '4', '2713-7252/2711-1532']]\n"
     ]
    }
   ],
   "source": [
    "print(tennis[:3])"
   ]
  },
  {
   "cell_type": "code",
   "execution_count": 16,
   "id": "f0fdf878",
   "metadata": {},
   "outputs": [],
   "source": [
    "with open('../data_out/tennis_clean.csv', 'w', encoding='utf-8', newline = '') as outfile:\n",
    "    writer_ = csv.writer(outfile)\n",
    "    \n",
    "    header = ['Name', 'District', 'No_of_Courts', 'Phone']\n",
    "    writer_.writerow(header)\n",
    "    writer_.writerows(tennis)"
   ]
  },
  {
   "cell_type": "code",
   "execution_count": null,
   "id": "8158a89e",
   "metadata": {},
   "outputs": [],
   "source": [
    "# what if some courts do not have a phone number?\n",
    "# item['Phone'] will report keyerror\n",
    "# fix: use dict.get method"
   ]
  }
 ],
 "metadata": {
  "kernelspec": {
   "display_name": "Python 3 (ipykernel)",
   "language": "python",
   "name": "python3"
  },
  "language_info": {
   "codemirror_mode": {
    "name": "ipython",
    "version": 3
   },
   "file_extension": ".py",
   "mimetype": "text/x-python",
   "name": "python",
   "nbconvert_exporter": "python",
   "pygments_lexer": "ipython3",
   "version": "3.8.2"
  }
 },
 "nbformat": 4,
 "nbformat_minor": 5
}
