{
 "cells": [
  {
   "cell_type": "code",
   "execution_count": 1,
   "id": "fc5c088a",
   "metadata": {},
   "outputs": [],
   "source": [
    "import requests"
   ]
  },
  {
   "cell_type": "code",
   "execution_count": 2,
   "id": "84b4ab29",
   "metadata": {},
   "outputs": [],
   "source": [
    "url = 'http://www.example.com'\n",
    "resp = requests.get(url)"
   ]
  },
  {
   "cell_type": "code",
   "execution_count": 3,
   "id": "2a153797",
   "metadata": {},
   "outputs": [
    {
     "name": "stdout",
     "output_type": "stream",
     "text": [
      "{'Content-Encoding': 'gzip', 'Age': '306957', 'Cache-Control': 'max-age=604800', 'Content-Type': 'text/html; charset=UTF-8', 'Date': 'Tue, 19 Sep 2023 01:42:31 GMT', 'Etag': '\"3147526947+gzip\"', 'Expires': 'Tue, 26 Sep 2023 01:42:31 GMT', 'Last-Modified': 'Thu, 17 Oct 2019 07:18:26 GMT', 'Server': 'ECS (sab/5693)', 'Vary': 'Accept-Encoding', 'X-Cache': 'HIT', 'Content-Length': '648'}\n",
      "http://www.example.com/\n"
     ]
    }
   ],
   "source": [
    "print(resp.headers)\n",
    "print(resp.url)"
   ]
  },
  {
   "cell_type": "code",
   "execution_count": 4,
   "id": "78301b1f",
   "metadata": {},
   "outputs": [
    {
     "name": "stdout",
     "output_type": "stream",
     "text": [
      "200\n",
      "True\n"
     ]
    }
   ],
   "source": [
    "print(resp.status_code)\n",
    "print(resp.ok)"
   ]
  },
  {
   "cell_type": "markdown",
   "id": "718af6d6",
   "metadata": {},
   "source": [
    "**Common status codes**\n",
    "- 200: Success\n",
    "- 401: Unauthorized Error\n",
    "- 403: Forbidden\n",
    "- 404: Not Found"
   ]
  },
  {
   "cell_type": "code",
   "execution_count": 7,
   "id": "2e1f2802",
   "metadata": {
    "collapsed": true
   },
   "outputs": [
    {
     "name": "stdout",
     "output_type": "stream",
     "text": [
      "b'<!doctype html>\\n<html>\\n<head>\\n    <title>Example Domain</title>\\n\\n    <meta charset=\"utf-8\" />\\n    <meta http-equiv=\"Content-type\" content=\"text/html; charset=utf-8\" />\\n    <meta name=\"viewport\" content=\"width=device-width, initial-scale=1\" />\\n    <style type=\"text/css\">\\n    body {\\n        background-color: #f0f0f2;\\n        margin: 0;\\n        padding: 0;\\n        font-family: -apple-system, system-ui, BlinkMacSystemFont, \"Segoe UI\", \"Open Sans\", \"Helvetica Neue\", Helvetica, Arial, sans-serif;\\n        \\n    }\\n    div {\\n        width: 600px;\\n        margin: 5em auto;\\n        padding: 2em;\\n        background-color: #fdfdff;\\n        border-radius: 0.5em;\\n        box-shadow: 2px 3px 7px 2px rgba(0,0,0,0.02);\\n    }\\n    a:link, a:visited {\\n        color: #38488f;\\n        text-decoration: none;\\n    }\\n    @media (max-width: 700px) {\\n        div {\\n            margin: 0 auto;\\n            width: auto;\\n        }\\n    }\\n    </style>    \\n</head>\\n\\n<body>\\n<div>\\n    <h1>Example Domain</h1>\\n    <p>This domain is for use in illustrative examples in documents. You may use this\\n    domain in literature without prior coordination or asking for permission.</p>\\n    <p><a href=\"https://www.iana.org/domains/example\">More information...</a></p>\\n</div>\\n</body>\\n</html>\\n'\n",
      "------------------------------\n",
      "<class 'bytes'>\n"
     ]
    }
   ],
   "source": [
    "# content method returns a bytes object, works great when getting images and pdfs\n",
    "# which are considered as bytes.\n",
    "print(resp.content)\n",
    "print('-'*30)\n",
    "print(type(resp.content))"
   ]
  },
  {
   "cell_type": "code",
   "execution_count": 8,
   "id": "9f5f526e",
   "metadata": {
    "collapsed": true
   },
   "outputs": [
    {
     "data": {
      "text/plain": [
       "'<!doctype html>\\n<html>\\n<head>\\n    <title>Example Domain</title>\\n\\n    <meta charset=\"utf-8\" />\\n    <meta http-equiv=\"Content-type\" content=\"text/html; charset=utf-8\" />\\n    <meta name=\"viewport\" content=\"width=device-width, initial-scale=1\" />\\n    <style type=\"text/css\">\\n    body {\\n        background-color: #f0f0f2;\\n        margin: 0;\\n        padding: 0;\\n        font-family: -apple-system, system-ui, BlinkMacSystemFont, \"Segoe UI\", \"Open Sans\", \"Helvetica Neue\", Helvetica, Arial, sans-serif;\\n        \\n    }\\n    div {\\n        width: 600px;\\n        margin: 5em auto;\\n        padding: 2em;\\n        background-color: #fdfdff;\\n        border-radius: 0.5em;\\n        box-shadow: 2px 3px 7px 2px rgba(0,0,0,0.02);\\n    }\\n    a:link, a:visited {\\n        color: #38488f;\\n        text-decoration: none;\\n    }\\n    @media (max-width: 700px) {\\n        div {\\n            margin: 0 auto;\\n            width: auto;\\n        }\\n    }\\n    </style>    \\n</head>\\n\\n<body>\\n<div>\\n    <h1>Example Domain</h1>\\n    <p>This domain is for use in illustrative examples in documents. You may use this\\n    domain in literature without prior coordination or asking for permission.</p>\\n    <p><a href=\"https://www.iana.org/domains/example\">More information...</a></p>\\n</div>\\n</body>\\n</html>\\n'"
      ]
     },
     "execution_count": 8,
     "metadata": {},
     "output_type": "execute_result"
    }
   ],
   "source": [
    "# use decode to convert it to a string with encoding 'utf-8'\n",
    "resp.content.decode()"
   ]
  },
  {
   "cell_type": "code",
   "execution_count": 9,
   "id": "0349b973",
   "metadata": {
    "collapsed": true
   },
   "outputs": [
    {
     "data": {
      "text/plain": [
       "'<!doctype html>\\n<html>\\n<head>\\n    <title>Example Domain</title>\\n\\n    <meta charset=\"utf-8\" />\\n    <meta http-equiv=\"Content-type\" content=\"text/html; charset=utf-8\" />\\n    <meta name=\"viewport\" content=\"width=device-width, initial-scale=1\" />\\n    <style type=\"text/css\">\\n    body {\\n        background-color: #f0f0f2;\\n        margin: 0;\\n        padding: 0;\\n        font-family: -apple-system, system-ui, BlinkMacSystemFont, \"Segoe UI\", \"Open Sans\", \"Helvetica Neue\", Helvetica, Arial, sans-serif;\\n        \\n    }\\n    div {\\n        width: 600px;\\n        margin: 5em auto;\\n        padding: 2em;\\n        background-color: #fdfdff;\\n        border-radius: 0.5em;\\n        box-shadow: 2px 3px 7px 2px rgba(0,0,0,0.02);\\n    }\\n    a:link, a:visited {\\n        color: #38488f;\\n        text-decoration: none;\\n    }\\n    @media (max-width: 700px) {\\n        div {\\n            margin: 0 auto;\\n            width: auto;\\n        }\\n    }\\n    </style>    \\n</head>\\n\\n<body>\\n<div>\\n    <h1>Example Domain</h1>\\n    <p>This domain is for use in illustrative examples in documents. You may use this\\n    domain in literature without prior coordination or asking for permission.</p>\\n    <p><a href=\"https://www.iana.org/domains/example\">More information...</a></p>\\n</div>\\n</body>\\n</html>\\n'"
      ]
     },
     "execution_count": 9,
     "metadata": {},
     "output_type": "execute_result"
    }
   ],
   "source": [
    "# text method returns a string object, works great with source code itself.\n",
    "resp.text"
   ]
  },
  {
   "cell_type": "code",
   "execution_count": 10,
   "id": "b85d2fca",
   "metadata": {
    "collapsed": true
   },
   "outputs": [
    {
     "data": {
      "text/plain": [
       "['doctype',\n",
       " 'html',\n",
       " 'html',\n",
       " 'head',\n",
       " 'title',\n",
       " 'Example',\n",
       " 'Domain',\n",
       " 'title',\n",
       " 'meta',\n",
       " 'charset',\n",
       " 'utf',\n",
       " '8',\n",
       " 'meta',\n",
       " 'http',\n",
       " 'equiv',\n",
       " 'Content',\n",
       " 'type',\n",
       " 'content',\n",
       " 'text',\n",
       " 'html',\n",
       " 'charset',\n",
       " 'utf',\n",
       " '8',\n",
       " 'meta',\n",
       " 'name',\n",
       " 'viewport',\n",
       " 'content',\n",
       " 'width',\n",
       " 'device',\n",
       " 'width',\n",
       " 'initial',\n",
       " 'scale',\n",
       " '1',\n",
       " 'style',\n",
       " 'type',\n",
       " 'text',\n",
       " 'css',\n",
       " 'body',\n",
       " 'background',\n",
       " 'color',\n",
       " 'f0f0f2',\n",
       " 'margin',\n",
       " '0',\n",
       " 'padding',\n",
       " '0',\n",
       " 'font',\n",
       " 'family',\n",
       " 'apple',\n",
       " 'system',\n",
       " 'system',\n",
       " 'ui',\n",
       " 'BlinkMacSystemFont',\n",
       " 'Segoe',\n",
       " 'UI',\n",
       " 'Open',\n",
       " 'Sans',\n",
       " 'Helvetica',\n",
       " 'Neue',\n",
       " 'Helvetica',\n",
       " 'Arial',\n",
       " 'sans',\n",
       " 'serif',\n",
       " 'div',\n",
       " 'width',\n",
       " '600px',\n",
       " 'margin',\n",
       " '5em',\n",
       " 'auto',\n",
       " 'padding',\n",
       " '2em',\n",
       " 'background',\n",
       " 'color',\n",
       " 'fdfdff',\n",
       " 'border',\n",
       " 'radius',\n",
       " '0',\n",
       " '5em',\n",
       " 'box',\n",
       " 'shadow',\n",
       " '2px',\n",
       " '3px',\n",
       " '7px',\n",
       " '2px',\n",
       " 'rgba',\n",
       " '0',\n",
       " '0',\n",
       " '0',\n",
       " '0',\n",
       " '02',\n",
       " 'a',\n",
       " 'link',\n",
       " 'a',\n",
       " 'visited',\n",
       " 'color',\n",
       " '38488f',\n",
       " 'text',\n",
       " 'decoration',\n",
       " 'none',\n",
       " 'media',\n",
       " 'max',\n",
       " 'width',\n",
       " '700px',\n",
       " 'div',\n",
       " 'margin',\n",
       " '0',\n",
       " 'auto',\n",
       " 'width',\n",
       " 'auto',\n",
       " 'style',\n",
       " 'head',\n",
       " 'body',\n",
       " 'div',\n",
       " 'h1',\n",
       " 'Example',\n",
       " 'Domain',\n",
       " 'h1',\n",
       " 'p',\n",
       " 'This',\n",
       " 'domain',\n",
       " 'is',\n",
       " 'for',\n",
       " 'use',\n",
       " 'in',\n",
       " 'illustrative',\n",
       " 'examples',\n",
       " 'in',\n",
       " 'documents',\n",
       " 'You',\n",
       " 'may',\n",
       " 'use',\n",
       " 'this',\n",
       " 'domain',\n",
       " 'in',\n",
       " 'literature',\n",
       " 'without',\n",
       " 'prior',\n",
       " 'coordination',\n",
       " 'or',\n",
       " 'asking',\n",
       " 'for',\n",
       " 'permission',\n",
       " 'p',\n",
       " 'p',\n",
       " 'a',\n",
       " 'href',\n",
       " 'https',\n",
       " 'www',\n",
       " 'iana',\n",
       " 'org',\n",
       " 'domains',\n",
       " 'example',\n",
       " 'More',\n",
       " 'information',\n",
       " 'a',\n",
       " 'p',\n",
       " 'div',\n",
       " 'body',\n",
       " 'html']"
      ]
     },
     "execution_count": 10,
     "metadata": {},
     "output_type": "execute_result"
    }
   ],
   "source": [
    "# it is a string, so we can do regular expression\n",
    "import re\n",
    "re.findall(r'\\b\\w+\\b', resp.text)"
   ]
  },
  {
   "cell_type": "code",
   "execution_count": 11,
   "id": "18568034",
   "metadata": {
    "scrolled": true
   },
   "outputs": [
    {
     "name": "stdout",
     "output_type": "stream",
     "text": [
      "http://www.example.com/?page=2&language=en\n"
     ]
    }
   ],
   "source": [
    "# add a user agent header and parameter values in our request\n",
    "# both need to be a dictionary\n",
    "agent = {\n",
    "    'User-Agent' : 'Mozilla/5.0 (Windows NT 10.0; Win64; x64) AppleWebKit/537.36 (KHTML, like Gecko) Chrome/94.0.4606.71 Safari/537.36'\n",
    "}\n",
    "\n",
    "info = {\n",
    "    'page' : '2',\n",
    "    'language' : 'en'\n",
    "}\n",
    "\n",
    "resp2 = requests.get(url, headers = agent, params = info)\n",
    "print(resp2.url)"
   ]
  },
  {
   "cell_type": "code",
   "execution_count": 2,
   "id": "6b367c19",
   "metadata": {},
   "outputs": [
    {
     "data": {
      "text/plain": [
       "<Response [503]>"
      ]
     },
     "execution_count": 2,
     "metadata": {},
     "output_type": "execute_result"
    }
   ],
   "source": [
    "# parameter: verify\n",
    "# this is to verify the certificate\n",
    "requests.get('https://www.amazon.com', verify=True)\n",
    "\n",
    "# code 503, the request is not successfull"
   ]
  },
  {
   "cell_type": "code",
   "execution_count": 3,
   "id": "76a40eff",
   "metadata": {},
   "outputs": [
    {
     "name": "stderr",
     "output_type": "stream",
     "text": [
      "/Users/chao_ding/opt/anaconda3/lib/python3.8/site-packages/urllib3/connectionpool.py:1013: InsecureRequestWarning: Unverified HTTPS request is being made to host 'www.amazon.com'. Adding certificate verification is strongly advised. See: https://urllib3.readthedocs.io/en/1.26.x/advanced-usage.html#ssl-warnings\n",
      "  warnings.warn(\n"
     ]
    },
    {
     "data": {
      "text/plain": [
       "<Response [200]>"
      ]
     },
     "execution_count": 3,
     "metadata": {},
     "output_type": "execute_result"
    }
   ],
   "source": [
    "agent = {\n",
    "    'User-Agent' : 'Mozilla/5.0 (Windows NT 10.0; Win64; x64) AppleWebKit/537.36 (KHTML, like Gecko) Chrome/94.0.4606.71 Safari/537.36'\n",
    "}\n",
    "requests.get('https://www.amazon.com', headers = agent, verify=False)"
   ]
  },
  {
   "cell_type": "code",
   "execution_count": 5,
   "id": "6e362521",
   "metadata": {},
   "outputs": [
    {
     "data": {
      "text/plain": [
       "<Response [200]>"
      ]
     },
     "execution_count": 5,
     "metadata": {},
     "output_type": "execute_result"
    }
   ],
   "source": [
    "# turn off the warning message\n",
    "requests.packages.urllib3.disable_warnings()\n",
    "\n",
    "agent = {\n",
    "    'User-Agent' : 'Mozilla/5.0 (Windows NT 10.0; Win64; x64) AppleWebKit/537.36 (KHTML, like Gecko) Chrome/94.0.4606.71 Safari/537.36'\n",
    "}\n",
    "requests.get('https://www.amazon.com', headers = agent, verify=False)\n",
    "\n",
    "# always use this structure from now on."
   ]
  }
 ],
 "metadata": {
  "kernelspec": {
   "display_name": "Python 3 (ipykernel)",
   "language": "python",
   "name": "python3"
  },
  "language_info": {
   "codemirror_mode": {
    "name": "ipython",
    "version": 3
   },
   "file_extension": ".py",
   "mimetype": "text/x-python",
   "name": "python",
   "nbconvert_exporter": "python",
   "pygments_lexer": "ipython3",
   "version": "3.8.2"
  }
 },
 "nbformat": 4,
 "nbformat_minor": 5
}
