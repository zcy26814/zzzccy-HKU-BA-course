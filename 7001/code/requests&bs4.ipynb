{
 "cells": [
  {
   "cell_type": "markdown",
   "metadata": {},
   "source": [
    "# requestsget"
   ]
  },
  {
   "cell_type": "code",
   "execution_count": 1,
   "metadata": {},
   "outputs": [],
   "source": [
    "import requests"
   ]
  },
  {
   "cell_type": "code",
   "execution_count": 2,
   "metadata": {},
   "outputs": [
    {
     "data": {
      "text/plain": [
       "<function requests.api.get(url, params=None, **kwargs)>"
      ]
     },
     "execution_count": 2,
     "metadata": {},
     "output_type": "execute_result"
    }
   ],
   "source": [
    "requests.get"
   ]
  },
  {
   "cell_type": "code",
   "execution_count": 3,
   "metadata": {},
   "outputs": [],
   "source": [
    "url = 'https://www.example.com/'\n",
    "\n",
    "resp = requests.get(url)\n",
    "# this is a response object"
   ]
  },
  {
   "cell_type": "code",
   "execution_count": 4,
   "metadata": {},
   "outputs": [
    {
     "data": {
      "text/plain": [
       "'https://www.example.com/'"
      ]
     },
     "execution_count": 4,
     "metadata": {},
     "output_type": "execute_result"
    }
   ],
   "source": [
    "resp.url"
   ]
  },
  {
   "cell_type": "code",
   "execution_count": 5,
   "metadata": {},
   "outputs": [
    {
     "data": {
      "text/plain": [
       "200"
      ]
     },
     "execution_count": 5,
     "metadata": {},
     "output_type": "execute_result"
    }
   ],
   "source": [
    "resp.status_code"
   ]
  },
  {
   "cell_type": "code",
   "execution_count": 6,
   "metadata": {},
   "outputs": [
    {
     "data": {
      "text/plain": [
       "True"
      ]
     },
     "execution_count": 6,
     "metadata": {},
     "output_type": "execute_result"
    }
   ],
   "source": [
    "resp.ok"
   ]
  },
  {
   "cell_type": "code",
   "execution_count": 7,
   "metadata": {},
   "outputs": [
    {
     "data": {
      "text/plain": [
       "'<!doctype html>\\n<html>\\n<head>\\n    <title>Example Domain</title>\\n\\n    <meta charset=\"utf-8\" />\\n    <meta http-equiv=\"Content-type\" content=\"text/html; charset=utf-8\" />\\n    <meta name=\"viewport\" content=\"width=device-width, initial-scale=1\" />\\n    <style type=\"text/css\">\\n    body {\\n        background-color: #f0f0f2;\\n        margin: 0;\\n        padding: 0;\\n        font-family: -apple-system, system-ui, BlinkMacSystemFont, \"Segoe UI\", \"Open Sans\", \"Helvetica Neue\", Helvetica, Arial, sans-serif;\\n        \\n    }\\n    div {\\n        width: 600px;\\n        margin: 5em auto;\\n        padding: 2em;\\n        background-color: #fdfdff;\\n        border-radius: 0.5em;\\n        box-shadow: 2px 3px 7px 2px rgba(0,0,0,0.02);\\n    }\\n    a:link, a:visited {\\n        color: #38488f;\\n        text-decoration: none;\\n    }\\n    @media (max-width: 700px) {\\n        div {\\n            margin: 0 auto;\\n            width: auto;\\n        }\\n    }\\n    </style>    \\n</head>\\n\\n<body>\\n<div>\\n    <h1>Example Domain</h1>\\n    <p>This domain is for use in illustrative examples in documents. You may use this\\n    domain in literature without prior coordination or asking for permission.</p>\\n    <p><a href=\"https://www.iana.org/domains/example\">More information...</a></p>\\n</div>\\n</body>\\n</html>\\n'"
      ]
     },
     "execution_count": 7,
     "metadata": {},
     "output_type": "execute_result"
    }
   ],
   "source": [
    "resp.text"
   ]
  },
  {
   "cell_type": "code",
   "execution_count": 8,
   "metadata": {},
   "outputs": [
    {
     "data": {
      "text/plain": [
       "['<!doctype',\n",
       " 'html>',\n",
       " '<html>',\n",
       " '<head>',\n",
       " '<title>Example',\n",
       " 'Domain</title>',\n",
       " '<meta',\n",
       " 'charset=\"utf-8\"',\n",
       " '/>',\n",
       " '<meta',\n",
       " 'http-equiv=\"Content-type\"',\n",
       " 'content=\"text/html;',\n",
       " 'charset=utf-8\"',\n",
       " '/>',\n",
       " '<meta',\n",
       " 'name=\"viewport\"',\n",
       " 'content=\"width=device-width,',\n",
       " 'initial-scale=1\"',\n",
       " '/>',\n",
       " '<style',\n",
       " 'type=\"text/css\">',\n",
       " 'body',\n",
       " '{',\n",
       " 'background-color:',\n",
       " '#f0f0f2;',\n",
       " 'margin:',\n",
       " '0;',\n",
       " 'padding:',\n",
       " '0;',\n",
       " 'font-family:',\n",
       " '-apple-system,',\n",
       " 'system-ui,',\n",
       " 'BlinkMacSystemFont,',\n",
       " '\"Segoe',\n",
       " 'UI\",',\n",
       " '\"Open',\n",
       " 'Sans\",',\n",
       " '\"Helvetica',\n",
       " 'Neue\",',\n",
       " 'Helvetica,',\n",
       " 'Arial,',\n",
       " 'sans-serif;',\n",
       " '}',\n",
       " 'div',\n",
       " '{',\n",
       " 'width:',\n",
       " '600px;',\n",
       " 'margin:',\n",
       " '5em',\n",
       " 'auto;',\n",
       " 'padding:',\n",
       " '2em;',\n",
       " 'background-color:',\n",
       " '#fdfdff;',\n",
       " 'border-radius:',\n",
       " '0.5em;',\n",
       " 'box-shadow:',\n",
       " '2px',\n",
       " '3px',\n",
       " '7px',\n",
       " '2px',\n",
       " 'rgba(0,0,0,0.02);',\n",
       " '}',\n",
       " 'a:link,',\n",
       " 'a:visited',\n",
       " '{',\n",
       " 'color:',\n",
       " '#38488f;',\n",
       " 'text-decoration:',\n",
       " 'none;',\n",
       " '}',\n",
       " '@media',\n",
       " '(max-width:',\n",
       " '700px)',\n",
       " '{',\n",
       " 'div',\n",
       " '{',\n",
       " 'margin:',\n",
       " '0',\n",
       " 'auto;',\n",
       " 'width:',\n",
       " 'auto;',\n",
       " '}',\n",
       " '}',\n",
       " '</style>',\n",
       " '</head>',\n",
       " '<body>',\n",
       " '<div>',\n",
       " '<h1>Example',\n",
       " 'Domain</h1>',\n",
       " '<p>This',\n",
       " 'domain',\n",
       " 'is',\n",
       " 'for',\n",
       " 'use',\n",
       " 'in',\n",
       " 'illustrative',\n",
       " 'examples',\n",
       " 'in',\n",
       " 'documents.',\n",
       " 'You',\n",
       " 'may',\n",
       " 'use',\n",
       " 'this',\n",
       " 'domain',\n",
       " 'in',\n",
       " 'literature',\n",
       " 'without',\n",
       " 'prior',\n",
       " 'coordination',\n",
       " 'or',\n",
       " 'asking',\n",
       " 'for',\n",
       " 'permission.</p>',\n",
       " '<p><a',\n",
       " 'href=\"https://www.iana.org/domains/example\">More',\n",
       " 'information...</a></p>',\n",
       " '</div>',\n",
       " '</body>',\n",
       " '</html>']"
      ]
     },
     "execution_count": 8,
     "metadata": {},
     "output_type": "execute_result"
    }
   ],
   "source": [
    "resp.text.split()"
   ]
  },
  {
   "cell_type": "code",
   "execution_count": 9,
   "metadata": {},
   "outputs": [],
   "source": [
    "import re"
   ]
  },
  {
   "cell_type": "code",
   "execution_count": 10,
   "metadata": {},
   "outputs": [
    {
     "data": {
      "text/plain": [
       "['doctype',\n",
       " 'html',\n",
       " 'html',\n",
       " 'head',\n",
       " 'title',\n",
       " 'Example',\n",
       " 'Domain',\n",
       " 'title',\n",
       " 'meta',\n",
       " 'charset',\n",
       " 'utf',\n",
       " 'meta',\n",
       " 'http',\n",
       " 'equiv',\n",
       " 'Content',\n",
       " 'type',\n",
       " 'content',\n",
       " 'text',\n",
       " 'html',\n",
       " 'charset',\n",
       " 'utf',\n",
       " 'meta',\n",
       " 'name',\n",
       " 'viewport',\n",
       " 'content',\n",
       " 'width',\n",
       " 'device',\n",
       " 'width',\n",
       " 'initial',\n",
       " 'scale',\n",
       " 'style',\n",
       " 'type',\n",
       " 'text',\n",
       " 'css',\n",
       " 'body',\n",
       " 'background',\n",
       " 'color',\n",
       " 'f',\n",
       " 'f',\n",
       " 'f',\n",
       " 'margin',\n",
       " 'padding',\n",
       " 'font',\n",
       " 'family',\n",
       " 'apple',\n",
       " 'system',\n",
       " 'system',\n",
       " 'ui',\n",
       " 'BlinkMacSystemFont',\n",
       " 'Segoe',\n",
       " 'UI',\n",
       " 'Open',\n",
       " 'Sans',\n",
       " 'Helvetica',\n",
       " 'Neue',\n",
       " 'Helvetica',\n",
       " 'Arial',\n",
       " 'sans',\n",
       " 'serif',\n",
       " 'div',\n",
       " 'width',\n",
       " 'px',\n",
       " 'margin',\n",
       " 'em',\n",
       " 'auto',\n",
       " 'padding',\n",
       " 'em',\n",
       " 'background',\n",
       " 'color',\n",
       " 'fdfdff',\n",
       " 'border',\n",
       " 'radius',\n",
       " 'em',\n",
       " 'box',\n",
       " 'shadow',\n",
       " 'px',\n",
       " 'px',\n",
       " 'px',\n",
       " 'px',\n",
       " 'rgba',\n",
       " 'a',\n",
       " 'link',\n",
       " 'a',\n",
       " 'visited',\n",
       " 'color',\n",
       " 'f',\n",
       " 'text',\n",
       " 'decoration',\n",
       " 'none',\n",
       " 'media',\n",
       " 'max',\n",
       " 'width',\n",
       " 'px',\n",
       " 'div',\n",
       " 'margin',\n",
       " 'auto',\n",
       " 'width',\n",
       " 'auto',\n",
       " 'style',\n",
       " 'head',\n",
       " 'body',\n",
       " 'div',\n",
       " 'h',\n",
       " 'Example',\n",
       " 'Domain',\n",
       " 'h',\n",
       " 'p',\n",
       " 'This',\n",
       " 'domain',\n",
       " 'is',\n",
       " 'for',\n",
       " 'use',\n",
       " 'in',\n",
       " 'illustrative',\n",
       " 'examples',\n",
       " 'in',\n",
       " 'documents',\n",
       " 'You',\n",
       " 'may',\n",
       " 'use',\n",
       " 'this',\n",
       " 'domain',\n",
       " 'in',\n",
       " 'literature',\n",
       " 'without',\n",
       " 'prior',\n",
       " 'coordination',\n",
       " 'or',\n",
       " 'asking',\n",
       " 'for',\n",
       " 'permission',\n",
       " 'p',\n",
       " 'p',\n",
       " 'a',\n",
       " 'href',\n",
       " 'https',\n",
       " 'www',\n",
       " 'iana',\n",
       " 'org',\n",
       " 'domains',\n",
       " 'example',\n",
       " 'More',\n",
       " 'information',\n",
       " 'a',\n",
       " 'p',\n",
       " 'div',\n",
       " 'body',\n",
       " 'html']"
      ]
     },
     "execution_count": 10,
     "metadata": {},
     "output_type": "execute_result"
    }
   ],
   "source": [
    "re.findall('[a-z]+',resp.text, flags=re.I)"
   ]
  },
  {
   "cell_type": "code",
   "execution_count": 11,
   "metadata": {},
   "outputs": [
    {
     "data": {
      "text/plain": [
       "'<!doctype html>\\n<html>\\n<head>\\n    <title>Example Domain</title>\\n\\n    <meta charset=\"utf-8\" />\\n    <meta http-equiv=\"Content-type\" content=\"text/html; charset=utf-8\" />\\n    <meta name=\"viewport\" content=\"width=device-width, initial-scale=1\" />\\n    <style type=\"text/css\">\\n    body {\\n        background-color: #f0f0f2;\\n        margin: 0;\\n        padding: 0;\\n        font-family: -apple-system, system-ui, BlinkMacSystemFont, \"Segoe UI\", \"Open Sans\", \"Helvetica Neue\", Helvetica, Arial, sans-serif;\\n        \\n    }\\n    div {\\n        width: 600px;\\n        margin: 5em auto;\\n        padding: 2em;\\n        background-color: #fdfdff;\\n        border-radius: 0.5em;\\n        box-shadow: 2px 3px 7px 2px rgba(0,0,0,0.02);\\n    }\\n    a:link, a:visited {\\n        color: #38488f;\\n        text-decoration: none;\\n    }\\n    @media (max-width: 700px) {\\n        div {\\n            margin: 0 auto;\\n            width: auto;\\n        }\\n    }\\n    </style>    \\n</head>\\n\\n<body>\\n<div>\\n    <h1>Example Domain</h1>\\n    <p>This domain is for use in illustrative examples in documents. You may use this\\n    domain in literature without prior coordination or asking for permission.</p>\\n    <p><a href=\"https://www.iana.org/domains/example\">More information...</a></p>\\n</div>\\n</body>\\n</html>\\n'"
      ]
     },
     "execution_count": 11,
     "metadata": {},
     "output_type": "execute_result"
    }
   ],
   "source": [
    "resp.content.decode()\n",
    "# bytes: basic unit, 8 binary digits"
   ]
  },
  {
   "cell_type": "code",
   "execution_count": 12,
   "metadata": {},
   "outputs": [
    {
     "data": {
      "text/plain": [
       "<Response [200]>"
      ]
     },
     "execution_count": 12,
     "metadata": {},
     "output_type": "execute_result"
    }
   ],
   "source": [
    "# turn off the warning message\n",
    "requests.packages.urllib3.disable_warnings()\n",
    "\n",
    "agent = {\n",
    "    'User-Agent' : 'Mozilla/5.0 (Windows NT 10.0; Win64; x64) AppleWebKit/537.36 (KHTML, like Gecko) Chrome/94.0.4606.71 Safari/537.36'\n",
    "}\n",
    "requests.get('https://www.amazon.com', headers = agent, verify=False)\n",
    "\n",
    "# always use this structure from now on."
   ]
  },
  {
   "cell_type": "code",
   "execution_count": null,
   "metadata": {},
   "outputs": [],
   "source": []
  },
  {
   "cell_type": "code",
   "execution_count": null,
   "metadata": {},
   "outputs": [],
   "source": []
  },
  {
   "cell_type": "code",
   "execution_count": null,
   "metadata": {},
   "outputs": [],
   "source": []
  },
  {
   "cell_type": "code",
   "execution_count": null,
   "metadata": {},
   "outputs": [],
   "source": []
  },
  {
   "cell_type": "code",
   "execution_count": null,
   "metadata": {},
   "outputs": [],
   "source": []
  }
 ],
 "metadata": {
  "kernelspec": {
   "display_name": "Python 3",
   "language": "python",
   "name": "python3"
  },
  "language_info": {
   "codemirror_mode": {
    "name": "ipython",
    "version": 3
   },
   "file_extension": ".py",
   "mimetype": "text/x-python",
   "name": "python",
   "nbconvert_exporter": "python",
   "pygments_lexer": "ipython3",
   "version": "3.11.4"
  },
  "orig_nbformat": 4
 },
 "nbformat": 4,
 "nbformat_minor": 2
}
